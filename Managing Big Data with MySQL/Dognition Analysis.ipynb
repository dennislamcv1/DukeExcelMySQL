{
 "cells": [
  {
   "cell_type": "markdown",
   "metadata": {},
   "source": [
    "## Dognition Analysis"
   ]
  },
  {
   "cell_type": "markdown",
   "metadata": {},
   "source": [
    "***"
   ]
  },
  {
   "cell_type": "markdown",
   "metadata": {},
   "source": [
    "### Markdown Guides"
   ]
  },
  {
   "cell_type": "markdown",
   "metadata": {},
   "source": [
    "> This is a blockquote.\n",
    "\n",
    "Some of these words *are emphasized*.\n",
    "\n",
    "Use two asterisks for **strong emphasis**.\n",
    "\n",
    "*   Another item in the list.\n",
    "\n",
    "This is an [example link](http://example.com/).\n",
    "\n",
    "$x = x + y$\n",
    "\n",
    "[text to appear as link](#linkhandle)\n",
    "\n",
    "Images inline\n",
    "![image](https://imgbbb.com/images/2019/12/18/Screenshot-2019-12-18-at-12.55.36-PM.png)"
   ]
  },
  {
   "cell_type": "markdown",
   "metadata": {},
   "source": [
    "## Project Description"
   ]
  },
  {
   "cell_type": "markdown",
   "metadata": {},
   "source": [
    "Test Relationships Between Test Completion and Dog Characteristics"
   ]
  },
  {
   "cell_type": "markdown",
   "metadata": {},
   "source": [
    "## Data Dictionary"
   ]
  },
  {
   "cell_type": "markdown",
   "metadata": {},
   "source": [
    "| Field          | Description                                                                           |\n",
    "|----------------|---------------------------------------------------------------------------------------|\n",
    "| |\t|\n",
    "| |\t|\n",
    "| |\t|\n",
    "| |\t|\n",
    "| |\t|\n",
    "| |\t|\n",
    "| |\t|\n",
    "| |\t|\n",
    "| |\t|\n",
    "| |\t|\n",
    "| |\t|\n",
    "| |\t|\n",
    "| |\t|\n",
    "| |\t|\n",
    "| |\t|\n",
    "| |\t|\n",
    "| |\t|\n",
    "| |\t|"
   ]
  },
  {
   "cell_type": "markdown",
   "metadata": {},
   "source": [
    "## Summary"
   ]
  },
  {
   "cell_type": "markdown",
   "metadata": {},
   "source": []
  },
  {
   "cell_type": "markdown",
   "metadata": {},
   "source": [
    "### Import Libraries"
   ]
  },
  {
   "cell_type": "code",
   "execution_count": 1,
   "metadata": {},
   "outputs": [
    {
     "data": {
      "application/javascript": [
       "IPython.notebook.set_autosave_interval(60000)"
      ]
     },
     "metadata": {},
     "output_type": "display_data"
    },
    {
     "name": "stdout",
     "output_type": "stream",
     "text": [
      "Autosaving every 60 seconds\n"
     ]
    }
   ],
   "source": [
    "import numpy as np\n",
    "import pandas as pd\n",
    "import matplotlib.pyplot as plt\n",
    "import seaborn as sns\n",
    "import statsmodels.api as sm\n",
    "from statsmodels.formula.api import ols\n",
    "import datetime\n",
    "from datetime import datetime, timedelta\n",
    "import scipy.stats\n",
    "import pandas_profiling\n",
    "from pandas_profiling import ProfileReport\n",
    "\n",
    "\n",
    "%matplotlib inline\n",
    "#sets the default autosave frequency in seconds\n",
    "%autosave 60 \n",
    "sns.set_style('dark')\n",
    "sns.set(font_scale=1.2)\n",
    "\n",
    "plt.rc('axes', titlesize=9)\n",
    "plt.rc('axes', labelsize=14)\n",
    "plt.rc('xtick', labelsize=12)\n",
    "plt.rc('ytick', labelsize=12)\n",
    "\n",
    "import warnings\n",
    "warnings.filterwarnings('ignore')\n",
    "\n",
    "# Use Folium library to plot values on a map.\n",
    "#import folium\n",
    "\n",
    "# Use Feature-Engine library\n",
    "#import feature_engine\n",
    "#import feature_engine.missing_data_imputers as mdi\n",
    "#from feature_engine.outlier_removers import Winsorizer\n",
    "#from feature_engine import categorical_encoders as ce\n",
    "#from feature_engine.discretisation import EqualWidthDiscretiser, EqualFrequencyDiscretiser, DecisionTreeDiscretiser\n",
    "#from feature_engine.encoding import OrdinalEncoder\n",
    "\n",
    "pd.set_option('display.max_columns',None)\n",
    "#pd.set_option('display.max_rows',None)\n",
    "pd.set_option('display.width', 1000)\n",
    "pd.option_context('float_format','{:.2f}'.format)\n",
    "\n",
    "np.random.seed(0)\n",
    "np.set_printoptions(suppress=True)"
   ]
  },
  {
   "cell_type": "code",
   "execution_count": 3,
   "metadata": {},
   "outputs": [],
   "source": [
    "df = pd.read_csv(\"dogs2.csv\",parse_dates=['created_at','updated_at'])"
   ]
  },
  {
   "cell_type": "code",
   "execution_count": 4,
   "metadata": {},
   "outputs": [
    {
     "data": {
      "text/html": [
       "<div>\n",
       "<style scoped>\n",
       "    .dataframe tbody tr th:only-of-type {\n",
       "        vertical-align: middle;\n",
       "    }\n",
       "\n",
       "    .dataframe tbody tr th {\n",
       "        vertical-align: top;\n",
       "    }\n",
       "\n",
       "    .dataframe thead th {\n",
       "        text-align: right;\n",
       "    }\n",
       "</style>\n",
       "<table border=\"1\" class=\"dataframe\">\n",
       "  <thead>\n",
       "    <tr style=\"text-align: right;\">\n",
       "      <th></th>\n",
       "      <th>gender</th>\n",
       "      <th>birthday</th>\n",
       "      <th>breed</th>\n",
       "      <th>weight</th>\n",
       "      <th>dog_fixed</th>\n",
       "      <th>dna_tested</th>\n",
       "      <th>created_at</th>\n",
       "      <th>updated_at</th>\n",
       "      <th>dimension</th>\n",
       "      <th>exclude</th>\n",
       "      <th>breed_type</th>\n",
       "      <th>breed_group</th>\n",
       "      <th>dog_guid</th>\n",
       "      <th>user_guid</th>\n",
       "      <th>total_tests_completed</th>\n",
       "    </tr>\n",
       "  </thead>\n",
       "  <tbody>\n",
       "    <tr>\n",
       "      <th>0</th>\n",
       "      <td>female</td>\n",
       "      <td>2011</td>\n",
       "      <td>Labrador Retriever</td>\n",
       "      <td>50</td>\n",
       "      <td>1.0</td>\n",
       "      <td>0.0</td>\n",
       "      <td>2013-05-02 03:57:00</td>\n",
       "      <td>2013-07-25 19:41:00</td>\n",
       "      <td>charmer</td>\n",
       "      <td>NaN</td>\n",
       "      <td>Pure Breed</td>\n",
       "      <td>Sporting</td>\n",
       "      <td>fd27b272-7144-11e5-ba71-058fbc01cf0b</td>\n",
       "      <td>ce134e42-7144-11e5-ba71-058fbc01cf0b</td>\n",
       "      <td>21.0</td>\n",
       "    </tr>\n",
       "    <tr>\n",
       "      <th>1</th>\n",
       "      <td>male</td>\n",
       "      <td>2007</td>\n",
       "      <td>Shetland Sheepdog</td>\n",
       "      <td>20</td>\n",
       "      <td>1.0</td>\n",
       "      <td>0.0</td>\n",
       "      <td>2013-05-02 15:35:00</td>\n",
       "      <td>2013-07-25 19:41:00</td>\n",
       "      <td>protodog</td>\n",
       "      <td>NaN</td>\n",
       "      <td>Pure Breed</td>\n",
       "      <td>Herding</td>\n",
       "      <td>fd27b5ba-7144-11e5-ba71-058fbc01cf0b</td>\n",
       "      <td>ce1353d8-7144-11e5-ba71-058fbc01cf0b</td>\n",
       "      <td>20.0</td>\n",
       "    </tr>\n",
       "    <tr>\n",
       "      <th>2</th>\n",
       "      <td>male</td>\n",
       "      <td>2012</td>\n",
       "      <td>Golden Retriever</td>\n",
       "      <td>70</td>\n",
       "      <td>0.0</td>\n",
       "      <td>1.0</td>\n",
       "      <td>2013-05-02 17:22:00</td>\n",
       "      <td>2013-07-25 19:41:00</td>\n",
       "      <td>NaN</td>\n",
       "      <td>NaN</td>\n",
       "      <td>Pure Breed</td>\n",
       "      <td>Sporting</td>\n",
       "      <td>fd27b6b4-7144-11e5-ba71-058fbc01cf0b</td>\n",
       "      <td>ce135ab8-7144-11e5-ba71-058fbc01cf0b</td>\n",
       "      <td>2.0</td>\n",
       "    </tr>\n",
       "    <tr>\n",
       "      <th>3</th>\n",
       "      <td>male</td>\n",
       "      <td>2011</td>\n",
       "      <td>Golden Retriever</td>\n",
       "      <td>70</td>\n",
       "      <td>0.0</td>\n",
       "      <td>0.0</td>\n",
       "      <td>2013-05-02 17:40:00</td>\n",
       "      <td>2014-05-30 15:52:00</td>\n",
       "      <td>NaN</td>\n",
       "      <td>NaN</td>\n",
       "      <td>Pure Breed</td>\n",
       "      <td>Sporting</td>\n",
       "      <td>fd27b79a-7144-11e5-ba71-058fbc01cf0b</td>\n",
       "      <td>ce13507c-7144-11e5-ba71-058fbc01cf0b</td>\n",
       "      <td>11.0</td>\n",
       "    </tr>\n",
       "    <tr>\n",
       "      <th>4</th>\n",
       "      <td>female</td>\n",
       "      <td>2010</td>\n",
       "      <td>Shih Tzu</td>\n",
       "      <td>190</td>\n",
       "      <td>0.0</td>\n",
       "      <td>0.0</td>\n",
       "      <td>2013-05-02 18:12:00</td>\n",
       "      <td>2014-05-30 15:52:00</td>\n",
       "      <td>einstein</td>\n",
       "      <td>1.0</td>\n",
       "      <td>Pure Breed</td>\n",
       "      <td>Toy</td>\n",
       "      <td>fd27b86c-7144-11e5-ba71-058fbc01cf0b</td>\n",
       "      <td>ce135e14-7144-11e5-ba71-058fbc01cf0b</td>\n",
       "      <td>31.0</td>\n",
       "    </tr>\n",
       "    <tr>\n",
       "      <th>...</th>\n",
       "      <td>...</td>\n",
       "      <td>...</td>\n",
       "      <td>...</td>\n",
       "      <td>...</td>\n",
       "      <td>...</td>\n",
       "      <td>...</td>\n",
       "      <td>...</td>\n",
       "      <td>...</td>\n",
       "      <td>...</td>\n",
       "      <td>...</td>\n",
       "      <td>...</td>\n",
       "      <td>...</td>\n",
       "      <td>...</td>\n",
       "      <td>...</td>\n",
       "      <td>...</td>\n",
       "    </tr>\n",
       "    <tr>\n",
       "      <th>35045</th>\n",
       "      <td>male</td>\n",
       "      <td>2010</td>\n",
       "      <td>Australian Shepherd</td>\n",
       "      <td>50</td>\n",
       "      <td>1.0</td>\n",
       "      <td>NaN</td>\n",
       "      <td>2015-12-10 21:39:00</td>\n",
       "      <td>2015-12-10 21:54:00</td>\n",
       "      <td>NaN</td>\n",
       "      <td>NaN</td>\n",
       "      <td>Pure Breed</td>\n",
       "      <td>Herding</td>\n",
       "      <td>fdc2424c-7144-11e5-ba71-058fbc01cf0b</td>\n",
       "      <td>ce9b3708-7144-11e5-ba71-058fbc01cf0b</td>\n",
       "      <td>NaN</td>\n",
       "    </tr>\n",
       "    <tr>\n",
       "      <th>35046</th>\n",
       "      <td>female</td>\n",
       "      <td>2008</td>\n",
       "      <td>Havanese</td>\n",
       "      <td>10</td>\n",
       "      <td>1.0</td>\n",
       "      <td>NaN</td>\n",
       "      <td>2015-12-10 21:46:00</td>\n",
       "      <td>2015-12-10 21:47:00</td>\n",
       "      <td>NaN</td>\n",
       "      <td>NaN</td>\n",
       "      <td>Pure Breed</td>\n",
       "      <td>Toy</td>\n",
       "      <td>fdc242ba-7144-11e5-ba71-058fbc01cf0b</td>\n",
       "      <td>ce9b376c-7144-11e5-ba71-058fbc01cf0b</td>\n",
       "      <td>NaN</td>\n",
       "    </tr>\n",
       "    <tr>\n",
       "      <th>35047</th>\n",
       "      <td>male</td>\n",
       "      <td>2010</td>\n",
       "      <td>Mixed</td>\n",
       "      <td>10</td>\n",
       "      <td>NaN</td>\n",
       "      <td>NaN</td>\n",
       "      <td>2015-12-10 21:49:00</td>\n",
       "      <td>2015-12-10 21:49:00</td>\n",
       "      <td>NaN</td>\n",
       "      <td>NaN</td>\n",
       "      <td>Mixed Breed/ Other/ I Don't Know</td>\n",
       "      <td>NaN</td>\n",
       "      <td>fdc24328-7144-11e5-ba71-058fbc01cf0b</td>\n",
       "      <td>ce9b37d0-7144-11e5-ba71-058fbc01cf0b</td>\n",
       "      <td>NaN</td>\n",
       "    </tr>\n",
       "    <tr>\n",
       "      <th>35048</th>\n",
       "      <td>female</td>\n",
       "      <td>2013</td>\n",
       "      <td>Labrador Retriever</td>\n",
       "      <td>50</td>\n",
       "      <td>0.0</td>\n",
       "      <td>NaN</td>\n",
       "      <td>2015-12-10 21:50:00</td>\n",
       "      <td>2015-12-10 21:50:00</td>\n",
       "      <td>NaN</td>\n",
       "      <td>NaN</td>\n",
       "      <td>Pure Breed</td>\n",
       "      <td>Sporting</td>\n",
       "      <td>fdc243a0-7144-11e5-ba71-058fbc01cf0b</td>\n",
       "      <td>ce9b3834-7144-11e5-ba71-058fbc01cf0b</td>\n",
       "      <td>NaN</td>\n",
       "    </tr>\n",
       "    <tr>\n",
       "      <th>35049</th>\n",
       "      <td>male</td>\n",
       "      <td>2008</td>\n",
       "      <td>Havanese</td>\n",
       "      <td>10</td>\n",
       "      <td>1.0</td>\n",
       "      <td>NaN</td>\n",
       "      <td>2015-12-10 21:56:00</td>\n",
       "      <td>2015-12-10 21:58:00</td>\n",
       "      <td>NaN</td>\n",
       "      <td>NaN</td>\n",
       "      <td>Pure Breed</td>\n",
       "      <td>Toy</td>\n",
       "      <td>fdc24404-7144-11e5-ba71-058fbc01cf0b</td>\n",
       "      <td>ce9b376c-7144-11e5-ba71-058fbc01cf0b</td>\n",
       "      <td>NaN</td>\n",
       "    </tr>\n",
       "  </tbody>\n",
       "</table>\n",
       "<p>35050 rows × 15 columns</p>\n",
       "</div>"
      ],
      "text/plain": [
       "       gender  birthday                breed  weight  dog_fixed  dna_tested          created_at          updated_at dimension  exclude                        breed_type breed_group                              dog_guid                             user_guid  total_tests_completed\n",
       "0      female      2011   Labrador Retriever      50        1.0         0.0 2013-05-02 03:57:00 2013-07-25 19:41:00   charmer      NaN                        Pure Breed    Sporting  fd27b272-7144-11e5-ba71-058fbc01cf0b  ce134e42-7144-11e5-ba71-058fbc01cf0b                   21.0\n",
       "1        male      2007    Shetland Sheepdog      20        1.0         0.0 2013-05-02 15:35:00 2013-07-25 19:41:00  protodog      NaN                        Pure Breed     Herding  fd27b5ba-7144-11e5-ba71-058fbc01cf0b  ce1353d8-7144-11e5-ba71-058fbc01cf0b                   20.0\n",
       "2        male      2012     Golden Retriever      70        0.0         1.0 2013-05-02 17:22:00 2013-07-25 19:41:00       NaN      NaN                        Pure Breed    Sporting  fd27b6b4-7144-11e5-ba71-058fbc01cf0b  ce135ab8-7144-11e5-ba71-058fbc01cf0b                    2.0\n",
       "3        male      2011     Golden Retriever      70        0.0         0.0 2013-05-02 17:40:00 2014-05-30 15:52:00       NaN      NaN                        Pure Breed    Sporting  fd27b79a-7144-11e5-ba71-058fbc01cf0b  ce13507c-7144-11e5-ba71-058fbc01cf0b                   11.0\n",
       "4      female      2010             Shih Tzu     190        0.0         0.0 2013-05-02 18:12:00 2014-05-30 15:52:00  einstein      1.0                        Pure Breed         Toy  fd27b86c-7144-11e5-ba71-058fbc01cf0b  ce135e14-7144-11e5-ba71-058fbc01cf0b                   31.0\n",
       "...       ...       ...                  ...     ...        ...         ...                 ...                 ...       ...      ...                               ...         ...                                   ...                                   ...                    ...\n",
       "35045    male      2010  Australian Shepherd      50        1.0         NaN 2015-12-10 21:39:00 2015-12-10 21:54:00       NaN      NaN                        Pure Breed     Herding  fdc2424c-7144-11e5-ba71-058fbc01cf0b  ce9b3708-7144-11e5-ba71-058fbc01cf0b                    NaN\n",
       "35046  female      2008             Havanese      10        1.0         NaN 2015-12-10 21:46:00 2015-12-10 21:47:00       NaN      NaN                        Pure Breed         Toy  fdc242ba-7144-11e5-ba71-058fbc01cf0b  ce9b376c-7144-11e5-ba71-058fbc01cf0b                    NaN\n",
       "35047    male      2010                Mixed      10        NaN         NaN 2015-12-10 21:49:00 2015-12-10 21:49:00       NaN      NaN  Mixed Breed/ Other/ I Don't Know         NaN  fdc24328-7144-11e5-ba71-058fbc01cf0b  ce9b37d0-7144-11e5-ba71-058fbc01cf0b                    NaN\n",
       "35048  female      2013   Labrador Retriever      50        0.0         NaN 2015-12-10 21:50:00 2015-12-10 21:50:00       NaN      NaN                        Pure Breed    Sporting  fdc243a0-7144-11e5-ba71-058fbc01cf0b  ce9b3834-7144-11e5-ba71-058fbc01cf0b                    NaN\n",
       "35049    male      2008             Havanese      10        1.0         NaN 2015-12-10 21:56:00 2015-12-10 21:58:00       NaN      NaN                        Pure Breed         Toy  fdc24404-7144-11e5-ba71-058fbc01cf0b  ce9b376c-7144-11e5-ba71-058fbc01cf0b                    NaN\n",
       "\n",
       "[35050 rows x 15 columns]"
      ]
     },
     "execution_count": 4,
     "metadata": {},
     "output_type": "execute_result"
    }
   ],
   "source": [
    "df"
   ]
  },
  {
   "cell_type": "markdown",
   "metadata": {},
   "source": [
    "## Exploratory Data Analysis"
   ]
  },
  {
   "cell_type": "code",
   "execution_count": 5,
   "metadata": {},
   "outputs": [
    {
     "name": "stdout",
     "output_type": "stream",
     "text": [
      "<class 'pandas.core.frame.DataFrame'>\n",
      "RangeIndex: 35050 entries, 0 to 35049\n",
      "Data columns (total 15 columns):\n",
      " #   Column                 Non-Null Count  Dtype         \n",
      "---  ------                 --------------  -----         \n",
      " 0   gender                 35050 non-null  object        \n",
      " 1   birthday               35050 non-null  int64         \n",
      " 2   breed                  35050 non-null  object        \n",
      " 3   weight                 35050 non-null  int64         \n",
      " 4   dog_fixed              34525 non-null  float64       \n",
      " 5   dna_tested             12733 non-null  float64       \n",
      " 6   created_at             35050 non-null  datetime64[ns]\n",
      " 7   updated_at             35050 non-null  datetime64[ns]\n",
      " 8   dimension              4212 non-null   object        \n",
      " 9   exclude                1025 non-null   float64       \n",
      " 10  breed_type             35050 non-null  object        \n",
      " 11  breed_group            17943 non-null  object        \n",
      " 12  dog_guid               35050 non-null  object        \n",
      " 13  user_guid              35048 non-null  object        \n",
      " 14  total_tests_completed  17985 non-null  float64       \n",
      "dtypes: datetime64[ns](2), float64(4), int64(2), object(7)\n",
      "memory usage: 4.0+ MB\n"
     ]
    }
   ],
   "source": [
    "df.info()"
   ]
  },
  {
   "cell_type": "code",
   "execution_count": 6,
   "metadata": {},
   "outputs": [
    {
     "data": {
      "text/html": [
       "<div>\n",
       "<style scoped>\n",
       "    .dataframe tbody tr th:only-of-type {\n",
       "        vertical-align: middle;\n",
       "    }\n",
       "\n",
       "    .dataframe tbody tr th {\n",
       "        vertical-align: top;\n",
       "    }\n",
       "\n",
       "    .dataframe thead th {\n",
       "        text-align: right;\n",
       "    }\n",
       "</style>\n",
       "<table border=\"1\" class=\"dataframe\">\n",
       "  <thead>\n",
       "    <tr style=\"text-align: right;\">\n",
       "      <th></th>\n",
       "      <th>birthday</th>\n",
       "      <th>weight</th>\n",
       "      <th>dog_fixed</th>\n",
       "      <th>dna_tested</th>\n",
       "      <th>exclude</th>\n",
       "      <th>total_tests_completed</th>\n",
       "    </tr>\n",
       "  </thead>\n",
       "  <tbody>\n",
       "    <tr>\n",
       "      <th>count</th>\n",
       "      <td>35050.000000</td>\n",
       "      <td>35050.000000</td>\n",
       "      <td>34525.000000</td>\n",
       "      <td>12733.000000</td>\n",
       "      <td>1025.000000</td>\n",
       "      <td>17985.000000</td>\n",
       "    </tr>\n",
       "    <tr>\n",
       "      <th>mean</th>\n",
       "      <td>2009.673837</td>\n",
       "      <td>40.124394</td>\n",
       "      <td>0.830326</td>\n",
       "      <td>0.112542</td>\n",
       "      <td>0.832195</td>\n",
       "      <td>9.806672</td>\n",
       "    </tr>\n",
       "    <tr>\n",
       "      <th>std</th>\n",
       "      <td>3.506186</td>\n",
       "      <td>30.439943</td>\n",
       "      <td>0.375352</td>\n",
       "      <td>0.316045</td>\n",
       "      <td>0.373875</td>\n",
       "      <td>7.799331</td>\n",
       "    </tr>\n",
       "    <tr>\n",
       "      <th>min</th>\n",
       "      <td>1981.000000</td>\n",
       "      <td>0.000000</td>\n",
       "      <td>0.000000</td>\n",
       "      <td>0.000000</td>\n",
       "      <td>0.000000</td>\n",
       "      <td>1.000000</td>\n",
       "    </tr>\n",
       "    <tr>\n",
       "      <th>25%</th>\n",
       "      <td>2008.000000</td>\n",
       "      <td>10.000000</td>\n",
       "      <td>1.000000</td>\n",
       "      <td>0.000000</td>\n",
       "      <td>1.000000</td>\n",
       "      <td>4.000000</td>\n",
       "    </tr>\n",
       "    <tr>\n",
       "      <th>50%</th>\n",
       "      <td>2010.000000</td>\n",
       "      <td>40.000000</td>\n",
       "      <td>1.000000</td>\n",
       "      <td>0.000000</td>\n",
       "      <td>1.000000</td>\n",
       "      <td>7.000000</td>\n",
       "    </tr>\n",
       "    <tr>\n",
       "      <th>75%</th>\n",
       "      <td>2012.000000</td>\n",
       "      <td>60.000000</td>\n",
       "      <td>1.000000</td>\n",
       "      <td>0.000000</td>\n",
       "      <td>1.000000</td>\n",
       "      <td>16.000000</td>\n",
       "    </tr>\n",
       "    <tr>\n",
       "      <th>max</th>\n",
       "      <td>2015.000000</td>\n",
       "      <td>250.000000</td>\n",
       "      <td>1.000000</td>\n",
       "      <td>1.000000</td>\n",
       "      <td>1.000000</td>\n",
       "      <td>45.000000</td>\n",
       "    </tr>\n",
       "  </tbody>\n",
       "</table>\n",
       "</div>"
      ],
      "text/plain": [
       "           birthday        weight     dog_fixed    dna_tested      exclude  total_tests_completed\n",
       "count  35050.000000  35050.000000  34525.000000  12733.000000  1025.000000           17985.000000\n",
       "mean    2009.673837     40.124394      0.830326      0.112542     0.832195               9.806672\n",
       "std        3.506186     30.439943      0.375352      0.316045     0.373875               7.799331\n",
       "min     1981.000000      0.000000      0.000000      0.000000     0.000000               1.000000\n",
       "25%     2008.000000     10.000000      1.000000      0.000000     1.000000               4.000000\n",
       "50%     2010.000000     40.000000      1.000000      0.000000     1.000000               7.000000\n",
       "75%     2012.000000     60.000000      1.000000      0.000000     1.000000              16.000000\n",
       "max     2015.000000    250.000000      1.000000      1.000000     1.000000              45.000000"
      ]
     },
     "execution_count": 6,
     "metadata": {},
     "output_type": "execute_result"
    }
   ],
   "source": [
    "df.describe()"
   ]
  },
  {
   "cell_type": "code",
   "execution_count": 7,
   "metadata": {},
   "outputs": [
    {
     "data": {
      "text/plain": [
       "Index(['gender', 'birthday', 'breed', 'weight', 'dog_fixed', 'dna_tested', 'created_at', 'updated_at', 'dimension', 'exclude', 'breed_type', 'breed_group', 'dog_guid', 'user_guid', 'total_tests_completed'], dtype='object')"
      ]
     },
     "execution_count": 7,
     "metadata": {},
     "output_type": "execute_result"
    }
   ],
   "source": [
    "df.columns"
   ]
  },
  {
   "cell_type": "markdown",
   "metadata": {},
   "source": [
    "### 1. Assess whether Dognition personality dimensions are related to the number of tests completed"
   ]
  },
  {
   "cell_type": "code",
   "execution_count": 8,
   "metadata": {},
   "outputs": [
    {
     "data": {
      "text/plain": [
       "array(['charmer', 'protodog', nan, 'einstein', 'stargazer', 'maverick',\n",
       "       'socialite', 'ace', 'expert', 'renaissance-dog'], dtype=object)"
      ]
     },
     "execution_count": 8,
     "metadata": {},
     "output_type": "execute_result"
    }
   ],
   "source": [
    "#write a query that will output all of the distinct values in the dimension column\n",
    "df[\"dimension\"].unique()"
   ]
  },
  {
   "cell_type": "code",
   "execution_count": 10,
   "metadata": {},
   "outputs": [
    {
     "data": {
      "text/html": [
       "<div>\n",
       "<style scoped>\n",
       "    .dataframe tbody tr th:only-of-type {\n",
       "        vertical-align: middle;\n",
       "    }\n",
       "\n",
       "    .dataframe tbody tr th {\n",
       "        vertical-align: top;\n",
       "    }\n",
       "\n",
       "    .dataframe thead th {\n",
       "        text-align: right;\n",
       "    }\n",
       "</style>\n",
       "<table border=\"1\" class=\"dataframe\">\n",
       "  <thead>\n",
       "    <tr style=\"text-align: right;\">\n",
       "      <th></th>\n",
       "      <th>gender</th>\n",
       "      <th>birthday</th>\n",
       "      <th>breed</th>\n",
       "      <th>weight</th>\n",
       "      <th>dog_fixed</th>\n",
       "      <th>dna_tested</th>\n",
       "      <th>created_at</th>\n",
       "      <th>updated_at</th>\n",
       "      <th>dimension</th>\n",
       "      <th>exclude</th>\n",
       "      <th>breed_type</th>\n",
       "      <th>breed_group</th>\n",
       "      <th>dog_guid</th>\n",
       "      <th>user_guid</th>\n",
       "      <th>total_tests_completed</th>\n",
       "    </tr>\n",
       "  </thead>\n",
       "  <tbody>\n",
       "    <tr>\n",
       "      <th>0</th>\n",
       "      <td>female</td>\n",
       "      <td>2011</td>\n",
       "      <td>Labrador Retriever</td>\n",
       "      <td>50</td>\n",
       "      <td>1.0</td>\n",
       "      <td>0.0</td>\n",
       "      <td>2013-05-02 03:57:00</td>\n",
       "      <td>2013-07-25 19:41:00</td>\n",
       "      <td>charmer</td>\n",
       "      <td>NaN</td>\n",
       "      <td>Pure Breed</td>\n",
       "      <td>Sporting</td>\n",
       "      <td>fd27b272-7144-11e5-ba71-058fbc01cf0b</td>\n",
       "      <td>ce134e42-7144-11e5-ba71-058fbc01cf0b</td>\n",
       "      <td>21.0</td>\n",
       "    </tr>\n",
       "    <tr>\n",
       "      <th>1</th>\n",
       "      <td>male</td>\n",
       "      <td>2007</td>\n",
       "      <td>Shetland Sheepdog</td>\n",
       "      <td>20</td>\n",
       "      <td>1.0</td>\n",
       "      <td>0.0</td>\n",
       "      <td>2013-05-02 15:35:00</td>\n",
       "      <td>2013-07-25 19:41:00</td>\n",
       "      <td>protodog</td>\n",
       "      <td>NaN</td>\n",
       "      <td>Pure Breed</td>\n",
       "      <td>Herding</td>\n",
       "      <td>fd27b5ba-7144-11e5-ba71-058fbc01cf0b</td>\n",
       "      <td>ce1353d8-7144-11e5-ba71-058fbc01cf0b</td>\n",
       "      <td>20.0</td>\n",
       "    </tr>\n",
       "    <tr>\n",
       "      <th>2</th>\n",
       "      <td>male</td>\n",
       "      <td>2012</td>\n",
       "      <td>Golden Retriever</td>\n",
       "      <td>70</td>\n",
       "      <td>0.0</td>\n",
       "      <td>1.0</td>\n",
       "      <td>2013-05-02 17:22:00</td>\n",
       "      <td>2013-07-25 19:41:00</td>\n",
       "      <td>NaN</td>\n",
       "      <td>NaN</td>\n",
       "      <td>Pure Breed</td>\n",
       "      <td>Sporting</td>\n",
       "      <td>fd27b6b4-7144-11e5-ba71-058fbc01cf0b</td>\n",
       "      <td>ce135ab8-7144-11e5-ba71-058fbc01cf0b</td>\n",
       "      <td>2.0</td>\n",
       "    </tr>\n",
       "    <tr>\n",
       "      <th>3</th>\n",
       "      <td>male</td>\n",
       "      <td>2011</td>\n",
       "      <td>Golden Retriever</td>\n",
       "      <td>70</td>\n",
       "      <td>0.0</td>\n",
       "      <td>0.0</td>\n",
       "      <td>2013-05-02 17:40:00</td>\n",
       "      <td>2014-05-30 15:52:00</td>\n",
       "      <td>NaN</td>\n",
       "      <td>NaN</td>\n",
       "      <td>Pure Breed</td>\n",
       "      <td>Sporting</td>\n",
       "      <td>fd27b79a-7144-11e5-ba71-058fbc01cf0b</td>\n",
       "      <td>ce13507c-7144-11e5-ba71-058fbc01cf0b</td>\n",
       "      <td>11.0</td>\n",
       "    </tr>\n",
       "    <tr>\n",
       "      <th>4</th>\n",
       "      <td>female</td>\n",
       "      <td>2010</td>\n",
       "      <td>Shih Tzu</td>\n",
       "      <td>190</td>\n",
       "      <td>0.0</td>\n",
       "      <td>0.0</td>\n",
       "      <td>2013-05-02 18:12:00</td>\n",
       "      <td>2014-05-30 15:52:00</td>\n",
       "      <td>einstein</td>\n",
       "      <td>1.0</td>\n",
       "      <td>Pure Breed</td>\n",
       "      <td>Toy</td>\n",
       "      <td>fd27b86c-7144-11e5-ba71-058fbc01cf0b</td>\n",
       "      <td>ce135e14-7144-11e5-ba71-058fbc01cf0b</td>\n",
       "      <td>31.0</td>\n",
       "    </tr>\n",
       "  </tbody>\n",
       "</table>\n",
       "</div>"
      ],
      "text/plain": [
       "   gender  birthday               breed  weight  dog_fixed  dna_tested          created_at          updated_at dimension  exclude  breed_type breed_group                              dog_guid                             user_guid  total_tests_completed\n",
       "0  female      2011  Labrador Retriever      50        1.0         0.0 2013-05-02 03:57:00 2013-07-25 19:41:00   charmer      NaN  Pure Breed    Sporting  fd27b272-7144-11e5-ba71-058fbc01cf0b  ce134e42-7144-11e5-ba71-058fbc01cf0b                   21.0\n",
       "1    male      2007   Shetland Sheepdog      20        1.0         0.0 2013-05-02 15:35:00 2013-07-25 19:41:00  protodog      NaN  Pure Breed     Herding  fd27b5ba-7144-11e5-ba71-058fbc01cf0b  ce1353d8-7144-11e5-ba71-058fbc01cf0b                   20.0\n",
       "2    male      2012    Golden Retriever      70        0.0         1.0 2013-05-02 17:22:00 2013-07-25 19:41:00       NaN      NaN  Pure Breed    Sporting  fd27b6b4-7144-11e5-ba71-058fbc01cf0b  ce135ab8-7144-11e5-ba71-058fbc01cf0b                    2.0\n",
       "3    male      2011    Golden Retriever      70        0.0         0.0 2013-05-02 17:40:00 2014-05-30 15:52:00       NaN      NaN  Pure Breed    Sporting  fd27b79a-7144-11e5-ba71-058fbc01cf0b  ce13507c-7144-11e5-ba71-058fbc01cf0b                   11.0\n",
       "4  female      2010            Shih Tzu     190        0.0         0.0 2013-05-02 18:12:00 2014-05-30 15:52:00  einstein      1.0  Pure Breed         Toy  fd27b86c-7144-11e5-ba71-058fbc01cf0b  ce135e14-7144-11e5-ba71-058fbc01cf0b                   31.0"
      ]
     },
     "execution_count": 10,
     "metadata": {},
     "output_type": "execute_result"
    }
   ],
   "source": [
    "#write a query that will output the Dognition personality dimension and total number of tests completed by each unique DogID\n",
    "df.head()"
   ]
  },
  {
   "cell_type": "code",
   "execution_count": 11,
   "metadata": {},
   "outputs": [],
   "source": [
    "df2 = pd.read_csv(\"completetest.csv\", parse_dates=['created_at','updated_at'])"
   ]
  },
  {
   "cell_type": "code",
   "execution_count": 12,
   "metadata": {},
   "outputs": [
    {
     "data": {
      "text/html": [
       "<div>\n",
       "<style scoped>\n",
       "    .dataframe tbody tr th:only-of-type {\n",
       "        vertical-align: middle;\n",
       "    }\n",
       "\n",
       "    .dataframe tbody tr th {\n",
       "        vertical-align: top;\n",
       "    }\n",
       "\n",
       "    .dataframe thead th {\n",
       "        text-align: right;\n",
       "    }\n",
       "</style>\n",
       "<table border=\"1\" class=\"dataframe\">\n",
       "  <thead>\n",
       "    <tr style=\"text-align: right;\">\n",
       "      <th></th>\n",
       "      <th>created_at</th>\n",
       "      <th>updated_at</th>\n",
       "      <th>user_guid</th>\n",
       "      <th>dog_guid</th>\n",
       "      <th>test_name</th>\n",
       "      <th>subcategory_name</th>\n",
       "    </tr>\n",
       "  </thead>\n",
       "  <tbody>\n",
       "    <tr>\n",
       "      <th>0</th>\n",
       "      <td>2013-02-05 18:26:54</td>\n",
       "      <td>2013-02-05 18:26:54</td>\n",
       "      <td>NaN</td>\n",
       "      <td>fd27b86c-7144-11e5-ba71-058fbc01cf0b</td>\n",
       "      <td>Yawn Warm-up</td>\n",
       "      <td>Empathy</td>\n",
       "    </tr>\n",
       "    <tr>\n",
       "      <th>1</th>\n",
       "      <td>2013-02-05 18:31:03</td>\n",
       "      <td>2013-02-05 18:31:03</td>\n",
       "      <td>NaN</td>\n",
       "      <td>fd27b86c-7144-11e5-ba71-058fbc01cf0b</td>\n",
       "      <td>Yawn Game</td>\n",
       "      <td>Empathy</td>\n",
       "    </tr>\n",
       "    <tr>\n",
       "      <th>2</th>\n",
       "      <td>2013-02-05 18:32:04</td>\n",
       "      <td>2013-02-05 18:32:04</td>\n",
       "      <td>NaN</td>\n",
       "      <td>fd27b86c-7144-11e5-ba71-058fbc01cf0b</td>\n",
       "      <td>Eye Contact Warm-up</td>\n",
       "      <td>Empathy</td>\n",
       "    </tr>\n",
       "    <tr>\n",
       "      <th>3</th>\n",
       "      <td>2013-02-05 18:32:25</td>\n",
       "      <td>2013-02-05 18:32:25</td>\n",
       "      <td>NaN</td>\n",
       "      <td>fd27b86c-7144-11e5-ba71-058fbc01cf0b</td>\n",
       "      <td>Eye Contact Game</td>\n",
       "      <td>Empathy</td>\n",
       "    </tr>\n",
       "    <tr>\n",
       "      <th>4</th>\n",
       "      <td>2013-02-05 18:32:56</td>\n",
       "      <td>2013-02-05 18:32:56</td>\n",
       "      <td>NaN</td>\n",
       "      <td>fd27b86c-7144-11e5-ba71-058fbc01cf0b</td>\n",
       "      <td>Treat Warm-up</td>\n",
       "      <td>Communication</td>\n",
       "    </tr>\n",
       "  </tbody>\n",
       "</table>\n",
       "</div>"
      ],
      "text/plain": [
       "           created_at          updated_at  user_guid                              dog_guid            test_name subcategory_name\n",
       "0 2013-02-05 18:26:54 2013-02-05 18:26:54        NaN  fd27b86c-7144-11e5-ba71-058fbc01cf0b         Yawn Warm-up          Empathy\n",
       "1 2013-02-05 18:31:03 2013-02-05 18:31:03        NaN  fd27b86c-7144-11e5-ba71-058fbc01cf0b            Yawn Game          Empathy\n",
       "2 2013-02-05 18:32:04 2013-02-05 18:32:04        NaN  fd27b86c-7144-11e5-ba71-058fbc01cf0b  Eye Contact Warm-up          Empathy\n",
       "3 2013-02-05 18:32:25 2013-02-05 18:32:25        NaN  fd27b86c-7144-11e5-ba71-058fbc01cf0b     Eye Contact Game          Empathy\n",
       "4 2013-02-05 18:32:56 2013-02-05 18:32:56        NaN  fd27b86c-7144-11e5-ba71-058fbc01cf0b        Treat Warm-up    Communication"
      ]
     },
     "execution_count": 12,
     "metadata": {},
     "output_type": "execute_result"
    }
   ],
   "source": [
    "df2.head()"
   ]
  },
  {
   "cell_type": "code",
   "execution_count": 13,
   "metadata": {},
   "outputs": [],
   "source": [
    "merged_df1 = pd.merge(left=df2, right=df, how='inner', on=\"dog_guid\")"
   ]
  },
  {
   "cell_type": "code",
   "execution_count": 14,
   "metadata": {},
   "outputs": [
    {
     "data": {
      "text/html": [
       "<div>\n",
       "<style scoped>\n",
       "    .dataframe tbody tr th:only-of-type {\n",
       "        vertical-align: middle;\n",
       "    }\n",
       "\n",
       "    .dataframe tbody tr th {\n",
       "        vertical-align: top;\n",
       "    }\n",
       "\n",
       "    .dataframe thead th {\n",
       "        text-align: right;\n",
       "    }\n",
       "</style>\n",
       "<table border=\"1\" class=\"dataframe\">\n",
       "  <thead>\n",
       "    <tr style=\"text-align: right;\">\n",
       "      <th></th>\n",
       "      <th>created_at_x</th>\n",
       "      <th>updated_at_x</th>\n",
       "      <th>user_guid_x</th>\n",
       "      <th>dog_guid</th>\n",
       "      <th>test_name</th>\n",
       "      <th>subcategory_name</th>\n",
       "      <th>gender</th>\n",
       "      <th>birthday</th>\n",
       "      <th>breed</th>\n",
       "      <th>weight</th>\n",
       "      <th>dog_fixed</th>\n",
       "      <th>dna_tested</th>\n",
       "      <th>created_at_y</th>\n",
       "      <th>updated_at_y</th>\n",
       "      <th>dimension</th>\n",
       "      <th>exclude</th>\n",
       "      <th>breed_type</th>\n",
       "      <th>breed_group</th>\n",
       "      <th>user_guid_y</th>\n",
       "      <th>total_tests_completed</th>\n",
       "    </tr>\n",
       "  </thead>\n",
       "  <tbody>\n",
       "    <tr>\n",
       "      <th>0</th>\n",
       "      <td>2013-02-05 18:26:54</td>\n",
       "      <td>2013-02-05 18:26:54</td>\n",
       "      <td>NaN</td>\n",
       "      <td>fd27b86c-7144-11e5-ba71-058fbc01cf0b</td>\n",
       "      <td>Yawn Warm-up</td>\n",
       "      <td>Empathy</td>\n",
       "      <td>female</td>\n",
       "      <td>2010</td>\n",
       "      <td>Shih Tzu</td>\n",
       "      <td>190</td>\n",
       "      <td>0.0</td>\n",
       "      <td>0.0</td>\n",
       "      <td>2013-05-02 18:12:00</td>\n",
       "      <td>2014-05-30 15:52:00</td>\n",
       "      <td>einstein</td>\n",
       "      <td>1.0</td>\n",
       "      <td>Pure Breed</td>\n",
       "      <td>Toy</td>\n",
       "      <td>ce135e14-7144-11e5-ba71-058fbc01cf0b</td>\n",
       "      <td>31.0</td>\n",
       "    </tr>\n",
       "    <tr>\n",
       "      <th>1</th>\n",
       "      <td>2013-02-05 18:31:03</td>\n",
       "      <td>2013-02-05 18:31:03</td>\n",
       "      <td>NaN</td>\n",
       "      <td>fd27b86c-7144-11e5-ba71-058fbc01cf0b</td>\n",
       "      <td>Yawn Game</td>\n",
       "      <td>Empathy</td>\n",
       "      <td>female</td>\n",
       "      <td>2010</td>\n",
       "      <td>Shih Tzu</td>\n",
       "      <td>190</td>\n",
       "      <td>0.0</td>\n",
       "      <td>0.0</td>\n",
       "      <td>2013-05-02 18:12:00</td>\n",
       "      <td>2014-05-30 15:52:00</td>\n",
       "      <td>einstein</td>\n",
       "      <td>1.0</td>\n",
       "      <td>Pure Breed</td>\n",
       "      <td>Toy</td>\n",
       "      <td>ce135e14-7144-11e5-ba71-058fbc01cf0b</td>\n",
       "      <td>31.0</td>\n",
       "    </tr>\n",
       "    <tr>\n",
       "      <th>2</th>\n",
       "      <td>2013-02-05 18:32:04</td>\n",
       "      <td>2013-02-05 18:32:04</td>\n",
       "      <td>NaN</td>\n",
       "      <td>fd27b86c-7144-11e5-ba71-058fbc01cf0b</td>\n",
       "      <td>Eye Contact Warm-up</td>\n",
       "      <td>Empathy</td>\n",
       "      <td>female</td>\n",
       "      <td>2010</td>\n",
       "      <td>Shih Tzu</td>\n",
       "      <td>190</td>\n",
       "      <td>0.0</td>\n",
       "      <td>0.0</td>\n",
       "      <td>2013-05-02 18:12:00</td>\n",
       "      <td>2014-05-30 15:52:00</td>\n",
       "      <td>einstein</td>\n",
       "      <td>1.0</td>\n",
       "      <td>Pure Breed</td>\n",
       "      <td>Toy</td>\n",
       "      <td>ce135e14-7144-11e5-ba71-058fbc01cf0b</td>\n",
       "      <td>31.0</td>\n",
       "    </tr>\n",
       "    <tr>\n",
       "      <th>3</th>\n",
       "      <td>2013-02-05 18:32:25</td>\n",
       "      <td>2013-02-05 18:32:25</td>\n",
       "      <td>NaN</td>\n",
       "      <td>fd27b86c-7144-11e5-ba71-058fbc01cf0b</td>\n",
       "      <td>Eye Contact Game</td>\n",
       "      <td>Empathy</td>\n",
       "      <td>female</td>\n",
       "      <td>2010</td>\n",
       "      <td>Shih Tzu</td>\n",
       "      <td>190</td>\n",
       "      <td>0.0</td>\n",
       "      <td>0.0</td>\n",
       "      <td>2013-05-02 18:12:00</td>\n",
       "      <td>2014-05-30 15:52:00</td>\n",
       "      <td>einstein</td>\n",
       "      <td>1.0</td>\n",
       "      <td>Pure Breed</td>\n",
       "      <td>Toy</td>\n",
       "      <td>ce135e14-7144-11e5-ba71-058fbc01cf0b</td>\n",
       "      <td>31.0</td>\n",
       "    </tr>\n",
       "    <tr>\n",
       "      <th>4</th>\n",
       "      <td>2013-02-05 18:32:56</td>\n",
       "      <td>2013-02-05 18:32:56</td>\n",
       "      <td>NaN</td>\n",
       "      <td>fd27b86c-7144-11e5-ba71-058fbc01cf0b</td>\n",
       "      <td>Treat Warm-up</td>\n",
       "      <td>Communication</td>\n",
       "      <td>female</td>\n",
       "      <td>2010</td>\n",
       "      <td>Shih Tzu</td>\n",
       "      <td>190</td>\n",
       "      <td>0.0</td>\n",
       "      <td>0.0</td>\n",
       "      <td>2013-05-02 18:12:00</td>\n",
       "      <td>2014-05-30 15:52:00</td>\n",
       "      <td>einstein</td>\n",
       "      <td>1.0</td>\n",
       "      <td>Pure Breed</td>\n",
       "      <td>Toy</td>\n",
       "      <td>ce135e14-7144-11e5-ba71-058fbc01cf0b</td>\n",
       "      <td>31.0</td>\n",
       "    </tr>\n",
       "    <tr>\n",
       "      <th>...</th>\n",
       "      <td>...</td>\n",
       "      <td>...</td>\n",
       "      <td>...</td>\n",
       "      <td>...</td>\n",
       "      <td>...</td>\n",
       "      <td>...</td>\n",
       "      <td>...</td>\n",
       "      <td>...</td>\n",
       "      <td>...</td>\n",
       "      <td>...</td>\n",
       "      <td>...</td>\n",
       "      <td>...</td>\n",
       "      <td>...</td>\n",
       "      <td>...</td>\n",
       "      <td>...</td>\n",
       "      <td>...</td>\n",
       "      <td>...</td>\n",
       "      <td>...</td>\n",
       "      <td>...</td>\n",
       "      <td>...</td>\n",
       "    </tr>\n",
       "    <tr>\n",
       "      <th>193074</th>\n",
       "      <td>2015-10-12 21:17:19</td>\n",
       "      <td>2015-10-12 21:17:19</td>\n",
       "      <td>NaN</td>\n",
       "      <td>fdc2417a-7144-11e5-ba71-058fbc01cf0b</td>\n",
       "      <td>Yawn Game</td>\n",
       "      <td>Empathy</td>\n",
       "      <td>male</td>\n",
       "      <td>2005</td>\n",
       "      <td>Bichon Frise</td>\n",
       "      <td>0</td>\n",
       "      <td>1.0</td>\n",
       "      <td>NaN</td>\n",
       "      <td>2015-12-10 20:52:00</td>\n",
       "      <td>2015-12-10 20:56:00</td>\n",
       "      <td>NaN</td>\n",
       "      <td>NaN</td>\n",
       "      <td>Pure Breed</td>\n",
       "      <td>Non-Sporting</td>\n",
       "      <td>ce9b35e6-7144-11e5-ba71-058fbc01cf0b</td>\n",
       "      <td>6.0</td>\n",
       "    </tr>\n",
       "    <tr>\n",
       "      <th>193075</th>\n",
       "      <td>2015-10-12 21:21:41</td>\n",
       "      <td>2015-10-12 21:21:41</td>\n",
       "      <td>NaN</td>\n",
       "      <td>fdc2417a-7144-11e5-ba71-058fbc01cf0b</td>\n",
       "      <td>Eye Contact Warm-up</td>\n",
       "      <td>Empathy</td>\n",
       "      <td>male</td>\n",
       "      <td>2005</td>\n",
       "      <td>Bichon Frise</td>\n",
       "      <td>0</td>\n",
       "      <td>1.0</td>\n",
       "      <td>NaN</td>\n",
       "      <td>2015-12-10 20:52:00</td>\n",
       "      <td>2015-12-10 20:56:00</td>\n",
       "      <td>NaN</td>\n",
       "      <td>NaN</td>\n",
       "      <td>Pure Breed</td>\n",
       "      <td>Non-Sporting</td>\n",
       "      <td>ce9b35e6-7144-11e5-ba71-058fbc01cf0b</td>\n",
       "      <td>6.0</td>\n",
       "    </tr>\n",
       "    <tr>\n",
       "      <th>193076</th>\n",
       "      <td>2015-10-12 21:25:00</td>\n",
       "      <td>2015-10-12 21:25:00</td>\n",
       "      <td>NaN</td>\n",
       "      <td>fdc2417a-7144-11e5-ba71-058fbc01cf0b</td>\n",
       "      <td>Eye Contact Game</td>\n",
       "      <td>Empathy</td>\n",
       "      <td>male</td>\n",
       "      <td>2005</td>\n",
       "      <td>Bichon Frise</td>\n",
       "      <td>0</td>\n",
       "      <td>1.0</td>\n",
       "      <td>NaN</td>\n",
       "      <td>2015-12-10 20:52:00</td>\n",
       "      <td>2015-12-10 20:56:00</td>\n",
       "      <td>NaN</td>\n",
       "      <td>NaN</td>\n",
       "      <td>Pure Breed</td>\n",
       "      <td>Non-Sporting</td>\n",
       "      <td>ce9b35e6-7144-11e5-ba71-058fbc01cf0b</td>\n",
       "      <td>6.0</td>\n",
       "    </tr>\n",
       "    <tr>\n",
       "      <th>193077</th>\n",
       "      <td>2015-10-12 21:34:57</td>\n",
       "      <td>2015-10-12 21:34:57</td>\n",
       "      <td>NaN</td>\n",
       "      <td>fdc2417a-7144-11e5-ba71-058fbc01cf0b</td>\n",
       "      <td>Treat Warm-up</td>\n",
       "      <td>Communication</td>\n",
       "      <td>male</td>\n",
       "      <td>2005</td>\n",
       "      <td>Bichon Frise</td>\n",
       "      <td>0</td>\n",
       "      <td>1.0</td>\n",
       "      <td>NaN</td>\n",
       "      <td>2015-12-10 20:52:00</td>\n",
       "      <td>2015-12-10 20:56:00</td>\n",
       "      <td>NaN</td>\n",
       "      <td>NaN</td>\n",
       "      <td>Pure Breed</td>\n",
       "      <td>Non-Sporting</td>\n",
       "      <td>ce9b35e6-7144-11e5-ba71-058fbc01cf0b</td>\n",
       "      <td>6.0</td>\n",
       "    </tr>\n",
       "    <tr>\n",
       "      <th>193078</th>\n",
       "      <td>2015-10-12 21:42:36</td>\n",
       "      <td>2015-10-12 21:42:36</td>\n",
       "      <td>NaN</td>\n",
       "      <td>fdc2417a-7144-11e5-ba71-058fbc01cf0b</td>\n",
       "      <td>Arm Pointing</td>\n",
       "      <td>Communication</td>\n",
       "      <td>male</td>\n",
       "      <td>2005</td>\n",
       "      <td>Bichon Frise</td>\n",
       "      <td>0</td>\n",
       "      <td>1.0</td>\n",
       "      <td>NaN</td>\n",
       "      <td>2015-12-10 20:52:00</td>\n",
       "      <td>2015-12-10 20:56:00</td>\n",
       "      <td>NaN</td>\n",
       "      <td>NaN</td>\n",
       "      <td>Pure Breed</td>\n",
       "      <td>Non-Sporting</td>\n",
       "      <td>ce9b35e6-7144-11e5-ba71-058fbc01cf0b</td>\n",
       "      <td>6.0</td>\n",
       "    </tr>\n",
       "  </tbody>\n",
       "</table>\n",
       "<p>193079 rows × 20 columns</p>\n",
       "</div>"
      ],
      "text/plain": [
       "              created_at_x        updated_at_x  user_guid_x                              dog_guid            test_name subcategory_name  gender  birthday         breed  weight  dog_fixed  dna_tested        created_at_y        updated_at_y dimension  exclude  breed_type   breed_group                           user_guid_y  total_tests_completed\n",
       "0      2013-02-05 18:26:54 2013-02-05 18:26:54          NaN  fd27b86c-7144-11e5-ba71-058fbc01cf0b         Yawn Warm-up          Empathy  female      2010      Shih Tzu     190        0.0         0.0 2013-05-02 18:12:00 2014-05-30 15:52:00  einstein      1.0  Pure Breed           Toy  ce135e14-7144-11e5-ba71-058fbc01cf0b                   31.0\n",
       "1      2013-02-05 18:31:03 2013-02-05 18:31:03          NaN  fd27b86c-7144-11e5-ba71-058fbc01cf0b            Yawn Game          Empathy  female      2010      Shih Tzu     190        0.0         0.0 2013-05-02 18:12:00 2014-05-30 15:52:00  einstein      1.0  Pure Breed           Toy  ce135e14-7144-11e5-ba71-058fbc01cf0b                   31.0\n",
       "2      2013-02-05 18:32:04 2013-02-05 18:32:04          NaN  fd27b86c-7144-11e5-ba71-058fbc01cf0b  Eye Contact Warm-up          Empathy  female      2010      Shih Tzu     190        0.0         0.0 2013-05-02 18:12:00 2014-05-30 15:52:00  einstein      1.0  Pure Breed           Toy  ce135e14-7144-11e5-ba71-058fbc01cf0b                   31.0\n",
       "3      2013-02-05 18:32:25 2013-02-05 18:32:25          NaN  fd27b86c-7144-11e5-ba71-058fbc01cf0b     Eye Contact Game          Empathy  female      2010      Shih Tzu     190        0.0         0.0 2013-05-02 18:12:00 2014-05-30 15:52:00  einstein      1.0  Pure Breed           Toy  ce135e14-7144-11e5-ba71-058fbc01cf0b                   31.0\n",
       "4      2013-02-05 18:32:56 2013-02-05 18:32:56          NaN  fd27b86c-7144-11e5-ba71-058fbc01cf0b        Treat Warm-up    Communication  female      2010      Shih Tzu     190        0.0         0.0 2013-05-02 18:12:00 2014-05-30 15:52:00  einstein      1.0  Pure Breed           Toy  ce135e14-7144-11e5-ba71-058fbc01cf0b                   31.0\n",
       "...                    ...                 ...          ...                                   ...                  ...              ...     ...       ...           ...     ...        ...         ...                 ...                 ...       ...      ...         ...           ...                                   ...                    ...\n",
       "193074 2015-10-12 21:17:19 2015-10-12 21:17:19          NaN  fdc2417a-7144-11e5-ba71-058fbc01cf0b            Yawn Game          Empathy    male      2005  Bichon Frise       0        1.0         NaN 2015-12-10 20:52:00 2015-12-10 20:56:00       NaN      NaN  Pure Breed  Non-Sporting  ce9b35e6-7144-11e5-ba71-058fbc01cf0b                    6.0\n",
       "193075 2015-10-12 21:21:41 2015-10-12 21:21:41          NaN  fdc2417a-7144-11e5-ba71-058fbc01cf0b  Eye Contact Warm-up          Empathy    male      2005  Bichon Frise       0        1.0         NaN 2015-12-10 20:52:00 2015-12-10 20:56:00       NaN      NaN  Pure Breed  Non-Sporting  ce9b35e6-7144-11e5-ba71-058fbc01cf0b                    6.0\n",
       "193076 2015-10-12 21:25:00 2015-10-12 21:25:00          NaN  fdc2417a-7144-11e5-ba71-058fbc01cf0b     Eye Contact Game          Empathy    male      2005  Bichon Frise       0        1.0         NaN 2015-12-10 20:52:00 2015-12-10 20:56:00       NaN      NaN  Pure Breed  Non-Sporting  ce9b35e6-7144-11e5-ba71-058fbc01cf0b                    6.0\n",
       "193077 2015-10-12 21:34:57 2015-10-12 21:34:57          NaN  fdc2417a-7144-11e5-ba71-058fbc01cf0b        Treat Warm-up    Communication    male      2005  Bichon Frise       0        1.0         NaN 2015-12-10 20:52:00 2015-12-10 20:56:00       NaN      NaN  Pure Breed  Non-Sporting  ce9b35e6-7144-11e5-ba71-058fbc01cf0b                    6.0\n",
       "193078 2015-10-12 21:42:36 2015-10-12 21:42:36          NaN  fdc2417a-7144-11e5-ba71-058fbc01cf0b         Arm Pointing    Communication    male      2005  Bichon Frise       0        1.0         NaN 2015-12-10 20:52:00 2015-12-10 20:56:00       NaN      NaN  Pure Breed  Non-Sporting  ce9b35e6-7144-11e5-ba71-058fbc01cf0b                    6.0\n",
       "\n",
       "[193079 rows x 20 columns]"
      ]
     },
     "execution_count": 14,
     "metadata": {},
     "output_type": "execute_result"
    }
   ],
   "source": [
    "merged_df1"
   ]
  },
  {
   "cell_type": "markdown",
   "metadata": {},
   "source": [
    "### Groupby Function"
   ]
  },
  {
   "cell_type": "code",
   "execution_count": null,
   "metadata": {},
   "outputs": [],
   "source": []
  },
  {
   "cell_type": "code",
   "execution_count": null,
   "metadata": {},
   "outputs": [],
   "source": []
  },
  {
   "cell_type": "code",
   "execution_count": null,
   "metadata": {},
   "outputs": [],
   "source": []
  },
  {
   "cell_type": "markdown",
   "metadata": {},
   "source": [
    "### Pandas-Profiling Reports"
   ]
  },
  {
   "cell_type": "code",
   "execution_count": null,
   "metadata": {},
   "outputs": [],
   "source": [
    "profile = ProfileReport(df=df, title='Name of Report', minimal=True)"
   ]
  },
  {
   "cell_type": "code",
   "execution_count": null,
   "metadata": {},
   "outputs": [],
   "source": [
    "profile.to_notebook_iframe()"
   ]
  },
  {
   "cell_type": "code",
   "execution_count": null,
   "metadata": {},
   "outputs": [],
   "source": [
    "profile.to_file(\"your_report.html\")"
   ]
  },
  {
   "cell_type": "markdown",
   "metadata": {},
   "source": [
    "## Data Visualization"
   ]
  },
  {
   "cell_type": "markdown",
   "metadata": {},
   "source": [
    "### Univariate Data Exploration"
   ]
  },
  {
   "cell_type": "code",
   "execution_count": null,
   "metadata": {},
   "outputs": [],
   "source": [
    "df.hist(bins=50, figsize=(20,10))\n",
    "plt.suptitle('Feature Distribution', x=0.5, y=1.02, ha='center', fontsize='large')\n",
    "plt.tight_layout()\n",
    "plt.show()"
   ]
  },
  {
   "cell_type": "code",
   "execution_count": null,
   "metadata": {},
   "outputs": [],
   "source": [
    "df.boxplot(figsize=(20,10))\n",
    "plt.suptitle('BoxPlot', x=0.5, y=1.02, ha='center', fontsize='large')\n",
    "plt.tight_layout()\n",
    "plt.show()"
   ]
  },
  {
   "cell_type": "code",
   "execution_count": null,
   "metadata": {},
   "outputs": [],
   "source": [
    "fig = plt.figure(figsize=(20,40))\n",
    "\n",
    "plt.subplot(7,2,1)\n",
    "plt.title(\"\")\n",
    "sns.countplot()\n",
    "\n",
    "plt.subplot(7,2,2)\n",
    "plt.title(\"\")\n",
    "sns.countplot()\n",
    "\n",
    "plt.subplot(7,2,3)\n",
    "plt.title(\"\")\n",
    "sns.countplot()\n",
    "\n",
    "plt.subplot(7,2,4)\n",
    "plt.title(\"\")\n",
    "sns.countplot()\n",
    "\n",
    "plt.subplot(7,2,5)\n",
    "plt.title(\"\")\n",
    "sns.barplot()\n",
    "\n",
    "plt.subplot(7,2,6)\n",
    "plt.title(\"\")\n",
    "sns.barplot()\n",
    "\n",
    "plt.subplot(7,2,7)\n",
    "plt.title(\"\")\n",
    "sns.barplot()\n",
    "\n",
    "plt.subplot(7,2,8)\n",
    "plt.title(\"\")\n",
    "sns.barplot()\n",
    "\n",
    "plt.subplot(7,2,9)\n",
    "plt.title(\"\")\n",
    "sns.scatterplot()\n",
    "\n",
    "plt.subplot(7,2,10)\n",
    "plt.title(\"\")\n",
    "sns.scatterplot()\n",
    "\n",
    "plt.subplot(7,2,11)\n",
    "plt.title(\"\")\n",
    "sns.countplot()\n",
    "\n",
    "plt.subplot(7,2,12)\n",
    "plt.title(\"\")\n",
    "sns.countplot()\n",
    "\n",
    "plt.subplot(7,2,13)\n",
    "plt.title(\"\")\n",
    "sns.countplot()\n",
    "\n",
    "plt.subplot(7,2,14)\n",
    "plt.title(\"\")\n",
    "sns.countplot()\n",
    "\n",
    "plt.tight_layout()\n",
    "plt.show()"
   ]
  },
  {
   "cell_type": "code",
   "execution_count": null,
   "metadata": {},
   "outputs": [],
   "source": [
    "plt.figure(figsize=(20,20))\n",
    "\n",
    "\n",
    "g = sns.catplot(x='gender', hue = 'tenure', row = 'division',\n",
    "            kind='count', data=ratings_df,\n",
    "            height = 3, aspect = 1)\n",
    "\n",
    "g.set_xlabels(\"Ideology\")\n",
    "g.set_ylabels(\"Bills Passed\")\n",
    "#g = (g.set_axis_labels(\"Tip\",\"Total bill(USD)\").set(xlim=(0,10),ylim=(0,100)\n",
    "\n",
    "\n",
    "g.set(xlim=(0,None))\n",
    "g.set_xticklabels(rotation=90)\n",
    "\n",
    "plt.title(\"title\")\n",
    "\n",
    "plt.show()"
   ]
  },
  {
   "cell_type": "code",
   "execution_count": null,
   "metadata": {},
   "outputs": [],
   "source": [
    "plt.figure(figsize=(20,20))\n",
    "\n",
    "sns.catplot(x=\"calories\", y=\"restaurant\",\n",
    "\n",
    "                hue=\"is_salad\", ci=None,\n",
    "\n",
    "                data=df_calories, color=None, linewidth=3, showfliers = False,\n",
    "\n",
    "                orient=\"h\", height=20, aspect=1, palette=None,\n",
    "\n",
    "                kind=\"box\", dodge=True)\n",
    "\n",
    "plt.show()"
   ]
  },
  {
   "cell_type": "code",
   "execution_count": null,
   "metadata": {},
   "outputs": [],
   "source": [
    "sns.relplot(x=\"age\", y=\"eval\", hue=\"gender\",\n",
    "            row=\"tenure\",\n",
    "            data=ratings_df, height = 3, aspect = 2)"
   ]
  },
  {
   "cell_type": "markdown",
   "metadata": {},
   "source": [
    "### Time-Series Analysis"
   ]
  },
  {
   "cell_type": "code",
   "execution_count": null,
   "metadata": {},
   "outputs": [],
   "source": [
    "timeseries = df[['date','extraction','month', 'day']]"
   ]
  },
  {
   "cell_type": "code",
   "execution_count": null,
   "metadata": {},
   "outputs": [],
   "source": [
    "timeseries"
   ]
  },
  {
   "cell_type": "code",
   "execution_count": null,
   "metadata": {},
   "outputs": [],
   "source": [
    "timeseries.info()"
   ]
  },
  {
   "cell_type": "code",
   "execution_count": null,
   "metadata": {},
   "outputs": [],
   "source": [
    "fig = plt.figure(figsize=(30,10))\n",
    "sns.lineplot(x=df.date,y=df.amount,data=df, estimator=None)\n",
    "plt.title(\"Amount spend per date\")\n",
    "plt.show()"
   ]
  },
  {
   "cell_type": "code",
   "execution_count": null,
   "metadata": {},
   "outputs": [],
   "source": [
    "fig = plt.figure(figsize=(30,10))\n",
    "sns.lineplot(x=df.month,y=df.amount,data=df, estimator=None)\n",
    "plt.title(\"Amount spend per month\")\n",
    "plt.show()"
   ]
  },
  {
   "cell_type": "markdown",
   "metadata": {},
   "source": [
    "### Pairplots"
   ]
  },
  {
   "cell_type": "code",
   "execution_count": null,
   "metadata": {},
   "outputs": [],
   "source": [
    "plt.figure(figsize=(20,20))\n",
    "plt.suptitle('Pairplots of features', x=0.5, y=1.02, ha='center', fontsize='large')\n",
    "sns.pairplot(df.sample(500))\n",
    "plt.show()"
   ]
  },
  {
   "cell_type": "markdown",
   "metadata": {},
   "source": [
    "### Bivariate Data Exploration"
   ]
  },
  {
   "cell_type": "code",
   "execution_count": null,
   "metadata": {},
   "outputs": [],
   "source": [
    "sns.jointplot(x='', y='',data=df, kind='scatter',scatter_kws={'color':'k'},line_kws={'color':'red'})\n",
    "\n",
    "sns.jointplot(x='', y='',data=df, kind='scatter',scatter_kws={'color':'k'},line_kws={'color':'red'})\n",
    "\n",
    "sns.jointplot(x='', y='',data=df, kind='scatter')\n",
    "\n",
    "sns.jointplot(x='', y='',data=df, kind='scatter')\n",
    "\n",
    "sns.jointplot(x='', y='',data=df, kind='kde')\n",
    "\n",
    "sns.jointplot(x='', y='',data=df, kind='kde')\n",
    "\n",
    "sns.jointplot(x='', y='',data=df, kind='hex')\n",
    "\n",
    "sns.jointplot(x='', y='',data=df, kind='hex')\n",
    "\n",
    "sns.jointplot(x='', y='',data=df, kind='reg',scatter_kws={'color':'k'},line_kws={'color':'red'})\n",
    "\n",
    "sns.jointplot(x='', y='',data=df, kind='reg',scatter_kws={'color':'k'},line_kws={'color':'red'})\n",
    "\n",
    "plt.tight_layout()\n",
    "plt.show()"
   ]
  },
  {
   "cell_type": "markdown",
   "metadata": {},
   "source": [
    "### Regression plot"
   ]
  },
  {
   "cell_type": "code",
   "execution_count": null,
   "metadata": {},
   "outputs": [],
   "source": [
    "line_color = {'color': 'red'}\n",
    "fig , ax = plt.subplots(2,2, figsize=(20,20))\n",
    "\n",
    "#BMI\n",
    "\n",
    "ax1 = sns.regplot(x=X_test.bmi, y=lr_pred, line_kws=line_color, ax=ax[0,0])\n",
    "ax1.set_xlabel(\"x\")\n",
    "ax1.set_ylabel(\"y\")\n",
    "\n",
    "\n",
    "#s5\n",
    "\n",
    "ax2 = sns.regplot(x=X_test.s5, y=lr_pred, line_kws=line_color, ax=ax[0,1])\n",
    "ax2.set_xlabel(\"x\")\n",
    "ax2.set_ylabel(\"y\")\n",
    "\n",
    "\n",
    "#bp\n",
    "\n",
    "ax3 = sns.regplot(x=X_test.bp, y=lr_pred, line_kws=line_color, ax=ax[1,0])\n",
    "ax3.set_xlabel(\"x\")\n",
    "ax3.set_ylabel(\"y\")\n",
    "\n",
    "#s4\n",
    "\n",
    "ax4 = sns.regplot(x=X_test.s4, y=lr_pred, line_kws=line_color, ax=ax[1,1])\n",
    "ax4.set_xlabel(\"x\")\n",
    "ax4.set_ylabel(\"y\")\n",
    "\n",
    "plt.show()"
   ]
  },
  {
   "cell_type": "markdown",
   "metadata": {},
   "source": [
    "### FacetGrid"
   ]
  },
  {
   "cell_type": "code",
   "execution_count": null,
   "metadata": {},
   "outputs": [],
   "source": [
    "g = sns.FacetGrid(data=df, col=\"column_name\", height=3, aspect=1)\n",
    "g.map(plt.scatter, \"numeric\", \"numeric\")\n",
    "g.add_legend()\n",
    "plt.show()"
   ]
  },
  {
   "cell_type": "markdown",
   "metadata": {},
   "source": [
    "### Correlation"
   ]
  },
  {
   "cell_type": "code",
   "execution_count": null,
   "metadata": {},
   "outputs": [],
   "source": [
    "df.corr()"
   ]
  },
  {
   "cell_type": "code",
   "execution_count": null,
   "metadata": {},
   "outputs": [],
   "source": [
    "df.corr()[\"target\"].sort_values()"
   ]
  },
  {
   "cell_type": "code",
   "execution_count": null,
   "metadata": {},
   "outputs": [],
   "source": [
    "plt.figure(figsize=(16,9))\n",
    "sns.heatmap(df.corr(),cmap=\"coolwarm\",annot=True,fmt='.2f',linewidths=2)\n",
    "plt.show()"
   ]
  },
  {
   "cell_type": "markdown",
   "metadata": {},
   "source": [
    "## Hypothesis Testing"
   ]
  },
  {
   "cell_type": "markdown",
   "metadata": {},
   "source": [
    "The goal of hypothesis testing is to answer the question, “Given a sample and an apparent effect, what is the probability of seeing such an effect by chance?” The first step is to quantify the size of the apparent effect by choosing a test statistic (t-test, ANOVA, etc). The next step is to define a null hypothesis, which is a model of the system based on the assumption that the apparent effect is not real. Then compute the p-value, which is the probability of the null hypothesis being true, and finally interpret the result of the p-value, if the value is low, the effect is said to be statistically significant, which means that the null hypothesis may not be accurate."
   ]
  },
  {
   "cell_type": "markdown",
   "metadata": {},
   "source": [
    "### T-Test"
   ]
  },
  {
   "cell_type": "markdown",
   "metadata": {},
   "source": [
    "We will be using the t-test for independent samples. For the independent t-test, the following assumptions must be met.\n",
    "\n",
    "-   One independent, categorical variable with two levels or group\n",
    "-   One dependent continuous variable\n",
    "-   Independence of the observations. Each subject should belong to only one group. There is no relationship between the observations in each group.\n",
    "-   The dependent variable must follow a normal distribution\n",
    "-   Assumption of homogeneity of variance\n"
   ]
  },
  {
   "cell_type": "markdown",
   "metadata": {},
   "source": [
    "State the hypothesis\n",
    "\n",
    "-   $H_0: µ\\_1 = µ\\_2$ (\"there is no difference in evaluation scores between male and females\")\n",
    "-   $H_1: µ\\_1 ≠ µ\\_2$ (\"there is a difference in evaluation scores between male and females\")\n"
   ]
  },
  {
   "cell_type": "markdown",
   "metadata": {},
   "source": [
    "### Levene's Test"
   ]
  },
  {
   "cell_type": "code",
   "execution_count": null,
   "metadata": {},
   "outputs": [],
   "source": [
    "scipy.stats.levene(ratings_df[ratings_df['gender'] == 'female']['eval'],\n",
    "                   ratings_df[ratings_df['gender'] == 'male']['eval'], center='mean')"
   ]
  },
  {
   "cell_type": "markdown",
   "metadata": {},
   "source": [
    "## T-Test"
   ]
  },
  {
   "cell_type": "markdown",
   "metadata": {},
   "source": [
    "### One Sample T-Test"
   ]
  },
  {
   "cell_type": "code",
   "execution_count": null,
   "metadata": {},
   "outputs": [],
   "source": [
    "t, p = scipy.stats.ttest_1samp(a=df.dose, popmean=1.166667)"
   ]
  },
  {
   "cell_type": "code",
   "execution_count": null,
   "metadata": {},
   "outputs": [],
   "source": [
    "print(\"T-test value is: \", t)\n",
    "print(\"p-value value is: \", p)"
   ]
  },
  {
   "cell_type": "markdown",
   "metadata": {},
   "source": [
    "### Two Samples T-Test"
   ]
  },
  {
   "cell_type": "code",
   "execution_count": null,
   "metadata": {},
   "outputs": [],
   "source": [
    "t, p = scipy.stats.ttest_ind(a=df.len,b=df.dose, equal_var = True/False)"
   ]
  },
  {
   "cell_type": "code",
   "execution_count": null,
   "metadata": {},
   "outputs": [],
   "source": [
    "print(\"T-test value is: \",t)\n",
    "print(\"p-value value is: \",p)"
   ]
  },
  {
   "cell_type": "markdown",
   "metadata": {},
   "source": [
    "### ANOVA"
   ]
  },
  {
   "cell_type": "markdown",
   "metadata": {},
   "source": [
    "First, we group the data into cateries as the one-way ANOVA can't work with continuous variable - using the example from the video, we will create a new column for this newly assigned group our categories will be teachers that are:\n",
    "\n",
    "-   40 years and younger\n",
    "-   between 40 and 57 years\n",
    "-   57 years and older\n"
   ]
  },
  {
   "cell_type": "markdown",
   "metadata": {},
   "source": [
    "State the hypothesis\n",
    "\n",
    "-   $H_0: µ\\_1 = µ\\_2 = µ\\_3$ (the three population means are equal)\n",
    "-   $H_1:$ At least one of the means differ\n"
   ]
  },
  {
   "cell_type": "markdown",
   "metadata": {},
   "source": [
    "### One Way ANOVA"
   ]
  },
  {
   "cell_type": "code",
   "execution_count": null,
   "metadata": {},
   "outputs": [],
   "source": [
    "mod = ols('len~supp', data=df).fit()"
   ]
  },
  {
   "cell_type": "code",
   "execution_count": null,
   "metadata": {},
   "outputs": [],
   "source": [
    "aov_table = sm.stats.anova_lm(mod,typ=2)"
   ]
  },
  {
   "cell_type": "code",
   "execution_count": null,
   "metadata": {},
   "outputs": [],
   "source": [
    "aov_table"
   ]
  },
  {
   "cell_type": "code",
   "execution_count": null,
   "metadata": {},
   "outputs": [],
   "source": [
    "f_statistic, p_value = scipy.stats.f_oneway(forty_lower, forty_fiftyseven, fiftyseven_older)\n",
    "print(\"F_Statistic: {0}, P-Value: {1}\".format(f_statistic,p_value))"
   ]
  },
  {
   "cell_type": "markdown",
   "metadata": {},
   "source": [
    "### Two-way ANOVA"
   ]
  },
  {
   "cell_type": "code",
   "execution_count": null,
   "metadata": {},
   "outputs": [],
   "source": [
    "mod1 = ols('len~supp+dose', data=df).fit()"
   ]
  },
  {
   "cell_type": "code",
   "execution_count": null,
   "metadata": {},
   "outputs": [],
   "source": [
    "aov1 = sm.stats.anova_lm(mod1,typ=2)"
   ]
  },
  {
   "cell_type": "code",
   "execution_count": null,
   "metadata": {},
   "outputs": [],
   "source": [
    "aov1"
   ]
  },
  {
   "cell_type": "markdown",
   "metadata": {},
   "source": [
    "### Chi-square"
   ]
  },
  {
   "cell_type": "markdown",
   "metadata": {},
   "source": [
    "State the hypothesis:\n",
    "\n",
    "-   $H_0:$ The proportion of teachers who are tenured is independent of gender\n",
    "-   $H_1:$ The proportion of teachers who are tenured is associated with gender"
   ]
  },
  {
   "cell_type": "code",
   "execution_count": null,
   "metadata": {},
   "outputs": [],
   "source": [
    "#Create a Cross-tab table\n",
    "\n",
    "cont_table  = pd.crosstab(ratings_df['tenure'], ratings_df['gender'])\n",
    "cont_table"
   ]
  },
  {
   "cell_type": "code",
   "execution_count": null,
   "metadata": {},
   "outputs": [],
   "source": [
    "scipy.stats.chi2_contingency(cont_table, correction = True)"
   ]
  },
  {
   "cell_type": "code",
   "execution_count": null,
   "metadata": {},
   "outputs": [],
   "source": [
    "chi_square = scipy.stats.chi2_contingency(cont_table, correction = True)"
   ]
  },
  {
   "cell_type": "code",
   "execution_count": null,
   "metadata": {},
   "outputs": [],
   "source": [
    "print(f\"Chi score is\", chi_square[0])"
   ]
  },
  {
   "cell_type": "code",
   "execution_count": null,
   "metadata": {},
   "outputs": [],
   "source": [
    "print(\"P-value is\", chi_square[1])"
   ]
  },
  {
   "cell_type": "code",
   "execution_count": null,
   "metadata": {},
   "outputs": [],
   "source": [
    "print(\"Degrees of freedom is\", chi_square[2])"
   ]
  },
  {
   "cell_type": "markdown",
   "metadata": {},
   "source": [
    "### Correlation"
   ]
  },
  {
   "cell_type": "markdown",
   "metadata": {},
   "source": [
    "State the hypothesis:\n",
    "\n",
    "-   $H_0:$ Teaching evaluation score is not correlated with beauty score\n",
    "-   $H_1:$ Teaching evaluation score is correlated with beauty score\n"
   ]
  },
  {
   "cell_type": "code",
   "execution_count": null,
   "metadata": {},
   "outputs": [],
   "source": [
    "pearson_correlation = scipy.stats.pearsonr(ratings_df['beauty'], ratings_df['eval'])"
   ]
  },
  {
   "cell_type": "code",
   "execution_count": null,
   "metadata": {},
   "outputs": [],
   "source": [
    "print(\"Pearson's correlation coefficient is\", pearson_correlation[0])"
   ]
  },
  {
   "cell_type": "code",
   "execution_count": null,
   "metadata": {},
   "outputs": [],
   "source": [
    "print(\"P-value is\", pearson_correlation[1])"
   ]
  },
  {
   "cell_type": "markdown",
   "metadata": {},
   "source": [
    "## Data Preprocessing"
   ]
  },
  {
   "cell_type": "markdown",
   "metadata": {},
   "source": [
    "### Feature Engineering"
   ]
  },
  {
   "cell_type": "code",
   "execution_count": null,
   "metadata": {},
   "outputs": [],
   "source": []
  },
  {
   "cell_type": "code",
   "execution_count": null,
   "metadata": {},
   "outputs": [],
   "source": []
  },
  {
   "cell_type": "markdown",
   "metadata": {},
   "source": [
    "### Equal Width Discretization"
   ]
  },
  {
   "cell_type": "code",
   "execution_count": null,
   "metadata": {},
   "outputs": [],
   "source": [
    "df[\"demoscorecat\"] = df[\"polityscore\"] #Make a copy"
   ]
  },
  {
   "cell_type": "code",
   "execution_count": null,
   "metadata": {},
   "outputs": [],
   "source": [
    "disc = EqualWidthDiscretiser(bins=4, variables=['demoscorecat'], return_object=True)"
   ]
  },
  {
   "cell_type": "code",
   "execution_count": null,
   "metadata": {},
   "outputs": [],
   "source": [
    "disc"
   ]
  },
  {
   "cell_type": "code",
   "execution_count": null,
   "metadata": {},
   "outputs": [],
   "source": [
    "disc.fit(df)"
   ]
  },
  {
   "cell_type": "code",
   "execution_count": null,
   "metadata": {},
   "outputs": [],
   "source": [
    "disc.binner_dict_"
   ]
  },
  {
   "cell_type": "code",
   "execution_count": null,
   "metadata": {},
   "outputs": [],
   "source": [
    "df2 = disc.fit_transform(df)\n",
    "df2.head()"
   ]
  },
  {
   "cell_type": "code",
   "execution_count": null,
   "metadata": {},
   "outputs": [],
   "source": [
    "df2[\"demoscorecat\"].value_counts().plot.bar()\n",
    "plt.show()"
   ]
  },
  {
   "cell_type": "markdown",
   "metadata": {},
   "source": [
    "### Equal Frequency Discretizer"
   ]
  },
  {
   "cell_type": "code",
   "execution_count": null,
   "metadata": {},
   "outputs": [],
   "source": [
    "df2[\"co2cat\"] = df2[\"co2emissions\"] #Make a copy"
   ]
  },
  {
   "cell_type": "code",
   "execution_count": null,
   "metadata": {},
   "outputs": [],
   "source": [
    "disc = EqualFrequencyDiscretiser(q=5, variables=['co2cat'])"
   ]
  },
  {
   "cell_type": "code",
   "execution_count": null,
   "metadata": {},
   "outputs": [],
   "source": [
    "disc.fit(df2)"
   ]
  },
  {
   "cell_type": "code",
   "execution_count": null,
   "metadata": {},
   "outputs": [],
   "source": [
    "disc.binner_dict_"
   ]
  },
  {
   "cell_type": "code",
   "execution_count": null,
   "metadata": {},
   "outputs": [],
   "source": [
    "df3 = disc.transform(df2)\n",
    "df3.head()"
   ]
  },
  {
   "cell_type": "code",
   "execution_count": null,
   "metadata": {},
   "outputs": [],
   "source": [
    "df3[\"co2cat\"].value_counts().plot.bar()\n",
    "plt.show()"
   ]
  },
  {
   "cell_type": "markdown",
   "metadata": {},
   "source": [
    "### Discretisation + OrdinalEncoder"
   ]
  },
  {
   "cell_type": "code",
   "execution_count": null,
   "metadata": {},
   "outputs": [],
   "source": [
    "### Choose which columns to be discretized first\n",
    "df3[\"incomecat\"] = df3[\"incomeperperson\"] #Make a copy\n",
    "df3[\"alccat\"] = df3[\"alcconsumption\"] #Make a copy"
   ]
  },
  {
   "cell_type": "code",
   "execution_count": null,
   "metadata": {},
   "outputs": [],
   "source": [
    "df3.head()"
   ]
  },
  {
   "cell_type": "code",
   "execution_count": null,
   "metadata": {},
   "outputs": [],
   "source": [
    "# to encode variables we need them returned as objects for feature-engine\n",
    "disc = EqualFrequencyDiscretiser(q=5, variables=['incomecat','alccat'], return_object=True)"
   ]
  },
  {
   "cell_type": "code",
   "execution_count": null,
   "metadata": {},
   "outputs": [],
   "source": [
    "df4 = disc.fit_transform(df3)\n",
    "df4.head()"
   ]
  },
  {
   "cell_type": "code",
   "execution_count": null,
   "metadata": {},
   "outputs": [],
   "source": [
    "df4[\"incomecat\"].value_counts().plot.bar()\n",
    "df4[\"alccat\"].value_counts().plot.bar()\n",
    "plt.show()"
   ]
  },
  {
   "cell_type": "code",
   "execution_count": null,
   "metadata": {},
   "outputs": [],
   "source": [
    "# Set y = target variable, and x = independant variables (both must be objects)"
   ]
  },
  {
   "cell_type": "code",
   "execution_count": null,
   "metadata": {},
   "outputs": [],
   "source": [
    "df5 = df4[['demoscorecat','incomecat', 'alccat']]\n",
    "df5.head()"
   ]
  },
  {
   "cell_type": "code",
   "execution_count": null,
   "metadata": {},
   "outputs": [],
   "source": [
    "df5.dtypes"
   ]
  },
  {
   "cell_type": "code",
   "execution_count": null,
   "metadata": {},
   "outputs": [],
   "source": [
    "df5.groupby('incomecat')['demoscorecat'].mean().plot()\n",
    "plt.show()"
   ]
  },
  {
   "cell_type": "code",
   "execution_count": null,
   "metadata": {},
   "outputs": [],
   "source": [
    "df5.groupby('alccat')['demoscorecat'].mean().plot()\n",
    "plt.show()"
   ]
  },
  {
   "cell_type": "code",
   "execution_count": null,
   "metadata": {},
   "outputs": [],
   "source": [
    "enc = OrdinalEncoder(encoding_method = 'ordered')"
   ]
  },
  {
   "cell_type": "code",
   "execution_count": null,
   "metadata": {},
   "outputs": [],
   "source": [
    "X = df5[['incomecat', 'alccat']]"
   ]
  },
  {
   "cell_type": "code",
   "execution_count": null,
   "metadata": {},
   "outputs": [],
   "source": [
    "y = df5['demoscorecat']"
   ]
  },
  {
   "cell_type": "code",
   "execution_count": null,
   "metadata": {},
   "outputs": [],
   "source": [
    "enc.fit(X, y)"
   ]
  },
  {
   "cell_type": "code",
   "execution_count": null,
   "metadata": {},
   "outputs": [],
   "source": [
    "X_transform = enc.transform(X)"
   ]
  },
  {
   "cell_type": "code",
   "execution_count": null,
   "metadata": {},
   "outputs": [],
   "source": [
    "enc.encoder_dict_"
   ]
  },
  {
   "cell_type": "code",
   "execution_count": null,
   "metadata": {},
   "outputs": [],
   "source": [
    "X_transform  # Transformed for monotonic relationship"
   ]
  },
  {
   "cell_type": "code",
   "execution_count": null,
   "metadata": {},
   "outputs": [],
   "source": [
    "pd.concat([X_transform, y], axis=1)"
   ]
  },
  {
   "cell_type": "code",
   "execution_count": null,
   "metadata": {},
   "outputs": [],
   "source": [
    "pd.concat([X_transform, y], axis=1).groupby('incomecat')['demoscorecat'].mean().plot()\n",
    "plt.show()"
   ]
  },
  {
   "cell_type": "markdown",
   "metadata": {},
   "source": [
    "### Discretisation with Decision Trees"
   ]
  },
  {
   "cell_type": "code",
   "execution_count": null,
   "metadata": {},
   "outputs": [],
   "source": [
    "df4['electricat'] = df4['relectricperperson'] #Make a copy"
   ]
  },
  {
   "cell_type": "code",
   "execution_count": null,
   "metadata": {},
   "outputs": [],
   "source": [
    "df4.head()"
   ]
  },
  {
   "cell_type": "code",
   "execution_count": null,
   "metadata": {},
   "outputs": [],
   "source": [
    "# Let y = demoscorecat, and x = electricat, breastcancerper100th\n",
    "\n",
    "df6 = df4[['breastcancerper100th','electricat','demoscorecat']]\n",
    "df6.head()"
   ]
  },
  {
   "cell_type": "code",
   "execution_count": null,
   "metadata": {},
   "outputs": [],
   "source": [
    "X = df6[['breastcancerper100th','electricat']]\n",
    "y = df6['demoscorecat']"
   ]
  },
  {
   "cell_type": "code",
   "execution_count": null,
   "metadata": {},
   "outputs": [],
   "source": [
    "# set up the decision tree discretiser indicating:\n",
    "# cross-validation number (cv)\n",
    "# how to evaluate model performance (scoring)\n",
    "# the variables we want to discretise (variables)\n",
    "# whether it is a target for regression or classification\n",
    "# and the grid with the parameters we want to test\n",
    "\n",
    "treeDisc = DecisionTreeDiscretiser(cv=5, scoring='accuracy', variables=['electricat'], regression=False,\n",
    "                                  param_grid={'max_depth':[1,2,3], 'min_samples_leaf':[2,4,6]})"
   ]
  },
  {
   "cell_type": "code",
   "execution_count": null,
   "metadata": {},
   "outputs": [],
   "source": [
    "treeDisc.fit(X,y)"
   ]
  },
  {
   "cell_type": "code",
   "execution_count": null,
   "metadata": {},
   "outputs": [],
   "source": [
    "treeDisc.binner_dict_['electricat'].best_params_"
   ]
  },
  {
   "cell_type": "code",
   "execution_count": null,
   "metadata": {},
   "outputs": [],
   "source": [
    "treeDisc.scores_dict_['electricat']"
   ]
  },
  {
   "cell_type": "code",
   "execution_count": null,
   "metadata": {},
   "outputs": [],
   "source": [
    "X_transform = treeDisc.transform(X) #Only electricat column"
   ]
  },
  {
   "cell_type": "code",
   "execution_count": null,
   "metadata": {},
   "outputs": [],
   "source": [
    "X_transform"
   ]
  },
  {
   "cell_type": "code",
   "execution_count": null,
   "metadata": {},
   "outputs": [],
   "source": [
    "X_transform.electricat.unique()"
   ]
  },
  {
   "cell_type": "code",
   "execution_count": null,
   "metadata": {},
   "outputs": [],
   "source": [
    "# monotonic relationship with target: train set\n",
    "\n",
    "pd.concat([X_transform, y],axis=1)"
   ]
  },
  {
   "cell_type": "markdown",
   "metadata": {},
   "source": [
    "### Drop unwanted features"
   ]
  },
  {
   "cell_type": "code",
   "execution_count": null,
   "metadata": {},
   "outputs": [],
   "source": [
    "df.columns"
   ]
  },
  {
   "cell_type": "code",
   "execution_count": null,
   "metadata": {},
   "outputs": [],
   "source": [
    "df.drop()"
   ]
  },
  {
   "cell_type": "markdown",
   "metadata": {},
   "source": [
    "### Treat Missing Values"
   ]
  },
  {
   "cell_type": "code",
   "execution_count": null,
   "metadata": {},
   "outputs": [],
   "source": [
    "df.isnull().sum()"
   ]
  },
  {
   "cell_type": "code",
   "execution_count": null,
   "metadata": {},
   "outputs": [],
   "source": [
    "df[''] = df[''].replace(np.nan,df.mean())"
   ]
  },
  {
   "cell_type": "code",
   "execution_count": null,
   "metadata": {},
   "outputs": [],
   "source": [
    "#imputer = mdi.MeanMedianImputer(imputation_method='median',variables=None)"
   ]
  },
  {
   "cell_type": "code",
   "execution_count": null,
   "metadata": {},
   "outputs": [],
   "source": [
    "#imputer.fit(df)"
   ]
  },
  {
   "cell_type": "code",
   "execution_count": null,
   "metadata": {},
   "outputs": [],
   "source": [
    "#df = imputer.transform(df)"
   ]
  },
  {
   "cell_type": "code",
   "execution_count": null,
   "metadata": {},
   "outputs": [],
   "source": [
    "df.isnull().sum()"
   ]
  },
  {
   "cell_type": "markdown",
   "metadata": {},
   "source": [
    "### Replacing values"
   ]
  },
  {
   "cell_type": "code",
   "execution_count": null,
   "metadata": {},
   "outputs": [],
   "source": [
    "df.replace()"
   ]
  },
  {
   "cell_type": "code",
   "execution_count": null,
   "metadata": {},
   "outputs": [],
   "source": []
  },
  {
   "cell_type": "markdown",
   "metadata": {},
   "source": [
    "### Rounding Values"
   ]
  },
  {
   "cell_type": "code",
   "execution_count": null,
   "metadata": {},
   "outputs": [],
   "source": [
    "###pandas.DataFrame.round\n",
    "df[['internetuserate']] = df[['internetuserate']].round(decimals=0)"
   ]
  },
  {
   "cell_type": "code",
   "execution_count": null,
   "metadata": {},
   "outputs": [],
   "source": []
  },
  {
   "cell_type": "markdown",
   "metadata": {},
   "source": [
    "### Treat Duplicate Values"
   ]
  },
  {
   "cell_type": "code",
   "execution_count": null,
   "metadata": {},
   "outputs": [],
   "source": [
    "df.duplicated(keep='first').sum()"
   ]
  },
  {
   "cell_type": "code",
   "execution_count": null,
   "metadata": {},
   "outputs": [],
   "source": [
    "df[df.duplicated(keep=False)] #Check duplicate values"
   ]
  },
  {
   "cell_type": "code",
   "execution_count": null,
   "metadata": {},
   "outputs": [],
   "source": [
    "df.drop_duplicates(ignore_index=True, inplace=True)"
   ]
  },
  {
   "cell_type": "code",
   "execution_count": null,
   "metadata": {},
   "outputs": [],
   "source": []
  },
  {
   "cell_type": "markdown",
   "metadata": {},
   "source": [
    "### Treat Outliers"
   ]
  },
  {
   "cell_type": "code",
   "execution_count": null,
   "metadata": {},
   "outputs": [],
   "source": [
    "df.columns"
   ]
  },
  {
   "cell_type": "code",
   "execution_count": null,
   "metadata": {},
   "outputs": [],
   "source": [
    "df.describe()"
   ]
  },
  {
   "cell_type": "code",
   "execution_count": null,
   "metadata": {},
   "outputs": [],
   "source": [
    "#windsorizer = Winsorizer(distribution='skewed',tail='both',fold=1.5, variables=[])"
   ]
  },
  {
   "cell_type": "code",
   "execution_count": null,
   "metadata": {},
   "outputs": [],
   "source": [
    "#windsorizer.fit(df)"
   ]
  },
  {
   "cell_type": "code",
   "execution_count": null,
   "metadata": {},
   "outputs": [],
   "source": [
    "#df2 = windsorizer.transform(df)"
   ]
  },
  {
   "cell_type": "code",
   "execution_count": null,
   "metadata": {},
   "outputs": [],
   "source": [
    "#df2"
   ]
  },
  {
   "cell_type": "code",
   "execution_count": null,
   "metadata": {},
   "outputs": [],
   "source": [
    "#df2.describe()"
   ]
  },
  {
   "cell_type": "code",
   "execution_count": null,
   "metadata": {},
   "outputs": [],
   "source": [
    "#windsorizer.left_tail_caps_"
   ]
  },
  {
   "cell_type": "code",
   "execution_count": null,
   "metadata": {},
   "outputs": [],
   "source": [
    "#windsorizer.right_tail_caps_"
   ]
  },
  {
   "cell_type": "markdown",
   "metadata": {},
   "source": [
    "### Type Change"
   ]
  },
  {
   "cell_type": "code",
   "execution_count": null,
   "metadata": {},
   "outputs": [],
   "source": [
    "df.info()"
   ]
  },
  {
   "cell_type": "code",
   "execution_count": null,
   "metadata": {},
   "outputs": [],
   "source": [
    "df[\"breastcancerper100th\"] = df[\"breastcancerper100th\"].astype('int')"
   ]
  },
  {
   "cell_type": "code",
   "execution_count": null,
   "metadata": {},
   "outputs": [],
   "source": [
    "df.info()"
   ]
  },
  {
   "cell_type": "markdown",
   "metadata": {},
   "source": [
    "### One-hot encoding"
   ]
  },
  {
   "cell_type": "code",
   "execution_count": null,
   "metadata": {},
   "outputs": [],
   "source": [
    "df.info()"
   ]
  },
  {
   "cell_type": "code",
   "execution_count": null,
   "metadata": {},
   "outputs": [],
   "source": [
    "df[\"has_gas\"] = pd.get_dummies(data=df[\"has_gas\"],drop_first=True)"
   ]
  },
  {
   "cell_type": "code",
   "execution_count": null,
   "metadata": {},
   "outputs": [],
   "source": []
  },
  {
   "cell_type": "markdown",
   "metadata": {},
   "source": [
    "### Save to CSV"
   ]
  },
  {
   "cell_type": "code",
   "execution_count": null,
   "metadata": {},
   "outputs": [],
   "source": [
    "df.to_csv(\"filename.csv\", index=False)"
   ]
  },
  {
   "cell_type": "markdown",
   "metadata": {},
   "source": [
    "## Regression Analysis"
   ]
  },
  {
   "cell_type": "code",
   "execution_count": null,
   "metadata": {},
   "outputs": [],
   "source": [
    "df.columns"
   ]
  },
  {
   "cell_type": "code",
   "execution_count": null,
   "metadata": {},
   "outputs": [],
   "source": [
    "y = df['ExpirationMonth']\n",
    "X = df['NumStores']"
   ]
  },
  {
   "cell_type": "code",
   "execution_count": null,
   "metadata": {},
   "outputs": [],
   "source": [
    "X = sm.add_constant(X)"
   ]
  },
  {
   "cell_type": "code",
   "execution_count": null,
   "metadata": {},
   "outputs": [],
   "source": [
    "model = sm.OLS(y,X).fit()"
   ]
  },
  {
   "cell_type": "code",
   "execution_count": null,
   "metadata": {},
   "outputs": [],
   "source": [
    "model.summary()"
   ]
  },
  {
   "cell_type": "code",
   "execution_count": null,
   "metadata": {},
   "outputs": [],
   "source": [
    "prediction = model.predict(x)"
   ]
  },
  {
   "cell_type": "markdown",
   "metadata": {},
   "source": [
    "#### Python code done by Dennis Lam"
   ]
  },
  {
   "cell_type": "code",
   "execution_count": null,
   "metadata": {},
   "outputs": [],
   "source": []
  }
 ],
 "metadata": {
  "kernelspec": {
   "display_name": "Python 3",
   "language": "python",
   "name": "python3"
  },
  "language_info": {
   "codemirror_mode": {
    "name": "ipython",
    "version": 3
   },
   "file_extension": ".py",
   "mimetype": "text/x-python",
   "name": "python",
   "nbconvert_exporter": "python",
   "pygments_lexer": "ipython3",
   "version": "3.8.5"
  }
 },
 "nbformat": 4,
 "nbformat_minor": 4
}
