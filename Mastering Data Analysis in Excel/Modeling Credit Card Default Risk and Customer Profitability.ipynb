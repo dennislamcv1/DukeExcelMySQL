{
 "cells": [
  {
   "cell_type": "markdown",
   "metadata": {},
   "source": [
    "# Part 5 Modeling Credit Card Default Risk and Customer Profitability"
   ]
  },
  {
   "cell_type": "markdown",
   "metadata": {},
   "source": [
    "***"
   ]
  },
  {
   "cell_type": "markdown",
   "metadata": {},
   "source": [
    "## Project Description"
   ]
  },
  {
   "cell_type": "markdown",
   "metadata": {},
   "source": [
    "The President of the bank asks you to design and implement a predictive model to determine which future applicants should be approved for a credit card and which rejected. \n",
    "\n",
    "Your new goal is to develop a binary classification process for “approve” or “reject” designed to maximize total bank profits. (Put another way, you want to maximize average profits per applicant, including in the total number of applicants those that are rejected).\n",
    "\n",
    "Default is the failure to repay a debt, including interest or principal, on a loan or security. A default can occur when a borrower is unable to make timely payments, misses payments, or avoids or stops making payments."
   ]
  },
  {
   "cell_type": "markdown",
   "metadata": {},
   "source": [
    "## Business Task"
   ]
  },
  {
   "cell_type": "markdown",
   "metadata": {},
   "source": [
    "## Import Libraries"
   ]
  },
  {
   "cell_type": "code",
   "execution_count": 1,
   "metadata": {},
   "outputs": [
    {
     "data": {
      "application/javascript": [
       "IPython.notebook.set_autosave_interval(60000)"
      ]
     },
     "metadata": {},
     "output_type": "display_data"
    },
    {
     "name": "stdout",
     "output_type": "stream",
     "text": [
      "Autosaving every 60 seconds\n"
     ]
    }
   ],
   "source": [
    "import numpy as np\n",
    "from numpy import count_nonzero\n",
    "from numpy import median\n",
    "from numpy import mean\n",
    "import pandas as pd\n",
    "import matplotlib.pyplot as plt\n",
    "import seaborn as sns\n",
    "import plotly.express as px\n",
    "import random\n",
    "\n",
    "import statsmodels.api as sm\n",
    "import statsmodels.formula.api as smf\n",
    "from statsmodels.formula.api import ols\n",
    "\n",
    "import datetime\n",
    "from datetime import datetime, timedelta\n",
    "\n",
    "import scipy.stats\n",
    "from collections import Counter\n",
    "\n",
    "\n",
    "import sklearn\n",
    "from sklearn.preprocessing import StandardScaler, MinMaxScaler, LabelEncoder, OneHotEncoder\n",
    "from sklearn.linear_model import LinearRegression, LogisticRegression, ElasticNet, Lasso, Ridge\n",
    "from sklearn.model_selection import cross_val_score, train_test_split\n",
    "from sklearn.metrics import accuracy_score, auc, classification_report, confusion_matrix, f1_score\n",
    "from sklearn.metrics import plot_confusion_matrix, plot_roc_curve\n",
    "\n",
    "%matplotlib inline\n",
    "#sets the default autosave frequency in seconds\n",
    "%autosave 60 \n",
    "sns.set_style('dark')\n",
    "sns.set(font_scale=1.2)\n",
    "\n",
    "plt.rc('axes', titlesize=9)\n",
    "plt.rc('axes', labelsize=14)\n",
    "plt.rc('xtick', labelsize=12)\n",
    "plt.rc('ytick', labelsize=12)\n",
    "\n",
    "import warnings\n",
    "warnings.filterwarnings('ignore')\n",
    "\n",
    "pd.set_option('display.max_columns',None)\n",
    "#pd.set_option('display.max_rows',None)\n",
    "pd.set_option('display.width', 1000)\n",
    "pd.set_option('display.float_format','{:.2f}'.format)\n",
    "\n",
    "random.seed(0)\n",
    "np.random.seed(0)\n",
    "np.set_printoptions(suppress=True)"
   ]
  },
  {
   "cell_type": "markdown",
   "metadata": {},
   "source": [
    "## Exploratory Data Analysis"
   ]
  },
  {
   "cell_type": "code",
   "execution_count": 2,
   "metadata": {},
   "outputs": [],
   "source": [
    "df = pd.read_csv(\"train2.csv\")"
   ]
  },
  {
   "cell_type": "code",
   "execution_count": 3,
   "metadata": {},
   "outputs": [
    {
     "data": {
      "text/html": [
       "<div>\n",
       "<style scoped>\n",
       "    .dataframe tbody tr th:only-of-type {\n",
       "        vertical-align: middle;\n",
       "    }\n",
       "\n",
       "    .dataframe tbody tr th {\n",
       "        vertical-align: top;\n",
       "    }\n",
       "\n",
       "    .dataframe thead th {\n",
       "        text-align: right;\n",
       "    }\n",
       "</style>\n",
       "<table border=\"1\" class=\"dataframe\">\n",
       "  <thead>\n",
       "    <tr style=\"text-align: right;\">\n",
       "      <th></th>\n",
       "      <th>YearsatEmployer</th>\n",
       "      <th>Income</th>\n",
       "      <th>CreditCardDebt</th>\n",
       "      <th>AutomobileDebt</th>\n",
       "      <th>Default</th>\n",
       "    </tr>\n",
       "  </thead>\n",
       "  <tbody>\n",
       "    <tr>\n",
       "      <th>0</th>\n",
       "      <td>9.39</td>\n",
       "      <td>37843.68</td>\n",
       "      <td>-3246.66</td>\n",
       "      <td>-4794.71</td>\n",
       "      <td>0</td>\n",
       "    </tr>\n",
       "    <tr>\n",
       "      <th>1</th>\n",
       "      <td>11.97</td>\n",
       "      <td>65765.23</td>\n",
       "      <td>-15597.78</td>\n",
       "      <td>-17632.17</td>\n",
       "      <td>1</td>\n",
       "    </tr>\n",
       "    <tr>\n",
       "      <th>2</th>\n",
       "      <td>12.46</td>\n",
       "      <td>61002.29</td>\n",
       "      <td>-11401.92</td>\n",
       "      <td>-7910.24</td>\n",
       "      <td>1</td>\n",
       "    </tr>\n",
       "    <tr>\n",
       "      <th>3</th>\n",
       "      <td>1.39</td>\n",
       "      <td>19952.73</td>\n",
       "      <td>-1233.38</td>\n",
       "      <td>-2408.10</td>\n",
       "      <td>0</td>\n",
       "    </tr>\n",
       "    <tr>\n",
       "      <th>4</th>\n",
       "      <td>7.49</td>\n",
       "      <td>24970.13</td>\n",
       "      <td>-1135.68</td>\n",
       "      <td>-397.32</td>\n",
       "      <td>0</td>\n",
       "    </tr>\n",
       "    <tr>\n",
       "      <th>...</th>\n",
       "      <td>...</td>\n",
       "      <td>...</td>\n",
       "      <td>...</td>\n",
       "      <td>...</td>\n",
       "      <td>...</td>\n",
       "    </tr>\n",
       "    <tr>\n",
       "      <th>195</th>\n",
       "      <td>13.25</td>\n",
       "      <td>58643.79</td>\n",
       "      <td>-5164.71</td>\n",
       "      <td>-11395.31</td>\n",
       "      <td>0</td>\n",
       "    </tr>\n",
       "    <tr>\n",
       "      <th>196</th>\n",
       "      <td>7.82</td>\n",
       "      <td>17453.12</td>\n",
       "      <td>-983.58</td>\n",
       "      <td>-1431.84</td>\n",
       "      <td>0</td>\n",
       "    </tr>\n",
       "    <tr>\n",
       "      <th>197</th>\n",
       "      <td>2.37</td>\n",
       "      <td>27214.16</td>\n",
       "      <td>-1446.02</td>\n",
       "      <td>-2100.69</td>\n",
       "      <td>0</td>\n",
       "    </tr>\n",
       "    <tr>\n",
       "      <th>198</th>\n",
       "      <td>16.69</td>\n",
       "      <td>115210.82</td>\n",
       "      <td>-3205.97</td>\n",
       "      <td>-25826.62</td>\n",
       "      <td>0</td>\n",
       "    </tr>\n",
       "    <tr>\n",
       "      <th>199</th>\n",
       "      <td>16.41</td>\n",
       "      <td>123171.43</td>\n",
       "      <td>-1195.03</td>\n",
       "      <td>-6469.83</td>\n",
       "      <td>0</td>\n",
       "    </tr>\n",
       "  </tbody>\n",
       "</table>\n",
       "<p>200 rows × 5 columns</p>\n",
       "</div>"
      ],
      "text/plain": [
       "     YearsatEmployer    Income  CreditCardDebt  AutomobileDebt  Default\n",
       "0               9.39  37843.68        -3246.66        -4794.71        0\n",
       "1              11.97  65765.23       -15597.78       -17632.17        1\n",
       "2              12.46  61002.29       -11401.92        -7910.24        1\n",
       "3               1.39  19952.73        -1233.38        -2408.10        0\n",
       "4               7.49  24970.13        -1135.68         -397.32        0\n",
       "..               ...       ...             ...             ...      ...\n",
       "195            13.25  58643.79        -5164.71       -11395.31        0\n",
       "196             7.82  17453.12         -983.58        -1431.84        0\n",
       "197             2.37  27214.16        -1446.02        -2100.69        0\n",
       "198            16.69 115210.82        -3205.97       -25826.62        0\n",
       "199            16.41 123171.43        -1195.03        -6469.83        0\n",
       "\n",
       "[200 rows x 5 columns]"
      ]
     },
     "execution_count": 3,
     "metadata": {},
     "output_type": "execute_result"
    }
   ],
   "source": [
    "df"
   ]
  },
  {
   "cell_type": "code",
   "execution_count": 4,
   "metadata": {},
   "outputs": [
    {
     "name": "stdout",
     "output_type": "stream",
     "text": [
      "<class 'pandas.core.frame.DataFrame'>\n",
      "RangeIndex: 200 entries, 0 to 199\n",
      "Data columns (total 5 columns):\n",
      " #   Column           Non-Null Count  Dtype  \n",
      "---  ------           --------------  -----  \n",
      " 0   YearsatEmployer  200 non-null    float64\n",
      " 1   Income           200 non-null    float64\n",
      " 2   CreditCardDebt   200 non-null    float64\n",
      " 3   AutomobileDebt   200 non-null    float64\n",
      " 4   Default          200 non-null    int64  \n",
      "dtypes: float64(4), int64(1)\n",
      "memory usage: 7.9 KB\n"
     ]
    }
   ],
   "source": [
    "df.info()"
   ]
  },
  {
   "cell_type": "code",
   "execution_count": 5,
   "metadata": {},
   "outputs": [
    {
     "data": {
      "text/html": [
       "<div>\n",
       "<style scoped>\n",
       "    .dataframe tbody tr th:only-of-type {\n",
       "        vertical-align: middle;\n",
       "    }\n",
       "\n",
       "    .dataframe tbody tr th {\n",
       "        vertical-align: top;\n",
       "    }\n",
       "\n",
       "    .dataframe thead th {\n",
       "        text-align: right;\n",
       "    }\n",
       "</style>\n",
       "<table border=\"1\" class=\"dataframe\">\n",
       "  <thead>\n",
       "    <tr style=\"text-align: right;\">\n",
       "      <th></th>\n",
       "      <th>YearsatEmployer</th>\n",
       "      <th>Income</th>\n",
       "      <th>CreditCardDebt</th>\n",
       "      <th>AutomobileDebt</th>\n",
       "      <th>Default</th>\n",
       "    </tr>\n",
       "  </thead>\n",
       "  <tbody>\n",
       "    <tr>\n",
       "      <th>count</th>\n",
       "      <td>200.00</td>\n",
       "      <td>200.00</td>\n",
       "      <td>200.00</td>\n",
       "      <td>200.00</td>\n",
       "      <td>200.00</td>\n",
       "    </tr>\n",
       "    <tr>\n",
       "      <th>mean</th>\n",
       "      <td>8.61</td>\n",
       "      <td>48439.96</td>\n",
       "      <td>-3202.11</td>\n",
       "      <td>-6378.07</td>\n",
       "      <td>0.25</td>\n",
       "    </tr>\n",
       "    <tr>\n",
       "      <th>std</th>\n",
       "      <td>6.79</td>\n",
       "      <td>47982.46</td>\n",
       "      <td>3901.79</td>\n",
       "      <td>7491.20</td>\n",
       "      <td>0.43</td>\n",
       "    </tr>\n",
       "    <tr>\n",
       "      <th>min</th>\n",
       "      <td>0.04</td>\n",
       "      <td>11522.10</td>\n",
       "      <td>-32050.38</td>\n",
       "      <td>-55418.57</td>\n",
       "      <td>0.00</td>\n",
       "    </tr>\n",
       "    <tr>\n",
       "      <th>25%</th>\n",
       "      <td>3.40</td>\n",
       "      <td>23207.97</td>\n",
       "      <td>-4242.42</td>\n",
       "      <td>-7902.88</td>\n",
       "      <td>0.00</td>\n",
       "    </tr>\n",
       "    <tr>\n",
       "      <th>50%</th>\n",
       "      <td>7.50</td>\n",
       "      <td>33884.08</td>\n",
       "      <td>-1822.00</td>\n",
       "      <td>-3922.68</td>\n",
       "      <td>0.00</td>\n",
       "    </tr>\n",
       "    <tr>\n",
       "      <th>75%</th>\n",
       "      <td>12.52</td>\n",
       "      <td>58330.22</td>\n",
       "      <td>-810.92</td>\n",
       "      <td>-2101.18</td>\n",
       "      <td>0.25</td>\n",
       "    </tr>\n",
       "    <tr>\n",
       "      <th>max</th>\n",
       "      <td>31.65</td>\n",
       "      <td>451319.67</td>\n",
       "      <td>34.16</td>\n",
       "      <td>1747.24</td>\n",
       "      <td>1.00</td>\n",
       "    </tr>\n",
       "  </tbody>\n",
       "</table>\n",
       "</div>"
      ],
      "text/plain": [
       "       YearsatEmployer    Income  CreditCardDebt  AutomobileDebt  Default\n",
       "count           200.00    200.00          200.00          200.00   200.00\n",
       "mean              8.61  48439.96        -3202.11        -6378.07     0.25\n",
       "std               6.79  47982.46         3901.79         7491.20     0.43\n",
       "min               0.04  11522.10       -32050.38       -55418.57     0.00\n",
       "25%               3.40  23207.97        -4242.42        -7902.88     0.00\n",
       "50%               7.50  33884.08        -1822.00        -3922.68     0.00\n",
       "75%              12.52  58330.22         -810.92        -2101.18     0.25\n",
       "max              31.65 451319.67           34.16         1747.24     1.00"
      ]
     },
     "execution_count": 5,
     "metadata": {},
     "output_type": "execute_result"
    }
   ],
   "source": [
    "df.describe()"
   ]
  },
  {
   "cell_type": "code",
   "execution_count": 6,
   "metadata": {},
   "outputs": [
    {
     "data": {
      "text/plain": [
       "Index(['YearsatEmployer', 'Income', 'CreditCardDebt', 'AutomobileDebt', 'Default'], dtype='object')"
      ]
     },
     "execution_count": 6,
     "metadata": {},
     "output_type": "execute_result"
    }
   ],
   "source": [
    "df.columns"
   ]
  },
  {
   "cell_type": "code",
   "execution_count": 7,
   "metadata": {},
   "outputs": [
    {
     "data": {
      "text/plain": [
       "-9580.1829"
      ]
     },
     "execution_count": 7,
     "metadata": {},
     "output_type": "execute_result"
    }
   ],
   "source": [
    "debt = df.CreditCardDebt.sum() + df.AutomobileDebt.sum()\n",
    "debt / 200"
   ]
  },
  {
   "cell_type": "markdown",
   "metadata": {},
   "source": [
    "## Data Visualization"
   ]
  },
  {
   "cell_type": "markdown",
   "metadata": {},
   "source": [
    "### Univariate Data Exploration"
   ]
  },
  {
   "cell_type": "code",
   "execution_count": 8,
   "metadata": {},
   "outputs": [
    {
     "data": {
      "image/png": "[encoded data removed]",
      "text/plain": [
       "<Figure size 1440x720 with 6 Axes>"
      ]
     },
     "metadata": {},
     "output_type": "display_data"
    }
   ],
   "source": [
    "df.hist(bins=50, figsize=(20,10))\n",
    "plt.suptitle('Histogram Feature Distribution', x=0.5, y=1.02, ha='center', fontsize=20)\n",
    "plt.tight_layout()\n",
    "plt.show()"
   ]
  },
  {
   "cell_type": "code",
   "execution_count": 9,
   "metadata": {},
   "outputs": [
    {
     "data": {
      "image/png": "[encoded data removed]",
      "text/plain": [
       "<Figure size 1440x720 with 1 Axes>"
      ]
     },
     "metadata": {},
     "output_type": "display_data"
    }
   ],
   "source": [
    "df.boxplot(figsize=(20,10))\n",
    "plt.suptitle('BoxPlots Feature Distribution', x=0.5, y=1.02, ha='center', fontsize=20)\n",
    "plt.tight_layout()\n",
    "plt.show()"
   ]
  },
  {
   "cell_type": "markdown",
   "metadata": {},
   "source": [
    "### Correlation"
   ]
  },
  {
   "cell_type": "code",
   "execution_count": 10,
   "metadata": {},
   "outputs": [
    {
     "data": {
      "text/html": [
       "<div>\n",
       "<style scoped>\n",
       "    .dataframe tbody tr th:only-of-type {\n",
       "        vertical-align: middle;\n",
       "    }\n",
       "\n",
       "    .dataframe tbody tr th {\n",
       "        vertical-align: top;\n",
       "    }\n",
       "\n",
       "    .dataframe thead th {\n",
       "        text-align: right;\n",
       "    }\n",
       "</style>\n",
       "<table border=\"1\" class=\"dataframe\">\n",
       "  <thead>\n",
       "    <tr style=\"text-align: right;\">\n",
       "      <th></th>\n",
       "      <th>YearsatEmployer</th>\n",
       "      <th>Income</th>\n",
       "      <th>CreditCardDebt</th>\n",
       "      <th>AutomobileDebt</th>\n",
       "      <th>Default</th>\n",
       "    </tr>\n",
       "  </thead>\n",
       "  <tbody>\n",
       "    <tr>\n",
       "      <th>YearsatEmployer</th>\n",
       "      <td>1.00</td>\n",
       "      <td>0.61</td>\n",
       "      <td>-0.44</td>\n",
       "      <td>-0.45</td>\n",
       "      <td>-0.31</td>\n",
       "    </tr>\n",
       "    <tr>\n",
       "      <th>Income</th>\n",
       "      <td>0.61</td>\n",
       "      <td>1.00</td>\n",
       "      <td>-0.71</td>\n",
       "      <td>-0.65</td>\n",
       "      <td>-0.05</td>\n",
       "    </tr>\n",
       "    <tr>\n",
       "      <th>CreditCardDebt</th>\n",
       "      <td>-0.44</td>\n",
       "      <td>-0.71</td>\n",
       "      <td>1.00</td>\n",
       "      <td>0.60</td>\n",
       "      <td>-0.20</td>\n",
       "    </tr>\n",
       "    <tr>\n",
       "      <th>AutomobileDebt</th>\n",
       "      <td>-0.45</td>\n",
       "      <td>-0.65</td>\n",
       "      <td>0.60</td>\n",
       "      <td>1.00</td>\n",
       "      <td>-0.10</td>\n",
       "    </tr>\n",
       "    <tr>\n",
       "      <th>Default</th>\n",
       "      <td>-0.31</td>\n",
       "      <td>-0.05</td>\n",
       "      <td>-0.20</td>\n",
       "      <td>-0.10</td>\n",
       "      <td>1.00</td>\n",
       "    </tr>\n",
       "  </tbody>\n",
       "</table>\n",
       "</div>"
      ],
      "text/plain": [
       "                 YearsatEmployer  Income  CreditCardDebt  AutomobileDebt  Default\n",
       "YearsatEmployer             1.00    0.61           -0.44           -0.45    -0.31\n",
       "Income                      0.61    1.00           -0.71           -0.65    -0.05\n",
       "CreditCardDebt             -0.44   -0.71            1.00            0.60    -0.20\n",
       "AutomobileDebt             -0.45   -0.65            0.60            1.00    -0.10\n",
       "Default                    -0.31   -0.05           -0.20           -0.10     1.00"
      ]
     },
     "execution_count": 10,
     "metadata": {},
     "output_type": "execute_result"
    }
   ],
   "source": [
    "df.corr()"
   ]
  },
  {
   "cell_type": "code",
   "execution_count": 11,
   "metadata": {},
   "outputs": [
    {
     "data": {
      "image/png": "[encoded data removed]",
      "text/plain": [
       "<Figure size 1152x648 with 2 Axes>"
      ]
     },
     "metadata": {},
     "output_type": "display_data"
    }
   ],
   "source": [
    "plt.figure(figsize=(16,9))\n",
    "sns.heatmap(df.corr(),cmap=\"coolwarm\",annot=True,fmt='.2f',linewidths=2)\n",
    "plt.title(\"\", fontsize=20)\n",
    "plt.show()"
   ]
  },
  {
   "cell_type": "markdown",
   "metadata": {},
   "source": [
    "## Data Preprocessing"
   ]
  },
  {
   "cell_type": "markdown",
   "metadata": {},
   "source": [
    "### Treat Missing Values"
   ]
  },
  {
   "cell_type": "code",
   "execution_count": 12,
   "metadata": {},
   "outputs": [
    {
     "data": {
      "text/plain": [
       "YearsatEmployer    0\n",
       "Income             0\n",
       "CreditCardDebt     0\n",
       "AutomobileDebt     0\n",
       "Default            0\n",
       "dtype: int64"
      ]
     },
     "execution_count": 12,
     "metadata": {},
     "output_type": "execute_result"
    }
   ],
   "source": [
    "df.isnull().sum()"
   ]
  },
  {
   "cell_type": "code",
   "execution_count": 13,
   "metadata": {},
   "outputs": [
    {
     "data": {
      "text/plain": [
       "0"
      ]
     },
     "execution_count": 13,
     "metadata": {},
     "output_type": "execute_result"
    }
   ],
   "source": [
    "df.duplicated().sum()"
   ]
  },
  {
   "cell_type": "markdown",
   "metadata": {},
   "source": [
    "## Regression Analysis"
   ]
  },
  {
   "cell_type": "markdown",
   "metadata": {},
   "source": [
    "## Logistic Regression (StatsModel)"
   ]
  },
  {
   "cell_type": "code",
   "execution_count": 14,
   "metadata": {},
   "outputs": [
    {
     "data": {
      "text/plain": [
       "Index(['YearsatEmployer', 'Income', 'CreditCardDebt', 'AutomobileDebt', 'Default'], dtype='object')"
      ]
     },
     "execution_count": 14,
     "metadata": {},
     "output_type": "execute_result"
    }
   ],
   "source": [
    "df.columns"
   ]
  },
  {
   "cell_type": "code",
   "execution_count": 15,
   "metadata": {},
   "outputs": [],
   "source": [
    "y = df[['Default']]\n",
    "X = df[['YearsatEmployer', 'Income', 'CreditCardDebt', 'AutomobileDebt']]"
   ]
  },
  {
   "cell_type": "code",
   "execution_count": 16,
   "metadata": {},
   "outputs": [],
   "source": [
    "X = sm.add_constant(X)"
   ]
  },
  {
   "cell_type": "code",
   "execution_count": 17,
   "metadata": {},
   "outputs": [
    {
     "data": {
      "text/html": [
       "<div>\n",
       "<style scoped>\n",
       "    .dataframe tbody tr th:only-of-type {\n",
       "        vertical-align: middle;\n",
       "    }\n",
       "\n",
       "    .dataframe tbody tr th {\n",
       "        vertical-align: top;\n",
       "    }\n",
       "\n",
       "    .dataframe thead th {\n",
       "        text-align: right;\n",
       "    }\n",
       "</style>\n",
       "<table border=\"1\" class=\"dataframe\">\n",
       "  <thead>\n",
       "    <tr style=\"text-align: right;\">\n",
       "      <th></th>\n",
       "      <th>const</th>\n",
       "      <th>YearsatEmployer</th>\n",
       "      <th>Income</th>\n",
       "      <th>CreditCardDebt</th>\n",
       "      <th>AutomobileDebt</th>\n",
       "    </tr>\n",
       "  </thead>\n",
       "  <tbody>\n",
       "    <tr>\n",
       "      <th>0</th>\n",
       "      <td>1.00</td>\n",
       "      <td>9.39</td>\n",
       "      <td>37843.68</td>\n",
       "      <td>-3246.66</td>\n",
       "      <td>-4794.71</td>\n",
       "    </tr>\n",
       "    <tr>\n",
       "      <th>1</th>\n",
       "      <td>1.00</td>\n",
       "      <td>11.97</td>\n",
       "      <td>65765.23</td>\n",
       "      <td>-15597.78</td>\n",
       "      <td>-17632.17</td>\n",
       "    </tr>\n",
       "    <tr>\n",
       "      <th>2</th>\n",
       "      <td>1.00</td>\n",
       "      <td>12.46</td>\n",
       "      <td>61002.29</td>\n",
       "      <td>-11401.92</td>\n",
       "      <td>-7910.24</td>\n",
       "    </tr>\n",
       "    <tr>\n",
       "      <th>3</th>\n",
       "      <td>1.00</td>\n",
       "      <td>1.39</td>\n",
       "      <td>19952.73</td>\n",
       "      <td>-1233.38</td>\n",
       "      <td>-2408.10</td>\n",
       "    </tr>\n",
       "    <tr>\n",
       "      <th>4</th>\n",
       "      <td>1.00</td>\n",
       "      <td>7.49</td>\n",
       "      <td>24970.13</td>\n",
       "      <td>-1135.68</td>\n",
       "      <td>-397.32</td>\n",
       "    </tr>\n",
       "  </tbody>\n",
       "</table>\n",
       "</div>"
      ],
      "text/plain": [
       "   const  YearsatEmployer   Income  CreditCardDebt  AutomobileDebt\n",
       "0   1.00             9.39 37843.68        -3246.66        -4794.71\n",
       "1   1.00            11.97 65765.23       -15597.78       -17632.17\n",
       "2   1.00            12.46 61002.29       -11401.92        -7910.24\n",
       "3   1.00             1.39 19952.73        -1233.38        -2408.10\n",
       "4   1.00             7.49 24970.13        -1135.68         -397.32"
      ]
     },
     "execution_count": 17,
     "metadata": {},
     "output_type": "execute_result"
    }
   ],
   "source": [
    "X.head()"
   ]
  },
  {
   "cell_type": "code",
   "execution_count": 18,
   "metadata": {},
   "outputs": [
    {
     "name": "stdout",
     "output_type": "stream",
     "text": [
      "Optimization terminated successfully.\n",
      "         Current function value: 0.399594\n",
      "         Iterations 7\n"
     ]
    }
   ],
   "source": [
    "logit = sm.Logit(y, X).fit()"
   ]
  },
  {
   "cell_type": "code",
   "execution_count": 19,
   "metadata": {},
   "outputs": [
    {
     "data": {
      "text/html": [
       "<table class=\"simpletable\">\n",
       "<caption>Logit Regression Results</caption>\n",
       "<tr>\n",
       "  <th>Dep. Variable:</th>        <td>Default</td>     <th>  No. Observations:  </th>  <td>   200</td>  \n",
       "</tr>\n",
       "<tr>\n",
       "  <th>Model:</th>                 <td>Logit</td>      <th>  Df Residuals:      </th>  <td>   195</td>  \n",
       "</tr>\n",
       "<tr>\n",
       "  <th>Method:</th>                 <td>MLE</td>       <th>  Df Model:          </th>  <td>     4</td>  \n",
       "</tr>\n",
       "<tr>\n",
       "  <th>Date:</th>            <td>Wed, 08 Dec 2021</td> <th>  Pseudo R-squ.:     </th>  <td>0.2894</td>  \n",
       "</tr>\n",
       "<tr>\n",
       "  <th>Time:</th>                <td>12:23:28</td>     <th>  Log-Likelihood:    </th> <td> -79.919</td> \n",
       "</tr>\n",
       "<tr>\n",
       "  <th>converged:</th>             <td>True</td>       <th>  LL-Null:           </th> <td> -112.47</td> \n",
       "</tr>\n",
       "<tr>\n",
       "  <th>Covariance Type:</th>     <td>nonrobust</td>    <th>  LLR p-value:       </th> <td>2.456e-13</td>\n",
       "</tr>\n",
       "</table>\n",
       "<table class=\"simpletable\">\n",
       "<tr>\n",
       "         <td></td>            <th>coef</th>     <th>std err</th>      <th>z</th>      <th>P>|z|</th>  <th>[0.025</th>    <th>0.975]</th>  \n",
       "</tr>\n",
       "<tr>\n",
       "  <th>const</th>           <td>   -0.2397</td> <td>    0.314</td> <td>   -0.762</td> <td> 0.446</td> <td>   -0.856</td> <td>    0.377</td>\n",
       "</tr>\n",
       "<tr>\n",
       "  <th>YearsatEmployer</th> <td>   -0.2769</td> <td>    0.054</td> <td>   -5.119</td> <td> 0.000</td> <td>   -0.383</td> <td>   -0.171</td>\n",
       "</tr>\n",
       "<tr>\n",
       "  <th>Income</th>          <td>-1.968e-05</td> <td> 7.75e-06</td> <td>   -2.540</td> <td> 0.011</td> <td>-3.49e-05</td> <td>-4.49e-06</td>\n",
       "</tr>\n",
       "<tr>\n",
       "  <th>CreditCardDebt</th>  <td>   -0.0004</td> <td> 9.81e-05</td> <td>   -4.317</td> <td> 0.000</td> <td>   -0.001</td> <td>   -0.000</td>\n",
       "</tr>\n",
       "<tr>\n",
       "  <th>AutomobileDebt</th>  <td>-7.522e-05</td> <td> 4.83e-05</td> <td>   -1.559</td> <td> 0.119</td> <td>   -0.000</td> <td> 1.94e-05</td>\n",
       "</tr>\n",
       "</table>"
      ],
      "text/plain": [
       "<class 'statsmodels.iolib.summary.Summary'>\n",
       "\"\"\"\n",
       "                           Logit Regression Results                           \n",
       "==============================================================================\n",
       "Dep. Variable:                Default   No. Observations:                  200\n",
       "Model:                          Logit   Df Residuals:                      195\n",
       "Method:                           MLE   Df Model:                            4\n",
       "Date:                Wed, 08 Dec 2021   Pseudo R-squ.:                  0.2894\n",
       "Time:                        12:23:28   Log-Likelihood:                -79.919\n",
       "converged:                       True   LL-Null:                       -112.47\n",
       "Covariance Type:            nonrobust   LLR p-value:                 2.456e-13\n",
       "===================================================================================\n",
       "                      coef    std err          z      P>|z|      [0.025      0.975]\n",
       "-----------------------------------------------------------------------------------\n",
       "const              -0.2397      0.314     -0.762      0.446      -0.856       0.377\n",
       "YearsatEmployer    -0.2769      0.054     -5.119      0.000      -0.383      -0.171\n",
       "Income          -1.968e-05   7.75e-06     -2.540      0.011   -3.49e-05   -4.49e-06\n",
       "CreditCardDebt     -0.0004   9.81e-05     -4.317      0.000      -0.001      -0.000\n",
       "AutomobileDebt  -7.522e-05   4.83e-05     -1.559      0.119      -0.000    1.94e-05\n",
       "===================================================================================\n",
       "\"\"\""
      ]
     },
     "execution_count": 19,
     "metadata": {},
     "output_type": "execute_result"
    }
   ],
   "source": [
    "logit.summary()"
   ]
  },
  {
   "cell_type": "markdown",
   "metadata": {},
   "source": [
    "## Logistic Regression (SKLearn)"
   ]
  },
  {
   "cell_type": "markdown",
   "metadata": {},
   "source": [
    "### Train Test Split"
   ]
  },
  {
   "cell_type": "code",
   "execution_count": 20,
   "metadata": {},
   "outputs": [
    {
     "data": {
      "text/plain": [
       "(200, 5)"
      ]
     },
     "execution_count": 20,
     "metadata": {},
     "output_type": "execute_result"
    }
   ],
   "source": [
    "df.shape"
   ]
  },
  {
   "cell_type": "code",
   "execution_count": 21,
   "metadata": {},
   "outputs": [],
   "source": [
    "X = df.iloc[:,:4]\n",
    "y = df.iloc[:,4]"
   ]
  },
  {
   "cell_type": "code",
   "execution_count": 22,
   "metadata": {},
   "outputs": [
    {
     "data": {
      "text/plain": [
       "Counter({0: 150, 1: 50})"
      ]
     },
     "execution_count": 22,
     "metadata": {},
     "output_type": "execute_result"
    }
   ],
   "source": [
    "Counter(y)"
   ]
  },
  {
   "cell_type": "code",
   "execution_count": 23,
   "metadata": {},
   "outputs": [
    {
     "data": {
      "text/plain": [
       "(array([[     9.39,  37843.68,  -3246.66,  -4794.71],\n",
       "        [    11.97,  65765.23, -15597.78, -17632.17],\n",
       "        [    12.46,  61002.29, -11401.92,  -7910.24],\n",
       "        [     1.39,  19952.73,  -1233.38,  -2408.1 ],\n",
       "        [     7.49,  24970.13,  -1135.68,   -397.32],\n",
       "        [     4.58, 222106.36, -16353.39, -55418.57],\n",
       "        [    16.9 ,  74282.97,  -4468.47,  -8517.32],\n",
       "        [    15.93, 117987.39,  -5313.2 ,  -1796.65],\n",
       "        [    11.96,  55248.19,  -7435.19, -18232.55],\n",
       "        [     9.47,  33039.88,  -1833.33,  -3631.88],\n",
       "        [     1.04,  20059.74,  -3898.77,  -2634.01],\n",
       "        [     4.21,  35386.94,   -191.07,  -1661.07],\n",
       "        [     7.4 ,  35107.89,  -1315.95,  -1951.39],\n",
       "        [    22.37, 116698.37,  -8254.79,  -9029.94],\n",
       "        [    26.63, 165132.22,  -1754.28, -34032.98],\n",
       "        [     7.84,  41564.57,   -341.03, -11029.77],\n",
       "        [     7.7 ,  35830.7 ,   -287.23,  -1158.01],\n",
       "        [     2.75,  17830.42,  -2145.19,  -6227.88],\n",
       "        [    13.63,  67805.58,  -7509.75,  -3131.71],\n",
       "        [     2.58,  20192.44,   -322.92,   -829.71],\n",
       "        [     3.69,  12517.06,     34.16,   -642.15],\n",
       "        [    20.99,  92609.2 , -10895.07, -18365.19],\n",
       "        [    14.45,  55837.36,  -1443.23,  -3773.82],\n",
       "        [    25.78,  63307.34,  -1931.02, -21382.34],\n",
       "        [     4.57,  29488.54,  -1201.6 ,  -3453.36],\n",
       "        [     9.31,  27375.73,  -1144.36,  -4041.63],\n",
       "        [     4.29,  73552.83,  -1711.38,  -1285.28],\n",
       "        [     0.58,  19312.63,     29.99,   -495.88],\n",
       "        [     1.19,  20357.13,   -600.28,  -3112.03],\n",
       "        [     3.64,  18431.38,   -447.79,  -3283.48],\n",
       "        [     2.35,  12507.96,  -3783.23,  -3375.64],\n",
       "        [    11.67,  77851.45,  -1953.92, -10429.36],\n",
       "        [     8.83,  28597.61,   -888.13,   1220.43],\n",
       "        [     7.86,  21613.02,    -26.99,  -1008.01],\n",
       "        [    12.29,  84269.87,  -3020.14, -19178.5 ],\n",
       "        [     0.91,  64388.61,   -431.64,  -7002.18],\n",
       "        [     5.18,  16710.51,  -1234.21,   1246.86],\n",
       "        [    15.12,  80738.33,  -5167.84,  -2203.91],\n",
       "        [     0.75,  13790.48,  -5585.98,  -7900.43],\n",
       "        [    11.44,  35216.17,  -3093.43,  -3920.23],\n",
       "        [    24.53, 117904.28,  -1368.05, -10137.6 ],\n",
       "        [    11.8 ,  32064.93,   -357.07,   -219.43],\n",
       "        [     6.77,  19060.25,  -2337.58,  -4486.25],\n",
       "        [    13.1 ,  81993.02,   -736.45,    492.95],\n",
       "        [    23.9 ,  70301.98,  -6211.33, -21486.69],\n",
       "        [    14.51,  35721.61,  -2568.89,  -4369.07],\n",
       "        [     7.37,  42544.94,  -5967.03, -19498.85],\n",
       "        [     4.33,  38366.84,  -2460.25,  -2223.67],\n",
       "        [     6.26, 191461.21,  -6309.38, -23389.47],\n",
       "        [     3.4 ,  50444.85,   -499.54,  -9581.66],\n",
       "        [    18.97, 451319.67, -32050.38, -24527.78],\n",
       "        [     4.61,  24542.26,   -126.18,  -2426.73],\n",
       "        [     0.97,  24527.76,   -757.81,  -4273.45],\n",
       "        [     8.71,  36139.6 ,  -1246.56,  -5135.5 ],\n",
       "        [     9.13,  46319.85,  -1866.69,  -1458.11],\n",
       "        [     6.12,  46793.91,  -2352.97,  -2643.13],\n",
       "        [    20.05, 112352.11,  -6492.5 , -24003.18],\n",
       "        [     0.52,  17677.21,   -320.09,  -1198.43],\n",
       "        [     5.53,  14330.95,  -1810.67,  -4767.52],\n",
       "        [    13.8 ,  71325.91,  -2050.77,  -2719.39],\n",
       "        [     0.63,  18097.99,   -184.11,   1747.24],\n",
       "        [     5.33,  18686.67,   -351.58,  -2285.74],\n",
       "        [     1.34,  28272.71,  -3513.03,  -8886.8 ],\n",
       "        [     0.35,  15263.13,  -1604.11,  -5876.32],\n",
       "        [     7.51,  39352.23,   -415.46,  -6147.01],\n",
       "        [     0.64,  27061.01,  -5516.62, -10775.29],\n",
       "        [    15.56,  74097.53,  -7919.7 ,  -8218.17],\n",
       "        [     4.04,  17915.12,   -498.  ,   -306.82],\n",
       "        [     9.84,  23057.98,  -1417.06,  -3334.76],\n",
       "        [     0.17,  21170.23,  -2840.04,  -3925.13],\n",
       "        [     1.79,  26287.24,  -1481.32,   -445.95],\n",
       "        [     1.58,  15146.14,   -558.25,     33.85],\n",
       "        [     4.46,  31945.41,   -845.85,  -2328.35],\n",
       "        [     6.9 ,  29452.16,   -822.16,  -1067.34],\n",
       "        [     5.86,  20503.56,  -1259.38,  -1559.84],\n",
       "        [    17.12, 112964.63,  -6628.53, -21659.83],\n",
       "        [     1.32,  18507.5 ,  -2136.11,  -2306.63],\n",
       "        [     8.74,  16478.3 ,   -173.27,    706.61],\n",
       "        [     9.66,  52303.58,  -5215.32, -17393.82],\n",
       "        [     6.58,  34375.08,   -313.26,  -2349.07],\n",
       "        [    31.65, 249835.97, -18532.44, -17228.16],\n",
       "        [     0.72,  25222.92,  -1887.67,  -3180.  ],\n",
       "        [     3.32,  16497.58,  -1539.14,  -2102.18],\n",
       "        [     0.68,  19047.96,   -580.53,  -3148.42],\n",
       "        [    10.79,  35484.65,  -2862.48,  -4971.34],\n",
       "        [    16.92,  95948.51,  -2874.61,   -591.44],\n",
       "        [    11.6 ,  62996.  , -11125.9 , -13652.34],\n",
       "        [     0.14,  18529.1 ,   -172.15,  -2671.17],\n",
       "        [     8.33,  39168.78,  -1980.31,  -4428.43],\n",
       "        [     7.97,  36913.58,  -1949.95,   -687.46],\n",
       "        [    18.22,  83778.01,  -1645.18, -10597.65],\n",
       "        [    11.32,  26330.23,  -2583.94,  -2078.65],\n",
       "        [     5.46,  41564.97,  -5272.92,  -8861.82],\n",
       "        [     0.28,  25886.42,  -2659.8 , -11607.72],\n",
       "        [    13.29,  61042.24,  -9939.91, -10871.62],\n",
       "        [     7.44,  25162.03,   -647.93,  -1691.28],\n",
       "        [     4.52,  11522.1 ,   -200.91,  -1622.19],\n",
       "        [    18.12,  46788.19,   -943.88,  -1547.91],\n",
       "        [    10.03,  46220.86,  -1026.66, -12244.68],\n",
       "        [    31.37, 250322.77,  -8504.74, -30319.02],\n",
       "        [     6.4 ,  68075.26,  -4241.05,  -3024.52],\n",
       "        [     9.64,  49859.31,  -6374.21,  -4486.84],\n",
       "        [     7.44,  27253.85,  -1083.98,  -1014.32],\n",
       "        [    14.53,  69674.12,  -4305.2 ,  -4915.37],\n",
       "        [    10.98,  35666.02,  -4834.3 ,  -1982.98],\n",
       "        [     6.02,  29038.07,  -4224.05,  -6675.97],\n",
       "        [    18.74,  58225.7 ,  -5095.15, -11737.17],\n",
       "        [     3.63,  19827.5 ,  -2952.22,  -4217.49],\n",
       "        [    11.46,  52869.21,  -5045.8 , -14190.15],\n",
       "        [     8.59,  35059.66,  -1459.73,  -4420.71],\n",
       "        [    13.76,  58770.47,  -6475.85,  -9729.38],\n",
       "        [     3.01,  24264.98,  -2806.59,  -2101.34],\n",
       "        [    10.62,  48850.01,   -701.98,    -66.03],\n",
       "        [     3.54,  15752.42,    -38.67,  -3395.44],\n",
       "        [     7.77,  20413.61,   -704.96,  -1789.12],\n",
       "        [     2.5 ,  24754.13,  -2502.91,  -3714.67],\n",
       "        [     2.6 ,  33714.18,  -2380.47,  -1754.91],\n",
       "        [    15.82,  57887.09,  -1614.08,  -2515.79],\n",
       "        [    10.92,  73158.88,  -1336.6 ,  -3991.53],\n",
       "        [    13.64,  53531.02,  -2849.06,  -6308.54],\n",
       "        [    15.02,  40240.62,  -8961.18,  -9642.5 ],\n",
       "        [     8.8 ,  48643.95,   -777.2 ,  -7195.9 ],\n",
       "        [    10.76,  43358.96,  -7606.16,  -7822.36],\n",
       "        [    22.95,  97958.24,  -1736.93,  -3752.7 ],\n",
       "        [     3.84,  25487.3 ,  -2464.77,  -5022.07],\n",
       "        [    15.51,  47201.28, -14557.03, -22228.21],\n",
       "        [     6.02,  28923.75,   -198.76,  -5224.12],\n",
       "        [     7.52,  63053.94,  -3932.95,  -7378.68],\n",
       "        [    10.03,  72712.61,  -5636.04,  -5688.42],\n",
       "        [     0.31,  23257.96,  -1472.97,  -4458.87],\n",
       "        [     5.89,  54688.12,   -896.88, -13897.73],\n",
       "        [     0.8 ,  26906.92,  -1129.05,  -1550.94],\n",
       "        [    12.7 ,  24672.21,  -2293.94,  -7103.67],\n",
       "        [    10.59,  30473.5 ,  -2608.62,  -2693.4 ],\n",
       "        [    11.33,  31996.65,   -773.22,  -3863.1 ],\n",
       "        [     0.33,  25383.51,  -1210.32,  -3348.62],\n",
       "        [     9.28,  43992.57,  -5813.49, -10240.55],\n",
       "        [     4.59,  20668.53,   -664.41,  -1563.3 ],\n",
       "        [    13.04,  35459.34,  -3854.71,  -4736.1 ],\n",
       "        [     2.82,  25410.22,  -2234.67,  -4641.43],\n",
       "        [     1.6 ,  14719.76,   -391.82,    717.54],\n",
       "        [     4.36,  39647.71,  -1471.09,  -2958.7 ],\n",
       "        [     0.67,  33664.06,  -1578.93,  -1008.03],\n",
       "        [    13.84,  65386.32,  -1808.09,  -6357.51],\n",
       "        [    24.21,  77330.27, -13081.84, -11505.48],\n",
       "        [     4.83,  22267.46,   -646.33,  -3964.41],\n",
       "        [     5.47,  44970.1 ,  -3555.19, -10735.32],\n",
       "        [     5.39,  80182.12, -13904.7 , -13034.72],\n",
       "        [     4.91,  35784.34,  -1574.  ,  -4676.62],\n",
       "        [     5.3 ,  76293.35,  -4397.21,  -6020.49],\n",
       "        [     4.49,  23507.49,   -209.8 ,  -1695.72],\n",
       "        [     5.49,  12590.35,   -754.52,  -1581.89],\n",
       "        [    10.96,  28163.57,   -350.96,  -2871.06],\n",
       "        [     2.02,  22928.43,  -4104.04,  -2219.86],\n",
       "        [     4.6 ,  16859.35,  -1908.36,  -2807.01],\n",
       "        [     0.45,  16585.04,  -3910.  ,  -5586.63],\n",
       "        [     7.63,  31945.45,  -1571.91,  -2553.28],\n",
       "        [    11.12,  27089.63,  -1534.82,  -4258.4 ],\n",
       "        [     0.58,  33500.67,  -4330.96,  -8748.37],\n",
       "        [     7.61,  24082.79,  -1325.21,   -923.5 ],\n",
       "        [    29.57, 149418.11,  -7972.95, -13568.39],\n",
       "        [     0.62,  16942.23,   -411.61,  -4703.83],\n",
       "        [     9.79,  29746.86,   -396.03,   -194.09],\n",
       "        [    14.1 ,  53737.47,  -1597.1 ,  -3615.75],\n",
       "        [    11.44,  31123.05,  -4246.52,  -2142.27],\n",
       "        [     5.01,  20367.15,   -290.64,  -3493.16],\n",
       "        [     7.23,  15723.45,  -1074.59,  -1288.29],\n",
       "        [     2.04,  28720.26,   -555.13,  -2600.24],\n",
       "        [    11.74,  57901.29,  -9563.01,  -6762.58],\n",
       "        [    21.79,  48116.75,  -5082.09,  -2942.47],\n",
       "        [     3.4 ,  24385.94,  -3679.76,  -2723.88],\n",
       "        [     0.32,  17109.46,  -4164.17,  -6581.3 ],\n",
       "        [    12.79,  95717.06,  -5807.63,  -6871.33],\n",
       "        [    18.29,  45261.92,   -717.64,   -754.02],\n",
       "        [    13.45,  25894.59,  -1027.75,  -1074.32],\n",
       "        [     1.33,  30967.94,  -3426.62,  -4259.57],\n",
       "        [     9.73,  31196.19,   -858.56,  -4226.92],\n",
       "        [     6.33,  35807.63,  -3371.48, -10031.86],\n",
       "        [     0.99,  16539.51,   -523.46,  -2422.41],\n",
       "        [     1.64,  14781.17,   -457.22,  -2988.85],\n",
       "        [     2.75,  27109.37,   -826.33,  -5903.39],\n",
       "        [     4.96,  19911.72,  -1345.11,  -1488.67],\n",
       "        [    15.8 ,  59362.36,  -3681.49,  -5971.53],\n",
       "        [     0.2 ,  22488.21,   -677.43,  -5391.43],\n",
       "        [    19.2 ,  73367.4 ,  -7698.45, -32857.82],\n",
       "        [     4.12,  17289.69,   -909.69,  -3459.71],\n",
       "        [     0.45,  34053.99,  -4387.78,  -5064.73],\n",
       "        [     8.16,  25633.04,   -485.61,   -453.26],\n",
       "        [     0.49,  16795.96,   -403.7 ,    124.57],\n",
       "        [    17.83,  67276.62, -10497.48,  -4908.37],\n",
       "        [    15.31,  46265.46,  -2569.22,  -2339.42],\n",
       "        [    20.18, 144700.36,  -6447.44, -29135.04],\n",
       "        [     6.85,  52053.62,  -2458.76, -13116.62],\n",
       "        [     0.61,  30128.62,  -1210.49,  -2707.15],\n",
       "        [     0.04,  25094.2 ,   -293.21,  -2250.2 ],\n",
       "        [    13.25,  58643.79,  -5164.71, -11395.31],\n",
       "        [     7.82,  17453.12,   -983.58,  -1431.84],\n",
       "        [     2.37,  27214.16,  -1446.02,  -2100.69],\n",
       "        [    16.69, 115210.82,  -3205.97, -25826.62],\n",
       "        [    16.41, 123171.43,  -1195.03,  -6469.83]]),\n",
       " array([0, 1, 1, 0, 0, 1, 0, 0, 0, 0, 1, 0, 1, 0, 0, 0, 0, 1, 0, 0, 0, 0,\n",
       "        0, 0, 1, 0, 0, 0, 0, 0, 1, 0, 0, 0, 0, 0, 0, 0, 1, 0, 0, 0, 0, 0,\n",
       "        0, 0, 1, 1, 0, 1, 1, 0, 1, 0, 0, 0, 0, 0, 0, 0, 0, 0, 1, 1, 0, 1,\n",
       "        0, 0, 0, 1, 0, 0, 1, 1, 0, 0, 0, 0, 0, 0, 0, 0, 1, 1, 0, 0, 0, 0,\n",
       "        0, 0, 0, 0, 0, 0, 1, 0, 0, 0, 0, 0, 0, 1, 0, 1, 0, 1, 0, 1, 1, 0,\n",
       "        0, 0, 0, 1, 0, 1, 0, 0, 0, 0, 1, 0, 0, 0, 0, 1, 0, 0, 0, 1, 1, 0,\n",
       "        0, 0, 0, 1, 1, 0, 0, 1, 1, 0, 0, 0, 0, 0, 1, 1, 0, 0, 0, 0, 0, 0,\n",
       "        0, 1, 0, 1, 0, 0, 0, 1, 0, 0, 0, 0, 1, 0, 0, 0, 0, 1, 0, 0, 0, 0,\n",
       "        0, 0, 1, 1, 0, 0, 0, 0, 0, 0, 1, 0, 1, 0, 0, 0, 0, 1, 0, 0, 0, 0,\n",
       "        0, 0], dtype=int64))"
      ]
     },
     "execution_count": 23,
     "metadata": {},
     "output_type": "execute_result"
    }
   ],
   "source": [
    "X.values, y.values"
   ]
  },
  {
   "cell_type": "code",
   "execution_count": 24,
   "metadata": {},
   "outputs": [],
   "source": [
    "X_train, X_test, y_train, y_test = train_test_split(X.values, y.values, test_size=0.2, random_state=0, stratify=y)"
   ]
  },
  {
   "cell_type": "code",
   "execution_count": 25,
   "metadata": {},
   "outputs": [
    {
     "data": {
      "text/plain": [
       "((160, 4), (40, 4), (160,), (40,))"
      ]
     },
     "execution_count": 25,
     "metadata": {},
     "output_type": "execute_result"
    }
   ],
   "source": [
    "X_train.shape, X_test.shape, y_train.shape, y_test.shape"
   ]
  },
  {
   "cell_type": "code",
   "execution_count": 26,
   "metadata": {},
   "outputs": [
    {
     "data": {
      "text/plain": [
       "(Counter({0: 120, 1: 40}), Counter({0: 30, 1: 10}))"
      ]
     },
     "execution_count": 26,
     "metadata": {},
     "output_type": "execute_result"
    }
   ],
   "source": [
    "Counter(y_train), Counter(y_test)"
   ]
  },
  {
   "cell_type": "code",
   "execution_count": 27,
   "metadata": {},
   "outputs": [],
   "source": [
    "lr = LogisticRegression(random_state=0)"
   ]
  },
  {
   "cell_type": "code",
   "execution_count": 28,
   "metadata": {},
   "outputs": [
    {
     "data": {
      "text/plain": [
       "LogisticRegression(random_state=0)"
      ]
     },
     "execution_count": 28,
     "metadata": {},
     "output_type": "execute_result"
    }
   ],
   "source": [
    "lr.fit(X_train,y_train)"
   ]
  },
  {
   "cell_type": "code",
   "execution_count": 29,
   "metadata": {},
   "outputs": [
    {
     "data": {
      "text/plain": [
       "array([[-0.28517362, -0.00002103, -0.00043335, -0.00007534]])"
      ]
     },
     "execution_count": 29,
     "metadata": {},
     "output_type": "execute_result"
    }
   ],
   "source": [
    "lr.coef_"
   ]
  },
  {
   "cell_type": "code",
   "execution_count": 30,
   "metadata": {},
   "outputs": [
    {
     "data": {
      "text/plain": [
       "array([-0.01925288])"
      ]
     },
     "execution_count": 30,
     "metadata": {},
     "output_type": "execute_result"
    }
   ],
   "source": [
    "lr.intercept_"
   ]
  },
  {
   "cell_type": "code",
   "execution_count": 31,
   "metadata": {},
   "outputs": [],
   "source": [
    "y_pred = lr.predict(X_test)"
   ]
  },
  {
   "cell_type": "code",
   "execution_count": 32,
   "metadata": {},
   "outputs": [
    {
     "data": {
      "text/plain": [
       "array([0, 1, 0, 0, 0, 0, 0, 0, 0, 0, 0, 0, 0, 0, 0, 0, 1, 1, 0, 1, 0, 0,\n",
       "       1, 0, 0, 0, 1, 0, 0, 1, 0, 0, 0, 0, 1, 0, 1, 0, 0, 1], dtype=int64)"
      ]
     },
     "execution_count": 32,
     "metadata": {},
     "output_type": "execute_result"
    }
   ],
   "source": [
    "y_pred"
   ]
  },
  {
   "cell_type": "code",
   "execution_count": 33,
   "metadata": {},
   "outputs": [
    {
     "name": "stdout",
     "output_type": "stream",
     "text": [
      "              precision    recall  f1-score   support\n",
      "\n",
      "           0       0.90      0.90      0.90        30\n",
      "           1       0.70      0.70      0.70        10\n",
      "\n",
      "    accuracy                           0.85        40\n",
      "   macro avg       0.80      0.80      0.80        40\n",
      "weighted avg       0.85      0.85      0.85        40\n",
      "\n"
     ]
    }
   ],
   "source": [
    "print(classification_report(y_test,y_pred))"
   ]
  },
  {
   "cell_type": "code",
   "execution_count": 34,
   "metadata": {},
   "outputs": [
    {
     "data": {
      "text/plain": [
       "array([[27,  3],\n",
       "       [ 3,  7]], dtype=int64)"
      ]
     },
     "execution_count": 34,
     "metadata": {},
     "output_type": "execute_result"
    }
   ],
   "source": [
    "cm = confusion_matrix(y_test,y_pred)\n",
    "cm"
   ]
  },
  {
   "cell_type": "code",
   "execution_count": 35,
   "metadata": {},
   "outputs": [
    {
     "data": {
      "image/png": "[encoded data removed]",
      "text/plain": [
       "<Figure size 432x288 with 2 Axes>"
      ]
     },
     "metadata": {},
     "output_type": "display_data"
    }
   ],
   "source": [
    "plot_confusion_matrix(estimator=lr, X=X_test, y_true=y_test, cmap='YlGnBu')\n",
    "plt.show()"
   ]
  },
  {
   "cell_type": "code",
   "execution_count": 36,
   "metadata": {},
   "outputs": [
    {
     "data": {
      "image/png": "[encoded data removed]",
      "text/plain": [
       "<Figure size 432x288 with 1 Axes>"
      ]
     },
     "metadata": {},
     "output_type": "display_data"
    }
   ],
   "source": [
    "plot_roc_curve(estimator=lr, X=X_test, y=y_test)\n",
    "plt.show()"
   ]
  },
  {
   "cell_type": "code",
   "execution_count": 37,
   "metadata": {},
   "outputs": [
    {
     "data": {
      "text/plain": [
       "array([0, 0, 0, 0, 0, 0, 0, 0, 0, 0, 1, 0, 1, 0, 0, 0, 0, 1, 0, 1, 0, 0,\n",
       "       1, 0, 1, 0, 1, 0, 0, 1, 0, 0, 0, 0, 1, 0, 0, 0, 0, 1], dtype=int64)"
      ]
     },
     "execution_count": 37,
     "metadata": {},
     "output_type": "execute_result"
    }
   ],
   "source": [
    "y_test"
   ]
  },
  {
   "cell_type": "code",
   "execution_count": 38,
   "metadata": {},
   "outputs": [
    {
     "data": {
      "text/plain": [
       "array([0, 1, 0, 0, 0, 0, 0, 0, 0, 0, 0, 0, 0, 0, 0, 0, 1, 1, 0, 1, 0, 0,\n",
       "       1, 0, 0, 0, 1, 0, 0, 1, 0, 0, 0, 0, 1, 0, 1, 0, 0, 1], dtype=int64)"
      ]
     },
     "execution_count": 38,
     "metadata": {},
     "output_type": "execute_result"
    }
   ],
   "source": [
    "y_pred"
   ]
  },
  {
   "cell_type": "code",
   "execution_count": 39,
   "metadata": {},
   "outputs": [
    {
     "data": {
      "text/plain": [
       "array([[     3.69,  12517.06,     34.16,   -642.15],\n",
       "       [     5.46,  41564.97,  -5272.92,  -8861.82],\n",
       "       [     7.63,  31945.45,  -1571.91,  -2553.28],\n",
       "       [     7.86,  21613.02,    -26.99,  -1008.01],\n",
       "       [    13.25,  58643.79,  -5164.71, -11395.31],\n",
       "       [     7.97,  36913.58,  -1949.95,   -687.46],\n",
       "       [     4.36,  39647.71,  -1471.09,  -2958.7 ],\n",
       "       [    15.56,  74097.53,  -7919.7 ,  -8218.17],\n",
       "       [    14.51,  35721.61,  -2568.89,  -4369.07],\n",
       "       [     7.61,  24082.79,  -1325.21,   -923.5 ],\n",
       "       [     6.9 ,  29452.16,   -822.16,  -1067.34],\n",
       "       [     5.33,  18686.67,   -351.58,  -2285.74],\n",
       "       [     7.4 ,  35107.89,  -1315.95,  -1951.39],\n",
       "       [     5.01,  20367.15,   -290.64,  -3493.16],\n",
       "       [     7.44,  25162.03,   -647.93,  -1691.28],\n",
       "       [     9.66,  52303.58,  -5215.32, -17393.82],\n",
       "       [     1.33,  30967.94,  -3426.62,  -4259.57],\n",
       "       [     4.58, 222106.36, -16353.39, -55418.57],\n",
       "       [     8.71,  36139.6 ,  -1246.56,  -5135.5 ],\n",
       "       [     1.34,  28272.71,  -3513.03,  -8886.8 ],\n",
       "       [     4.29,  73552.83,  -1711.38,  -1285.28],\n",
       "       [    10.92,  73158.88,  -1336.6 ,  -3991.53],\n",
       "       [     1.04,  20059.74,  -3898.77,  -2634.01],\n",
       "       [    20.18, 144700.36,  -6447.44, -29135.04],\n",
       "       [     0.61,  30128.62,  -1210.49,  -2707.15],\n",
       "       [    15.12,  80738.33,  -5167.84,  -2203.91],\n",
       "       [     0.75,  13790.48,  -5585.98,  -7900.43],\n",
       "       [    26.63, 165132.22,  -1754.28, -34032.98],\n",
       "       [     8.59,  35059.66,  -1459.73,  -4420.71],\n",
       "       [     0.31,  23257.96,  -1472.97,  -4458.87],\n",
       "       [    15.82,  57887.09,  -1614.08,  -2515.79],\n",
       "       [     1.19,  20357.13,   -600.28,  -3112.03],\n",
       "       [    17.83,  67276.62, -10497.48,  -4908.37],\n",
       "       [    10.59,  30473.5 ,  -2608.62,  -2693.4 ],\n",
       "       [    15.51,  47201.28, -14557.03, -22228.21],\n",
       "       [    13.76,  58770.47,  -6475.85,  -9729.38],\n",
       "       [     0.2 ,  22488.21,   -677.43,  -5391.43],\n",
       "       [     6.4 ,  68075.26,  -4241.05,  -3024.52],\n",
       "       [    10.98,  35666.02,  -4834.3 ,  -1982.98],\n",
       "       [     3.63,  19827.5 ,  -2952.22,  -4217.49]])"
      ]
     },
     "execution_count": 39,
     "metadata": {},
     "output_type": "execute_result"
    }
   ],
   "source": [
    "X_test"
   ]
  },
  {
   "cell_type": "code",
   "execution_count": 40,
   "metadata": {},
   "outputs": [],
   "source": [
    "result = {\"Actual\": y_test, \"Predicted\": y_pred}"
   ]
  },
  {
   "cell_type": "code",
   "execution_count": 41,
   "metadata": {},
   "outputs": [],
   "source": [
    "result_df = pd.DataFrame(result)"
   ]
  },
  {
   "cell_type": "code",
   "execution_count": 42,
   "metadata": {},
   "outputs": [
    {
     "data": {
      "text/html": [
       "<div>\n",
       "<style scoped>\n",
       "    .dataframe tbody tr th:only-of-type {\n",
       "        vertical-align: middle;\n",
       "    }\n",
       "\n",
       "    .dataframe tbody tr th {\n",
       "        vertical-align: top;\n",
       "    }\n",
       "\n",
       "    .dataframe thead th {\n",
       "        text-align: right;\n",
       "    }\n",
       "</style>\n",
       "<table border=\"1\" class=\"dataframe\">\n",
       "  <thead>\n",
       "    <tr style=\"text-align: right;\">\n",
       "      <th></th>\n",
       "      <th>Actual</th>\n",
       "      <th>Predicted</th>\n",
       "    </tr>\n",
       "  </thead>\n",
       "  <tbody>\n",
       "    <tr>\n",
       "      <th>0</th>\n",
       "      <td>0</td>\n",
       "      <td>0</td>\n",
       "    </tr>\n",
       "    <tr>\n",
       "      <th>1</th>\n",
       "      <td>0</td>\n",
       "      <td>1</td>\n",
       "    </tr>\n",
       "    <tr>\n",
       "      <th>2</th>\n",
       "      <td>0</td>\n",
       "      <td>0</td>\n",
       "    </tr>\n",
       "    <tr>\n",
       "      <th>3</th>\n",
       "      <td>0</td>\n",
       "      <td>0</td>\n",
       "    </tr>\n",
       "    <tr>\n",
       "      <th>4</th>\n",
       "      <td>0</td>\n",
       "      <td>0</td>\n",
       "    </tr>\n",
       "    <tr>\n",
       "      <th>5</th>\n",
       "      <td>0</td>\n",
       "      <td>0</td>\n",
       "    </tr>\n",
       "    <tr>\n",
       "      <th>6</th>\n",
       "      <td>0</td>\n",
       "      <td>0</td>\n",
       "    </tr>\n",
       "    <tr>\n",
       "      <th>7</th>\n",
       "      <td>0</td>\n",
       "      <td>0</td>\n",
       "    </tr>\n",
       "    <tr>\n",
       "      <th>8</th>\n",
       "      <td>0</td>\n",
       "      <td>0</td>\n",
       "    </tr>\n",
       "    <tr>\n",
       "      <th>9</th>\n",
       "      <td>0</td>\n",
       "      <td>0</td>\n",
       "    </tr>\n",
       "    <tr>\n",
       "      <th>10</th>\n",
       "      <td>1</td>\n",
       "      <td>0</td>\n",
       "    </tr>\n",
       "    <tr>\n",
       "      <th>11</th>\n",
       "      <td>0</td>\n",
       "      <td>0</td>\n",
       "    </tr>\n",
       "    <tr>\n",
       "      <th>12</th>\n",
       "      <td>1</td>\n",
       "      <td>0</td>\n",
       "    </tr>\n",
       "    <tr>\n",
       "      <th>13</th>\n",
       "      <td>0</td>\n",
       "      <td>0</td>\n",
       "    </tr>\n",
       "    <tr>\n",
       "      <th>14</th>\n",
       "      <td>0</td>\n",
       "      <td>0</td>\n",
       "    </tr>\n",
       "    <tr>\n",
       "      <th>15</th>\n",
       "      <td>0</td>\n",
       "      <td>0</td>\n",
       "    </tr>\n",
       "    <tr>\n",
       "      <th>16</th>\n",
       "      <td>0</td>\n",
       "      <td>1</td>\n",
       "    </tr>\n",
       "    <tr>\n",
       "      <th>17</th>\n",
       "      <td>1</td>\n",
       "      <td>1</td>\n",
       "    </tr>\n",
       "    <tr>\n",
       "      <th>18</th>\n",
       "      <td>0</td>\n",
       "      <td>0</td>\n",
       "    </tr>\n",
       "    <tr>\n",
       "      <th>19</th>\n",
       "      <td>1</td>\n",
       "      <td>1</td>\n",
       "    </tr>\n",
       "    <tr>\n",
       "      <th>20</th>\n",
       "      <td>0</td>\n",
       "      <td>0</td>\n",
       "    </tr>\n",
       "    <tr>\n",
       "      <th>21</th>\n",
       "      <td>0</td>\n",
       "      <td>0</td>\n",
       "    </tr>\n",
       "    <tr>\n",
       "      <th>22</th>\n",
       "      <td>1</td>\n",
       "      <td>1</td>\n",
       "    </tr>\n",
       "    <tr>\n",
       "      <th>23</th>\n",
       "      <td>0</td>\n",
       "      <td>0</td>\n",
       "    </tr>\n",
       "    <tr>\n",
       "      <th>24</th>\n",
       "      <td>1</td>\n",
       "      <td>0</td>\n",
       "    </tr>\n",
       "    <tr>\n",
       "      <th>25</th>\n",
       "      <td>0</td>\n",
       "      <td>0</td>\n",
       "    </tr>\n",
       "    <tr>\n",
       "      <th>26</th>\n",
       "      <td>1</td>\n",
       "      <td>1</td>\n",
       "    </tr>\n",
       "    <tr>\n",
       "      <th>27</th>\n",
       "      <td>0</td>\n",
       "      <td>0</td>\n",
       "    </tr>\n",
       "    <tr>\n",
       "      <th>28</th>\n",
       "      <td>0</td>\n",
       "      <td>0</td>\n",
       "    </tr>\n",
       "    <tr>\n",
       "      <th>29</th>\n",
       "      <td>1</td>\n",
       "      <td>1</td>\n",
       "    </tr>\n",
       "    <tr>\n",
       "      <th>30</th>\n",
       "      <td>0</td>\n",
       "      <td>0</td>\n",
       "    </tr>\n",
       "    <tr>\n",
       "      <th>31</th>\n",
       "      <td>0</td>\n",
       "      <td>0</td>\n",
       "    </tr>\n",
       "    <tr>\n",
       "      <th>32</th>\n",
       "      <td>0</td>\n",
       "      <td>0</td>\n",
       "    </tr>\n",
       "    <tr>\n",
       "      <th>33</th>\n",
       "      <td>0</td>\n",
       "      <td>0</td>\n",
       "    </tr>\n",
       "    <tr>\n",
       "      <th>34</th>\n",
       "      <td>1</td>\n",
       "      <td>1</td>\n",
       "    </tr>\n",
       "    <tr>\n",
       "      <th>35</th>\n",
       "      <td>0</td>\n",
       "      <td>0</td>\n",
       "    </tr>\n",
       "    <tr>\n",
       "      <th>36</th>\n",
       "      <td>0</td>\n",
       "      <td>1</td>\n",
       "    </tr>\n",
       "    <tr>\n",
       "      <th>37</th>\n",
       "      <td>0</td>\n",
       "      <td>0</td>\n",
       "    </tr>\n",
       "    <tr>\n",
       "      <th>38</th>\n",
       "      <td>0</td>\n",
       "      <td>0</td>\n",
       "    </tr>\n",
       "    <tr>\n",
       "      <th>39</th>\n",
       "      <td>1</td>\n",
       "      <td>1</td>\n",
       "    </tr>\n",
       "  </tbody>\n",
       "</table>\n",
       "</div>"
      ],
      "text/plain": [
       "    Actual  Predicted\n",
       "0        0          0\n",
       "1        0          1\n",
       "2        0          0\n",
       "3        0          0\n",
       "4        0          0\n",
       "5        0          0\n",
       "6        0          0\n",
       "7        0          0\n",
       "8        0          0\n",
       "9        0          0\n",
       "10       1          0\n",
       "11       0          0\n",
       "12       1          0\n",
       "13       0          0\n",
       "14       0          0\n",
       "15       0          0\n",
       "16       0          1\n",
       "17       1          1\n",
       "18       0          0\n",
       "19       1          1\n",
       "20       0          0\n",
       "21       0          0\n",
       "22       1          1\n",
       "23       0          0\n",
       "24       1          0\n",
       "25       0          0\n",
       "26       1          1\n",
       "27       0          0\n",
       "28       0          0\n",
       "29       1          1\n",
       "30       0          0\n",
       "31       0          0\n",
       "32       0          0\n",
       "33       0          0\n",
       "34       1          1\n",
       "35       0          0\n",
       "36       0          1\n",
       "37       0          0\n",
       "38       0          0\n",
       "39       1          1"
      ]
     },
     "execution_count": 42,
     "metadata": {},
     "output_type": "execute_result"
    }
   ],
   "source": [
    "result_df"
   ]
  },
  {
   "cell_type": "code",
   "execution_count": 43,
   "metadata": {},
   "outputs": [],
   "source": [
    "X_test_df = pd.DataFrame(X_test, columns=X.columns)"
   ]
  },
  {
   "cell_type": "code",
   "execution_count": 44,
   "metadata": {},
   "outputs": [
    {
     "data": {
      "text/html": [
       "<div>\n",
       "<style scoped>\n",
       "    .dataframe tbody tr th:only-of-type {\n",
       "        vertical-align: middle;\n",
       "    }\n",
       "\n",
       "    .dataframe tbody tr th {\n",
       "        vertical-align: top;\n",
       "    }\n",
       "\n",
       "    .dataframe thead th {\n",
       "        text-align: right;\n",
       "    }\n",
       "</style>\n",
       "<table border=\"1\" class=\"dataframe\">\n",
       "  <thead>\n",
       "    <tr style=\"text-align: right;\">\n",
       "      <th></th>\n",
       "      <th>YearsatEmployer</th>\n",
       "      <th>Income</th>\n",
       "      <th>CreditCardDebt</th>\n",
       "      <th>AutomobileDebt</th>\n",
       "    </tr>\n",
       "  </thead>\n",
       "  <tbody>\n",
       "    <tr>\n",
       "      <th>0</th>\n",
       "      <td>3.69</td>\n",
       "      <td>12517.06</td>\n",
       "      <td>34.16</td>\n",
       "      <td>-642.15</td>\n",
       "    </tr>\n",
       "    <tr>\n",
       "      <th>1</th>\n",
       "      <td>5.46</td>\n",
       "      <td>41564.97</td>\n",
       "      <td>-5272.92</td>\n",
       "      <td>-8861.82</td>\n",
       "    </tr>\n",
       "    <tr>\n",
       "      <th>2</th>\n",
       "      <td>7.63</td>\n",
       "      <td>31945.45</td>\n",
       "      <td>-1571.91</td>\n",
       "      <td>-2553.28</td>\n",
       "    </tr>\n",
       "    <tr>\n",
       "      <th>3</th>\n",
       "      <td>7.86</td>\n",
       "      <td>21613.02</td>\n",
       "      <td>-26.99</td>\n",
       "      <td>-1008.01</td>\n",
       "    </tr>\n",
       "    <tr>\n",
       "      <th>4</th>\n",
       "      <td>13.25</td>\n",
       "      <td>58643.79</td>\n",
       "      <td>-5164.71</td>\n",
       "      <td>-11395.31</td>\n",
       "    </tr>\n",
       "    <tr>\n",
       "      <th>5</th>\n",
       "      <td>7.97</td>\n",
       "      <td>36913.58</td>\n",
       "      <td>-1949.95</td>\n",
       "      <td>-687.46</td>\n",
       "    </tr>\n",
       "    <tr>\n",
       "      <th>6</th>\n",
       "      <td>4.36</td>\n",
       "      <td>39647.71</td>\n",
       "      <td>-1471.09</td>\n",
       "      <td>-2958.70</td>\n",
       "    </tr>\n",
       "    <tr>\n",
       "      <th>7</th>\n",
       "      <td>15.56</td>\n",
       "      <td>74097.53</td>\n",
       "      <td>-7919.70</td>\n",
       "      <td>-8218.17</td>\n",
       "    </tr>\n",
       "    <tr>\n",
       "      <th>8</th>\n",
       "      <td>14.51</td>\n",
       "      <td>35721.61</td>\n",
       "      <td>-2568.89</td>\n",
       "      <td>-4369.07</td>\n",
       "    </tr>\n",
       "    <tr>\n",
       "      <th>9</th>\n",
       "      <td>7.61</td>\n",
       "      <td>24082.79</td>\n",
       "      <td>-1325.21</td>\n",
       "      <td>-923.50</td>\n",
       "    </tr>\n",
       "    <tr>\n",
       "      <th>10</th>\n",
       "      <td>6.90</td>\n",
       "      <td>29452.16</td>\n",
       "      <td>-822.16</td>\n",
       "      <td>-1067.34</td>\n",
       "    </tr>\n",
       "    <tr>\n",
       "      <th>11</th>\n",
       "      <td>5.33</td>\n",
       "      <td>18686.67</td>\n",
       "      <td>-351.58</td>\n",
       "      <td>-2285.74</td>\n",
       "    </tr>\n",
       "    <tr>\n",
       "      <th>12</th>\n",
       "      <td>7.40</td>\n",
       "      <td>35107.89</td>\n",
       "      <td>-1315.95</td>\n",
       "      <td>-1951.39</td>\n",
       "    </tr>\n",
       "    <tr>\n",
       "      <th>13</th>\n",
       "      <td>5.01</td>\n",
       "      <td>20367.15</td>\n",
       "      <td>-290.64</td>\n",
       "      <td>-3493.16</td>\n",
       "    </tr>\n",
       "    <tr>\n",
       "      <th>14</th>\n",
       "      <td>7.44</td>\n",
       "      <td>25162.03</td>\n",
       "      <td>-647.93</td>\n",
       "      <td>-1691.28</td>\n",
       "    </tr>\n",
       "    <tr>\n",
       "      <th>15</th>\n",
       "      <td>9.66</td>\n",
       "      <td>52303.58</td>\n",
       "      <td>-5215.32</td>\n",
       "      <td>-17393.82</td>\n",
       "    </tr>\n",
       "    <tr>\n",
       "      <th>16</th>\n",
       "      <td>1.33</td>\n",
       "      <td>30967.94</td>\n",
       "      <td>-3426.62</td>\n",
       "      <td>-4259.57</td>\n",
       "    </tr>\n",
       "    <tr>\n",
       "      <th>17</th>\n",
       "      <td>4.58</td>\n",
       "      <td>222106.36</td>\n",
       "      <td>-16353.39</td>\n",
       "      <td>-55418.57</td>\n",
       "    </tr>\n",
       "    <tr>\n",
       "      <th>18</th>\n",
       "      <td>8.71</td>\n",
       "      <td>36139.60</td>\n",
       "      <td>-1246.56</td>\n",
       "      <td>-5135.50</td>\n",
       "    </tr>\n",
       "    <tr>\n",
       "      <th>19</th>\n",
       "      <td>1.34</td>\n",
       "      <td>28272.71</td>\n",
       "      <td>-3513.03</td>\n",
       "      <td>-8886.80</td>\n",
       "    </tr>\n",
       "    <tr>\n",
       "      <th>20</th>\n",
       "      <td>4.29</td>\n",
       "      <td>73552.83</td>\n",
       "      <td>-1711.38</td>\n",
       "      <td>-1285.28</td>\n",
       "    </tr>\n",
       "    <tr>\n",
       "      <th>21</th>\n",
       "      <td>10.92</td>\n",
       "      <td>73158.88</td>\n",
       "      <td>-1336.60</td>\n",
       "      <td>-3991.53</td>\n",
       "    </tr>\n",
       "    <tr>\n",
       "      <th>22</th>\n",
       "      <td>1.04</td>\n",
       "      <td>20059.74</td>\n",
       "      <td>-3898.77</td>\n",
       "      <td>-2634.01</td>\n",
       "    </tr>\n",
       "    <tr>\n",
       "      <th>23</th>\n",
       "      <td>20.18</td>\n",
       "      <td>144700.36</td>\n",
       "      <td>-6447.44</td>\n",
       "      <td>-29135.04</td>\n",
       "    </tr>\n",
       "    <tr>\n",
       "      <th>24</th>\n",
       "      <td>0.61</td>\n",
       "      <td>30128.62</td>\n",
       "      <td>-1210.49</td>\n",
       "      <td>-2707.15</td>\n",
       "    </tr>\n",
       "    <tr>\n",
       "      <th>25</th>\n",
       "      <td>15.12</td>\n",
       "      <td>80738.33</td>\n",
       "      <td>-5167.84</td>\n",
       "      <td>-2203.91</td>\n",
       "    </tr>\n",
       "    <tr>\n",
       "      <th>26</th>\n",
       "      <td>0.75</td>\n",
       "      <td>13790.48</td>\n",
       "      <td>-5585.98</td>\n",
       "      <td>-7900.43</td>\n",
       "    </tr>\n",
       "    <tr>\n",
       "      <th>27</th>\n",
       "      <td>26.63</td>\n",
       "      <td>165132.22</td>\n",
       "      <td>-1754.28</td>\n",
       "      <td>-34032.98</td>\n",
       "    </tr>\n",
       "    <tr>\n",
       "      <th>28</th>\n",
       "      <td>8.59</td>\n",
       "      <td>35059.66</td>\n",
       "      <td>-1459.73</td>\n",
       "      <td>-4420.71</td>\n",
       "    </tr>\n",
       "    <tr>\n",
       "      <th>29</th>\n",
       "      <td>0.31</td>\n",
       "      <td>23257.96</td>\n",
       "      <td>-1472.97</td>\n",
       "      <td>-4458.87</td>\n",
       "    </tr>\n",
       "    <tr>\n",
       "      <th>30</th>\n",
       "      <td>15.82</td>\n",
       "      <td>57887.09</td>\n",
       "      <td>-1614.08</td>\n",
       "      <td>-2515.79</td>\n",
       "    </tr>\n",
       "    <tr>\n",
       "      <th>31</th>\n",
       "      <td>1.19</td>\n",
       "      <td>20357.13</td>\n",
       "      <td>-600.28</td>\n",
       "      <td>-3112.03</td>\n",
       "    </tr>\n",
       "    <tr>\n",
       "      <th>32</th>\n",
       "      <td>17.83</td>\n",
       "      <td>67276.62</td>\n",
       "      <td>-10497.48</td>\n",
       "      <td>-4908.37</td>\n",
       "    </tr>\n",
       "    <tr>\n",
       "      <th>33</th>\n",
       "      <td>10.59</td>\n",
       "      <td>30473.50</td>\n",
       "      <td>-2608.62</td>\n",
       "      <td>-2693.40</td>\n",
       "    </tr>\n",
       "    <tr>\n",
       "      <th>34</th>\n",
       "      <td>15.51</td>\n",
       "      <td>47201.28</td>\n",
       "      <td>-14557.03</td>\n",
       "      <td>-22228.21</td>\n",
       "    </tr>\n",
       "    <tr>\n",
       "      <th>35</th>\n",
       "      <td>13.76</td>\n",
       "      <td>58770.47</td>\n",
       "      <td>-6475.85</td>\n",
       "      <td>-9729.38</td>\n",
       "    </tr>\n",
       "    <tr>\n",
       "      <th>36</th>\n",
       "      <td>0.20</td>\n",
       "      <td>22488.21</td>\n",
       "      <td>-677.43</td>\n",
       "      <td>-5391.43</td>\n",
       "    </tr>\n",
       "    <tr>\n",
       "      <th>37</th>\n",
       "      <td>6.40</td>\n",
       "      <td>68075.26</td>\n",
       "      <td>-4241.05</td>\n",
       "      <td>-3024.52</td>\n",
       "    </tr>\n",
       "    <tr>\n",
       "      <th>38</th>\n",
       "      <td>10.98</td>\n",
       "      <td>35666.02</td>\n",
       "      <td>-4834.30</td>\n",
       "      <td>-1982.98</td>\n",
       "    </tr>\n",
       "    <tr>\n",
       "      <th>39</th>\n",
       "      <td>3.63</td>\n",
       "      <td>19827.50</td>\n",
       "      <td>-2952.22</td>\n",
       "      <td>-4217.49</td>\n",
       "    </tr>\n",
       "  </tbody>\n",
       "</table>\n",
       "</div>"
      ],
      "text/plain": [
       "    YearsatEmployer    Income  CreditCardDebt  AutomobileDebt\n",
       "0              3.69  12517.06           34.16         -642.15\n",
       "1              5.46  41564.97        -5272.92        -8861.82\n",
       "2              7.63  31945.45        -1571.91        -2553.28\n",
       "3              7.86  21613.02          -26.99        -1008.01\n",
       "4             13.25  58643.79        -5164.71       -11395.31\n",
       "5              7.97  36913.58        -1949.95         -687.46\n",
       "6              4.36  39647.71        -1471.09        -2958.70\n",
       "7             15.56  74097.53        -7919.70        -8218.17\n",
       "8             14.51  35721.61        -2568.89        -4369.07\n",
       "9              7.61  24082.79        -1325.21         -923.50\n",
       "10             6.90  29452.16         -822.16        -1067.34\n",
       "11             5.33  18686.67         -351.58        -2285.74\n",
       "12             7.40  35107.89        -1315.95        -1951.39\n",
       "13             5.01  20367.15         -290.64        -3493.16\n",
       "14             7.44  25162.03         -647.93        -1691.28\n",
       "15             9.66  52303.58        -5215.32       -17393.82\n",
       "16             1.33  30967.94        -3426.62        -4259.57\n",
       "17             4.58 222106.36       -16353.39       -55418.57\n",
       "18             8.71  36139.60        -1246.56        -5135.50\n",
       "19             1.34  28272.71        -3513.03        -8886.80\n",
       "20             4.29  73552.83        -1711.38        -1285.28\n",
       "21            10.92  73158.88        -1336.60        -3991.53\n",
       "22             1.04  20059.74        -3898.77        -2634.01\n",
       "23            20.18 144700.36        -6447.44       -29135.04\n",
       "24             0.61  30128.62        -1210.49        -2707.15\n",
       "25            15.12  80738.33        -5167.84        -2203.91\n",
       "26             0.75  13790.48        -5585.98        -7900.43\n",
       "27            26.63 165132.22        -1754.28       -34032.98\n",
       "28             8.59  35059.66        -1459.73        -4420.71\n",
       "29             0.31  23257.96        -1472.97        -4458.87\n",
       "30            15.82  57887.09        -1614.08        -2515.79\n",
       "31             1.19  20357.13         -600.28        -3112.03\n",
       "32            17.83  67276.62       -10497.48        -4908.37\n",
       "33            10.59  30473.50        -2608.62        -2693.40\n",
       "34            15.51  47201.28       -14557.03       -22228.21\n",
       "35            13.76  58770.47        -6475.85        -9729.38\n",
       "36             0.20  22488.21         -677.43        -5391.43\n",
       "37             6.40  68075.26        -4241.05        -3024.52\n",
       "38            10.98  35666.02        -4834.30        -1982.98\n",
       "39             3.63  19827.50        -2952.22        -4217.49"
      ]
     },
     "execution_count": 44,
     "metadata": {},
     "output_type": "execute_result"
    }
   ],
   "source": [
    "X_test_df "
   ]
  },
  {
   "cell_type": "code",
   "execution_count": 45,
   "metadata": {},
   "outputs": [],
   "source": [
    "table = pd.concat([X_test_df,result_df],axis=1)"
   ]
  },
  {
   "cell_type": "code",
   "execution_count": 46,
   "metadata": {},
   "outputs": [
    {
     "data": {
      "text/html": [
       "<div>\n",
       "<style scoped>\n",
       "    .dataframe tbody tr th:only-of-type {\n",
       "        vertical-align: middle;\n",
       "    }\n",
       "\n",
       "    .dataframe tbody tr th {\n",
       "        vertical-align: top;\n",
       "    }\n",
       "\n",
       "    .dataframe thead th {\n",
       "        text-align: right;\n",
       "    }\n",
       "</style>\n",
       "<table border=\"1\" class=\"dataframe\">\n",
       "  <thead>\n",
       "    <tr style=\"text-align: right;\">\n",
       "      <th></th>\n",
       "      <th>YearsatEmployer</th>\n",
       "      <th>Income</th>\n",
       "      <th>CreditCardDebt</th>\n",
       "      <th>AutomobileDebt</th>\n",
       "      <th>Actual</th>\n",
       "      <th>Predicted</th>\n",
       "    </tr>\n",
       "  </thead>\n",
       "  <tbody>\n",
       "    <tr>\n",
       "      <th>0</th>\n",
       "      <td>3.69</td>\n",
       "      <td>12517.06</td>\n",
       "      <td>34.16</td>\n",
       "      <td>-642.15</td>\n",
       "      <td>0</td>\n",
       "      <td>0</td>\n",
       "    </tr>\n",
       "    <tr>\n",
       "      <th>1</th>\n",
       "      <td>5.46</td>\n",
       "      <td>41564.97</td>\n",
       "      <td>-5272.92</td>\n",
       "      <td>-8861.82</td>\n",
       "      <td>0</td>\n",
       "      <td>1</td>\n",
       "    </tr>\n",
       "    <tr>\n",
       "      <th>2</th>\n",
       "      <td>7.63</td>\n",
       "      <td>31945.45</td>\n",
       "      <td>-1571.91</td>\n",
       "      <td>-2553.28</td>\n",
       "      <td>0</td>\n",
       "      <td>0</td>\n",
       "    </tr>\n",
       "    <tr>\n",
       "      <th>3</th>\n",
       "      <td>7.86</td>\n",
       "      <td>21613.02</td>\n",
       "      <td>-26.99</td>\n",
       "      <td>-1008.01</td>\n",
       "      <td>0</td>\n",
       "      <td>0</td>\n",
       "    </tr>\n",
       "    <tr>\n",
       "      <th>4</th>\n",
       "      <td>13.25</td>\n",
       "      <td>58643.79</td>\n",
       "      <td>-5164.71</td>\n",
       "      <td>-11395.31</td>\n",
       "      <td>0</td>\n",
       "      <td>0</td>\n",
       "    </tr>\n",
       "    <tr>\n",
       "      <th>5</th>\n",
       "      <td>7.97</td>\n",
       "      <td>36913.58</td>\n",
       "      <td>-1949.95</td>\n",
       "      <td>-687.46</td>\n",
       "      <td>0</td>\n",
       "      <td>0</td>\n",
       "    </tr>\n",
       "    <tr>\n",
       "      <th>6</th>\n",
       "      <td>4.36</td>\n",
       "      <td>39647.71</td>\n",
       "      <td>-1471.09</td>\n",
       "      <td>-2958.70</td>\n",
       "      <td>0</td>\n",
       "      <td>0</td>\n",
       "    </tr>\n",
       "    <tr>\n",
       "      <th>7</th>\n",
       "      <td>15.56</td>\n",
       "      <td>74097.53</td>\n",
       "      <td>-7919.70</td>\n",
       "      <td>-8218.17</td>\n",
       "      <td>0</td>\n",
       "      <td>0</td>\n",
       "    </tr>\n",
       "    <tr>\n",
       "      <th>8</th>\n",
       "      <td>14.51</td>\n",
       "      <td>35721.61</td>\n",
       "      <td>-2568.89</td>\n",
       "      <td>-4369.07</td>\n",
       "      <td>0</td>\n",
       "      <td>0</td>\n",
       "    </tr>\n",
       "    <tr>\n",
       "      <th>9</th>\n",
       "      <td>7.61</td>\n",
       "      <td>24082.79</td>\n",
       "      <td>-1325.21</td>\n",
       "      <td>-923.50</td>\n",
       "      <td>0</td>\n",
       "      <td>0</td>\n",
       "    </tr>\n",
       "    <tr>\n",
       "      <th>10</th>\n",
       "      <td>6.90</td>\n",
       "      <td>29452.16</td>\n",
       "      <td>-822.16</td>\n",
       "      <td>-1067.34</td>\n",
       "      <td>1</td>\n",
       "      <td>0</td>\n",
       "    </tr>\n",
       "    <tr>\n",
       "      <th>11</th>\n",
       "      <td>5.33</td>\n",
       "      <td>18686.67</td>\n",
       "      <td>-351.58</td>\n",
       "      <td>-2285.74</td>\n",
       "      <td>0</td>\n",
       "      <td>0</td>\n",
       "    </tr>\n",
       "    <tr>\n",
       "      <th>12</th>\n",
       "      <td>7.40</td>\n",
       "      <td>35107.89</td>\n",
       "      <td>-1315.95</td>\n",
       "      <td>-1951.39</td>\n",
       "      <td>1</td>\n",
       "      <td>0</td>\n",
       "    </tr>\n",
       "    <tr>\n",
       "      <th>13</th>\n",
       "      <td>5.01</td>\n",
       "      <td>20367.15</td>\n",
       "      <td>-290.64</td>\n",
       "      <td>-3493.16</td>\n",
       "      <td>0</td>\n",
       "      <td>0</td>\n",
       "    </tr>\n",
       "    <tr>\n",
       "      <th>14</th>\n",
       "      <td>7.44</td>\n",
       "      <td>25162.03</td>\n",
       "      <td>-647.93</td>\n",
       "      <td>-1691.28</td>\n",
       "      <td>0</td>\n",
       "      <td>0</td>\n",
       "    </tr>\n",
       "    <tr>\n",
       "      <th>15</th>\n",
       "      <td>9.66</td>\n",
       "      <td>52303.58</td>\n",
       "      <td>-5215.32</td>\n",
       "      <td>-17393.82</td>\n",
       "      <td>0</td>\n",
       "      <td>0</td>\n",
       "    </tr>\n",
       "    <tr>\n",
       "      <th>16</th>\n",
       "      <td>1.33</td>\n",
       "      <td>30967.94</td>\n",
       "      <td>-3426.62</td>\n",
       "      <td>-4259.57</td>\n",
       "      <td>0</td>\n",
       "      <td>1</td>\n",
       "    </tr>\n",
       "    <tr>\n",
       "      <th>17</th>\n",
       "      <td>4.58</td>\n",
       "      <td>222106.36</td>\n",
       "      <td>-16353.39</td>\n",
       "      <td>-55418.57</td>\n",
       "      <td>1</td>\n",
       "      <td>1</td>\n",
       "    </tr>\n",
       "    <tr>\n",
       "      <th>18</th>\n",
       "      <td>8.71</td>\n",
       "      <td>36139.60</td>\n",
       "      <td>-1246.56</td>\n",
       "      <td>-5135.50</td>\n",
       "      <td>0</td>\n",
       "      <td>0</td>\n",
       "    </tr>\n",
       "    <tr>\n",
       "      <th>19</th>\n",
       "      <td>1.34</td>\n",
       "      <td>28272.71</td>\n",
       "      <td>-3513.03</td>\n",
       "      <td>-8886.80</td>\n",
       "      <td>1</td>\n",
       "      <td>1</td>\n",
       "    </tr>\n",
       "    <tr>\n",
       "      <th>20</th>\n",
       "      <td>4.29</td>\n",
       "      <td>73552.83</td>\n",
       "      <td>-1711.38</td>\n",
       "      <td>-1285.28</td>\n",
       "      <td>0</td>\n",
       "      <td>0</td>\n",
       "    </tr>\n",
       "    <tr>\n",
       "      <th>21</th>\n",
       "      <td>10.92</td>\n",
       "      <td>73158.88</td>\n",
       "      <td>-1336.60</td>\n",
       "      <td>-3991.53</td>\n",
       "      <td>0</td>\n",
       "      <td>0</td>\n",
       "    </tr>\n",
       "    <tr>\n",
       "      <th>22</th>\n",
       "      <td>1.04</td>\n",
       "      <td>20059.74</td>\n",
       "      <td>-3898.77</td>\n",
       "      <td>-2634.01</td>\n",
       "      <td>1</td>\n",
       "      <td>1</td>\n",
       "    </tr>\n",
       "    <tr>\n",
       "      <th>23</th>\n",
       "      <td>20.18</td>\n",
       "      <td>144700.36</td>\n",
       "      <td>-6447.44</td>\n",
       "      <td>-29135.04</td>\n",
       "      <td>0</td>\n",
       "      <td>0</td>\n",
       "    </tr>\n",
       "    <tr>\n",
       "      <th>24</th>\n",
       "      <td>0.61</td>\n",
       "      <td>30128.62</td>\n",
       "      <td>-1210.49</td>\n",
       "      <td>-2707.15</td>\n",
       "      <td>1</td>\n",
       "      <td>0</td>\n",
       "    </tr>\n",
       "    <tr>\n",
       "      <th>25</th>\n",
       "      <td>15.12</td>\n",
       "      <td>80738.33</td>\n",
       "      <td>-5167.84</td>\n",
       "      <td>-2203.91</td>\n",
       "      <td>0</td>\n",
       "      <td>0</td>\n",
       "    </tr>\n",
       "    <tr>\n",
       "      <th>26</th>\n",
       "      <td>0.75</td>\n",
       "      <td>13790.48</td>\n",
       "      <td>-5585.98</td>\n",
       "      <td>-7900.43</td>\n",
       "      <td>1</td>\n",
       "      <td>1</td>\n",
       "    </tr>\n",
       "    <tr>\n",
       "      <th>27</th>\n",
       "      <td>26.63</td>\n",
       "      <td>165132.22</td>\n",
       "      <td>-1754.28</td>\n",
       "      <td>-34032.98</td>\n",
       "      <td>0</td>\n",
       "      <td>0</td>\n",
       "    </tr>\n",
       "    <tr>\n",
       "      <th>28</th>\n",
       "      <td>8.59</td>\n",
       "      <td>35059.66</td>\n",
       "      <td>-1459.73</td>\n",
       "      <td>-4420.71</td>\n",
       "      <td>0</td>\n",
       "      <td>0</td>\n",
       "    </tr>\n",
       "    <tr>\n",
       "      <th>29</th>\n",
       "      <td>0.31</td>\n",
       "      <td>23257.96</td>\n",
       "      <td>-1472.97</td>\n",
       "      <td>-4458.87</td>\n",
       "      <td>1</td>\n",
       "      <td>1</td>\n",
       "    </tr>\n",
       "    <tr>\n",
       "      <th>30</th>\n",
       "      <td>15.82</td>\n",
       "      <td>57887.09</td>\n",
       "      <td>-1614.08</td>\n",
       "      <td>-2515.79</td>\n",
       "      <td>0</td>\n",
       "      <td>0</td>\n",
       "    </tr>\n",
       "    <tr>\n",
       "      <th>31</th>\n",
       "      <td>1.19</td>\n",
       "      <td>20357.13</td>\n",
       "      <td>-600.28</td>\n",
       "      <td>-3112.03</td>\n",
       "      <td>0</td>\n",
       "      <td>0</td>\n",
       "    </tr>\n",
       "    <tr>\n",
       "      <th>32</th>\n",
       "      <td>17.83</td>\n",
       "      <td>67276.62</td>\n",
       "      <td>-10497.48</td>\n",
       "      <td>-4908.37</td>\n",
       "      <td>0</td>\n",
       "      <td>0</td>\n",
       "    </tr>\n",
       "    <tr>\n",
       "      <th>33</th>\n",
       "      <td>10.59</td>\n",
       "      <td>30473.50</td>\n",
       "      <td>-2608.62</td>\n",
       "      <td>-2693.40</td>\n",
       "      <td>0</td>\n",
       "      <td>0</td>\n",
       "    </tr>\n",
       "    <tr>\n",
       "      <th>34</th>\n",
       "      <td>15.51</td>\n",
       "      <td>47201.28</td>\n",
       "      <td>-14557.03</td>\n",
       "      <td>-22228.21</td>\n",
       "      <td>1</td>\n",
       "      <td>1</td>\n",
       "    </tr>\n",
       "    <tr>\n",
       "      <th>35</th>\n",
       "      <td>13.76</td>\n",
       "      <td>58770.47</td>\n",
       "      <td>-6475.85</td>\n",
       "      <td>-9729.38</td>\n",
       "      <td>0</td>\n",
       "      <td>0</td>\n",
       "    </tr>\n",
       "    <tr>\n",
       "      <th>36</th>\n",
       "      <td>0.20</td>\n",
       "      <td>22488.21</td>\n",
       "      <td>-677.43</td>\n",
       "      <td>-5391.43</td>\n",
       "      <td>0</td>\n",
       "      <td>1</td>\n",
       "    </tr>\n",
       "    <tr>\n",
       "      <th>37</th>\n",
       "      <td>6.40</td>\n",
       "      <td>68075.26</td>\n",
       "      <td>-4241.05</td>\n",
       "      <td>-3024.52</td>\n",
       "      <td>0</td>\n",
       "      <td>0</td>\n",
       "    </tr>\n",
       "    <tr>\n",
       "      <th>38</th>\n",
       "      <td>10.98</td>\n",
       "      <td>35666.02</td>\n",
       "      <td>-4834.30</td>\n",
       "      <td>-1982.98</td>\n",
       "      <td>0</td>\n",
       "      <td>0</td>\n",
       "    </tr>\n",
       "    <tr>\n",
       "      <th>39</th>\n",
       "      <td>3.63</td>\n",
       "      <td>19827.50</td>\n",
       "      <td>-2952.22</td>\n",
       "      <td>-4217.49</td>\n",
       "      <td>1</td>\n",
       "      <td>1</td>\n",
       "    </tr>\n",
       "  </tbody>\n",
       "</table>\n",
       "</div>"
      ],
      "text/plain": [
       "    YearsatEmployer    Income  CreditCardDebt  AutomobileDebt  Actual  Predicted\n",
       "0              3.69  12517.06           34.16         -642.15       0          0\n",
       "1              5.46  41564.97        -5272.92        -8861.82       0          1\n",
       "2              7.63  31945.45        -1571.91        -2553.28       0          0\n",
       "3              7.86  21613.02          -26.99        -1008.01       0          0\n",
       "4             13.25  58643.79        -5164.71       -11395.31       0          0\n",
       "5              7.97  36913.58        -1949.95         -687.46       0          0\n",
       "6              4.36  39647.71        -1471.09        -2958.70       0          0\n",
       "7             15.56  74097.53        -7919.70        -8218.17       0          0\n",
       "8             14.51  35721.61        -2568.89        -4369.07       0          0\n",
       "9              7.61  24082.79        -1325.21         -923.50       0          0\n",
       "10             6.90  29452.16         -822.16        -1067.34       1          0\n",
       "11             5.33  18686.67         -351.58        -2285.74       0          0\n",
       "12             7.40  35107.89        -1315.95        -1951.39       1          0\n",
       "13             5.01  20367.15         -290.64        -3493.16       0          0\n",
       "14             7.44  25162.03         -647.93        -1691.28       0          0\n",
       "15             9.66  52303.58        -5215.32       -17393.82       0          0\n",
       "16             1.33  30967.94        -3426.62        -4259.57       0          1\n",
       "17             4.58 222106.36       -16353.39       -55418.57       1          1\n",
       "18             8.71  36139.60        -1246.56        -5135.50       0          0\n",
       "19             1.34  28272.71        -3513.03        -8886.80       1          1\n",
       "20             4.29  73552.83        -1711.38        -1285.28       0          0\n",
       "21            10.92  73158.88        -1336.60        -3991.53       0          0\n",
       "22             1.04  20059.74        -3898.77        -2634.01       1          1\n",
       "23            20.18 144700.36        -6447.44       -29135.04       0          0\n",
       "24             0.61  30128.62        -1210.49        -2707.15       1          0\n",
       "25            15.12  80738.33        -5167.84        -2203.91       0          0\n",
       "26             0.75  13790.48        -5585.98        -7900.43       1          1\n",
       "27            26.63 165132.22        -1754.28       -34032.98       0          0\n",
       "28             8.59  35059.66        -1459.73        -4420.71       0          0\n",
       "29             0.31  23257.96        -1472.97        -4458.87       1          1\n",
       "30            15.82  57887.09        -1614.08        -2515.79       0          0\n",
       "31             1.19  20357.13         -600.28        -3112.03       0          0\n",
       "32            17.83  67276.62       -10497.48        -4908.37       0          0\n",
       "33            10.59  30473.50        -2608.62        -2693.40       0          0\n",
       "34            15.51  47201.28       -14557.03       -22228.21       1          1\n",
       "35            13.76  58770.47        -6475.85        -9729.38       0          0\n",
       "36             0.20  22488.21         -677.43        -5391.43       0          1\n",
       "37             6.40  68075.26        -4241.05        -3024.52       0          0\n",
       "38            10.98  35666.02        -4834.30        -1982.98       0          0\n",
       "39             3.63  19827.50        -2952.22        -4217.49       1          1"
      ]
     },
     "execution_count": 46,
     "metadata": {},
     "output_type": "execute_result"
    }
   ],
   "source": [
    "table"
   ]
  },
  {
   "cell_type": "code",
   "execution_count": 47,
   "metadata": {},
   "outputs": [
    {
     "data": {
      "text/plain": [
       "Index(['YearsatEmployer', 'Income', 'CreditCardDebt', 'AutomobileDebt', 'Actual', 'Predicted'], dtype='object')"
      ]
     },
     "execution_count": 47,
     "metadata": {},
     "output_type": "execute_result"
    }
   ],
   "source": [
    "table.columns"
   ]
  },
  {
   "cell_type": "code",
   "execution_count": 48,
   "metadata": {},
   "outputs": [
    {
     "data": {
      "text/plain": [
       "Counter({0: 30, 1: 10})"
      ]
     },
     "execution_count": 48,
     "metadata": {},
     "output_type": "execute_result"
    }
   ],
   "source": [
    "Counter(table.Actual)"
   ]
  },
  {
   "cell_type": "code",
   "execution_count": 49,
   "metadata": {},
   "outputs": [
    {
     "data": {
      "text/plain": [
       "Counter({0: 30, 1: 10})"
      ]
     },
     "execution_count": 49,
     "metadata": {},
     "output_type": "execute_result"
    }
   ],
   "source": [
    "Counter(table.Predicted)"
   ]
  },
  {
   "cell_type": "code",
   "execution_count": 50,
   "metadata": {},
   "outputs": [
    {
     "data": {
      "text/plain": [
       "YearsatEmployer       329.95\n",
       "Income            1962915.76\n",
       "CreditCardDebt    -139524.21\n",
       "AutomobileDebt    -295774.15\n",
       "Actual                 10.00\n",
       "Predicted              10.00\n",
       "dtype: float64"
      ]
     },
     "execution_count": 50,
     "metadata": {},
     "output_type": "execute_result"
    }
   ],
   "source": [
    "table.sum()"
   ]
  },
  {
   "cell_type": "code",
   "execution_count": 51,
   "metadata": {},
   "outputs": [
    {
     "data": {
      "text/plain": [
       "-2176.4918"
      ]
     },
     "execution_count": 51,
     "metadata": {},
     "output_type": "execute_result"
    }
   ],
   "source": [
    "debt = table.CreditCardDebt.sum() + table.AutomobileDebt.sum()\n",
    "debt / 200"
   ]
  },
  {
   "cell_type": "code",
   "execution_count": 52,
   "metadata": {},
   "outputs": [
    {
     "data": {
      "text/plain": [
       "11991.0706"
      ]
     },
     "execution_count": 52,
     "metadata": {},
     "output_type": "execute_result"
    }
   ],
   "source": [
    "(table.Income.sum() - debt) / 200"
   ]
  },
  {
   "cell_type": "markdown",
   "metadata": {},
   "source": [
    "## Model Evaluation"
   ]
  },
  {
   "cell_type": "code",
   "execution_count": 53,
   "metadata": {},
   "outputs": [],
   "source": [
    "test = pd.read_csv(\"test2.csv\")"
   ]
  },
  {
   "cell_type": "code",
   "execution_count": 54,
   "metadata": {},
   "outputs": [
    {
     "data": {
      "text/html": [
       "<div>\n",
       "<style scoped>\n",
       "    .dataframe tbody tr th:only-of-type {\n",
       "        vertical-align: middle;\n",
       "    }\n",
       "\n",
       "    .dataframe tbody tr th {\n",
       "        vertical-align: top;\n",
       "    }\n",
       "\n",
       "    .dataframe thead th {\n",
       "        text-align: right;\n",
       "    }\n",
       "</style>\n",
       "<table border=\"1\" class=\"dataframe\">\n",
       "  <thead>\n",
       "    <tr style=\"text-align: right;\">\n",
       "      <th></th>\n",
       "      <th>YearsatEmployer</th>\n",
       "      <th>Income</th>\n",
       "      <th>CreditCardDebt</th>\n",
       "      <th>AutomobileDebt</th>\n",
       "    </tr>\n",
       "  </thead>\n",
       "  <tbody>\n",
       "    <tr>\n",
       "      <th>0</th>\n",
       "      <td>0.35</td>\n",
       "      <td>12180.60</td>\n",
       "      <td>-2057.28</td>\n",
       "      <td>-3696.31</td>\n",
       "    </tr>\n",
       "    <tr>\n",
       "      <th>1</th>\n",
       "      <td>4.47</td>\n",
       "      <td>38536.24</td>\n",
       "      <td>-6970.27</td>\n",
       "      <td>-3018.06</td>\n",
       "    </tr>\n",
       "    <tr>\n",
       "      <th>2</th>\n",
       "      <td>9.30</td>\n",
       "      <td>30601.95</td>\n",
       "      <td>-2891.77</td>\n",
       "      <td>-1673.64</td>\n",
       "    </tr>\n",
       "    <tr>\n",
       "      <th>3</th>\n",
       "      <td>8.43</td>\n",
       "      <td>15587.51</td>\n",
       "      <td>-38.11</td>\n",
       "      <td>-1757.87</td>\n",
       "    </tr>\n",
       "    <tr>\n",
       "      <th>4</th>\n",
       "      <td>5.40</td>\n",
       "      <td>27598.76</td>\n",
       "      <td>-775.59</td>\n",
       "      <td>-4374.05</td>\n",
       "    </tr>\n",
       "    <tr>\n",
       "      <th>...</th>\n",
       "      <td>...</td>\n",
       "      <td>...</td>\n",
       "      <td>...</td>\n",
       "      <td>...</td>\n",
       "    </tr>\n",
       "    <tr>\n",
       "      <th>195</th>\n",
       "      <td>16.02</td>\n",
       "      <td>70526.44</td>\n",
       "      <td>-3099.77</td>\n",
       "      <td>-13605.37</td>\n",
       "    </tr>\n",
       "    <tr>\n",
       "      <th>196</th>\n",
       "      <td>2.97</td>\n",
       "      <td>17317.67</td>\n",
       "      <td>-122.44</td>\n",
       "      <td>104.16</td>\n",
       "    </tr>\n",
       "    <tr>\n",
       "      <th>197</th>\n",
       "      <td>3.97</td>\n",
       "      <td>29402.89</td>\n",
       "      <td>-441.77</td>\n",
       "      <td>-3908.37</td>\n",
       "    </tr>\n",
       "    <tr>\n",
       "      <th>198</th>\n",
       "      <td>13.97</td>\n",
       "      <td>43729.53</td>\n",
       "      <td>-243.76</td>\n",
       "      <td>-2534.89</td>\n",
       "    </tr>\n",
       "    <tr>\n",
       "      <th>199</th>\n",
       "      <td>6.56</td>\n",
       "      <td>53666.25</td>\n",
       "      <td>-1227.51</td>\n",
       "      <td>-10750.94</td>\n",
       "    </tr>\n",
       "  </tbody>\n",
       "</table>\n",
       "<p>200 rows × 4 columns</p>\n",
       "</div>"
      ],
      "text/plain": [
       "     YearsatEmployer   Income  CreditCardDebt  AutomobileDebt\n",
       "0               0.35 12180.60        -2057.28        -3696.31\n",
       "1               4.47 38536.24        -6970.27        -3018.06\n",
       "2               9.30 30601.95        -2891.77        -1673.64\n",
       "3               8.43 15587.51          -38.11        -1757.87\n",
       "4               5.40 27598.76         -775.59        -4374.05\n",
       "..               ...      ...             ...             ...\n",
       "195            16.02 70526.44        -3099.77       -13605.37\n",
       "196             2.97 17317.67         -122.44          104.16\n",
       "197             3.97 29402.89         -441.77        -3908.37\n",
       "198            13.97 43729.53         -243.76        -2534.89\n",
       "199             6.56 53666.25        -1227.51       -10750.94\n",
       "\n",
       "[200 rows x 4 columns]"
      ]
     },
     "execution_count": 54,
     "metadata": {},
     "output_type": "execute_result"
    }
   ],
   "source": [
    "test"
   ]
  },
  {
   "cell_type": "code",
   "execution_count": 55,
   "metadata": {},
   "outputs": [
    {
     "data": {
      "text/plain": [
       "array([1, 1, 0, 0, 0, 0, 0, 0, 0, 0, 0, 0, 0, 1, 0, 0, 0, 0, 0, 1, 0, 1,\n",
       "       0, 0, 0, 0, 0, 0, 1, 0, 0, 0, 0, 0, 0, 0, 1, 0, 1, 0, 0, 0, 0, 1,\n",
       "       0, 1, 0, 1, 0, 1, 0, 0, 0, 0, 1, 0, 0, 0, 0, 0, 0, 1, 1, 0, 1, 0,\n",
       "       0, 0, 0, 0, 0, 0, 1, 0, 0, 0, 0, 0, 0, 0, 0, 0, 0, 0, 0, 0, 0, 0,\n",
       "       0, 1, 1, 0, 0, 0, 0, 0, 0, 0, 0, 0, 0, 0, 0, 0, 0, 0, 0, 0, 0, 0,\n",
       "       1, 0, 1, 0, 0, 0, 0, 0, 0, 0, 0, 1, 0, 0, 0, 0, 0, 0, 0, 0, 0, 0,\n",
       "       0, 1, 0, 1, 1, 0, 1, 0, 0, 0, 1, 0, 1, 1, 0, 0, 1, 1, 0, 0, 0, 0,\n",
       "       0, 0, 0, 1, 0, 0, 0, 0, 0, 0, 0, 0, 0, 0, 1, 1, 0, 0, 0, 0, 0, 0,\n",
       "       0, 0, 0, 1, 1, 0, 0, 0, 0, 0, 0, 0, 0, 0, 0, 0, 1, 0, 0, 0, 0, 0,\n",
       "       0, 0], dtype=int64)"
      ]
     },
     "execution_count": 55,
     "metadata": {},
     "output_type": "execute_result"
    }
   ],
   "source": [
    "test_pred = lr.predict(test)\n",
    "test_pred"
   ]
  },
  {
   "cell_type": "code",
   "execution_count": 56,
   "metadata": {},
   "outputs": [
    {
     "data": {
      "text/html": [
       "<div>\n",
       "<style scoped>\n",
       "    .dataframe tbody tr th:only-of-type {\n",
       "        vertical-align: middle;\n",
       "    }\n",
       "\n",
       "    .dataframe tbody tr th {\n",
       "        vertical-align: top;\n",
       "    }\n",
       "\n",
       "    .dataframe thead th {\n",
       "        text-align: right;\n",
       "    }\n",
       "</style>\n",
       "<table border=\"1\" class=\"dataframe\">\n",
       "  <thead>\n",
       "    <tr style=\"text-align: right;\">\n",
       "      <th></th>\n",
       "      <th>Prediction</th>\n",
       "    </tr>\n",
       "  </thead>\n",
       "  <tbody>\n",
       "    <tr>\n",
       "      <th>0</th>\n",
       "      <td>1</td>\n",
       "    </tr>\n",
       "    <tr>\n",
       "      <th>1</th>\n",
       "      <td>1</td>\n",
       "    </tr>\n",
       "    <tr>\n",
       "      <th>2</th>\n",
       "      <td>0</td>\n",
       "    </tr>\n",
       "    <tr>\n",
       "      <th>3</th>\n",
       "      <td>0</td>\n",
       "    </tr>\n",
       "    <tr>\n",
       "      <th>4</th>\n",
       "      <td>0</td>\n",
       "    </tr>\n",
       "    <tr>\n",
       "      <th>...</th>\n",
       "      <td>...</td>\n",
       "    </tr>\n",
       "    <tr>\n",
       "      <th>195</th>\n",
       "      <td>0</td>\n",
       "    </tr>\n",
       "    <tr>\n",
       "      <th>196</th>\n",
       "      <td>0</td>\n",
       "    </tr>\n",
       "    <tr>\n",
       "      <th>197</th>\n",
       "      <td>0</td>\n",
       "    </tr>\n",
       "    <tr>\n",
       "      <th>198</th>\n",
       "      <td>0</td>\n",
       "    </tr>\n",
       "    <tr>\n",
       "      <th>199</th>\n",
       "      <td>0</td>\n",
       "    </tr>\n",
       "  </tbody>\n",
       "</table>\n",
       "<p>200 rows × 1 columns</p>\n",
       "</div>"
      ],
      "text/plain": [
       "     Prediction\n",
       "0             1\n",
       "1             1\n",
       "2             0\n",
       "3             0\n",
       "4             0\n",
       "..          ...\n",
       "195           0\n",
       "196           0\n",
       "197           0\n",
       "198           0\n",
       "199           0\n",
       "\n",
       "[200 rows x 1 columns]"
      ]
     },
     "execution_count": 56,
     "metadata": {},
     "output_type": "execute_result"
    }
   ],
   "source": [
    "test_pred_df = pd.DataFrame(test_pred, columns=[\"Prediction\"])\n",
    "test_pred_df"
   ]
  },
  {
   "cell_type": "code",
   "execution_count": 57,
   "metadata": {},
   "outputs": [
    {
     "data": {
      "text/html": [
       "<div>\n",
       "<style scoped>\n",
       "    .dataframe tbody tr th:only-of-type {\n",
       "        vertical-align: middle;\n",
       "    }\n",
       "\n",
       "    .dataframe tbody tr th {\n",
       "        vertical-align: top;\n",
       "    }\n",
       "\n",
       "    .dataframe thead th {\n",
       "        text-align: right;\n",
       "    }\n",
       "</style>\n",
       "<table border=\"1\" class=\"dataframe\">\n",
       "  <thead>\n",
       "    <tr style=\"text-align: right;\">\n",
       "      <th></th>\n",
       "      <th>UniqueApplicantID</th>\n",
       "      <th>Age</th>\n",
       "      <th>YearsatEmployer</th>\n",
       "      <th>YearsatAddress</th>\n",
       "      <th>Income</th>\n",
       "      <th>CreditCardDebt</th>\n",
       "      <th>AutomobileDebt</th>\n",
       "      <th>Default</th>\n",
       "    </tr>\n",
       "  </thead>\n",
       "  <tbody>\n",
       "    <tr>\n",
       "      <th>0</th>\n",
       "      <td>201</td>\n",
       "      <td>25.92</td>\n",
       "      <td>0.35</td>\n",
       "      <td>0.24</td>\n",
       "      <td>12180.60</td>\n",
       "      <td>-2057.28</td>\n",
       "      <td>-3696.31</td>\n",
       "      <td>1</td>\n",
       "    </tr>\n",
       "    <tr>\n",
       "      <th>1</th>\n",
       "      <td>202</td>\n",
       "      <td>27.80</td>\n",
       "      <td>4.47</td>\n",
       "      <td>0.37</td>\n",
       "      <td>38536.24</td>\n",
       "      <td>-6970.27</td>\n",
       "      <td>-3018.06</td>\n",
       "      <td>1</td>\n",
       "    </tr>\n",
       "    <tr>\n",
       "      <th>2</th>\n",
       "      <td>203</td>\n",
       "      <td>37.33</td>\n",
       "      <td>9.30</td>\n",
       "      <td>0.02</td>\n",
       "      <td>30601.95</td>\n",
       "      <td>-2891.77</td>\n",
       "      <td>-1673.64</td>\n",
       "      <td>0</td>\n",
       "    </tr>\n",
       "    <tr>\n",
       "      <th>3</th>\n",
       "      <td>204</td>\n",
       "      <td>28.00</td>\n",
       "      <td>8.43</td>\n",
       "      <td>1.06</td>\n",
       "      <td>15587.51</td>\n",
       "      <td>-38.11</td>\n",
       "      <td>-1757.87</td>\n",
       "      <td>0</td>\n",
       "    </tr>\n",
       "    <tr>\n",
       "      <th>4</th>\n",
       "      <td>205</td>\n",
       "      <td>39.24</td>\n",
       "      <td>5.40</td>\n",
       "      <td>0.74</td>\n",
       "      <td>27598.76</td>\n",
       "      <td>-775.59</td>\n",
       "      <td>-4374.05</td>\n",
       "      <td>0</td>\n",
       "    </tr>\n",
       "    <tr>\n",
       "      <th>...</th>\n",
       "      <td>...</td>\n",
       "      <td>...</td>\n",
       "      <td>...</td>\n",
       "      <td>...</td>\n",
       "      <td>...</td>\n",
       "      <td>...</td>\n",
       "      <td>...</td>\n",
       "      <td>...</td>\n",
       "    </tr>\n",
       "    <tr>\n",
       "      <th>195</th>\n",
       "      <td>396</td>\n",
       "      <td>49.66</td>\n",
       "      <td>16.02</td>\n",
       "      <td>0.24</td>\n",
       "      <td>70526.44</td>\n",
       "      <td>-3099.77</td>\n",
       "      <td>-13605.37</td>\n",
       "      <td>0</td>\n",
       "    </tr>\n",
       "    <tr>\n",
       "      <th>196</th>\n",
       "      <td>397</td>\n",
       "      <td>23.78</td>\n",
       "      <td>2.97</td>\n",
       "      <td>0.70</td>\n",
       "      <td>17317.67</td>\n",
       "      <td>-122.44</td>\n",
       "      <td>104.16</td>\n",
       "      <td>0</td>\n",
       "    </tr>\n",
       "    <tr>\n",
       "      <th>197</th>\n",
       "      <td>398</td>\n",
       "      <td>32.84</td>\n",
       "      <td>3.97</td>\n",
       "      <td>0.75</td>\n",
       "      <td>29402.89</td>\n",
       "      <td>-441.77</td>\n",
       "      <td>-3908.37</td>\n",
       "      <td>0</td>\n",
       "    </tr>\n",
       "    <tr>\n",
       "      <th>198</th>\n",
       "      <td>399</td>\n",
       "      <td>43.89</td>\n",
       "      <td>13.97</td>\n",
       "      <td>0.08</td>\n",
       "      <td>43729.53</td>\n",
       "      <td>-243.76</td>\n",
       "      <td>-2534.89</td>\n",
       "      <td>0</td>\n",
       "    </tr>\n",
       "    <tr>\n",
       "      <th>199</th>\n",
       "      <td>400</td>\n",
       "      <td>41.33</td>\n",
       "      <td>6.56</td>\n",
       "      <td>1.41</td>\n",
       "      <td>53666.25</td>\n",
       "      <td>-1227.51</td>\n",
       "      <td>-10750.94</td>\n",
       "      <td>0</td>\n",
       "    </tr>\n",
       "  </tbody>\n",
       "</table>\n",
       "<p>200 rows × 8 columns</p>\n",
       "</div>"
      ],
      "text/plain": [
       "     UniqueApplicantID    Age  YearsatEmployer  YearsatAddress   Income  CreditCardDebt  AutomobileDebt  Default\n",
       "0                   201 25.92             0.35            0.24 12180.60        -2057.28        -3696.31        1\n",
       "1                   202 27.80             4.47            0.37 38536.24        -6970.27        -3018.06        1\n",
       "2                   203 37.33             9.30            0.02 30601.95        -2891.77        -1673.64        0\n",
       "3                   204 28.00             8.43            1.06 15587.51          -38.11        -1757.87        0\n",
       "4                   205 39.24             5.40            0.74 27598.76         -775.59        -4374.05        0\n",
       "..                  ...   ...              ...             ...      ...             ...             ...      ...\n",
       "195                 396 49.66            16.02            0.24 70526.44        -3099.77       -13605.37        0\n",
       "196                 397 23.78             2.97            0.70 17317.67         -122.44          104.16        0\n",
       "197                 398 32.84             3.97            0.75 29402.89         -441.77        -3908.37        0\n",
       "198                 399 43.89            13.97            0.08 43729.53         -243.76        -2534.89        0\n",
       "199                 400 41.33             6.56            1.41 53666.25        -1227.51       -10750.94        0\n",
       "\n",
       "[200 rows x 8 columns]"
      ]
     },
     "execution_count": 57,
     "metadata": {},
     "output_type": "execute_result"
    }
   ],
   "source": [
    "actual_test = pd.read_csv(\"test.csv\")\n",
    "actual_test"
   ]
  },
  {
   "cell_type": "code",
   "execution_count": 58,
   "metadata": {},
   "outputs": [
    {
     "data": {
      "text/html": [
       "<div>\n",
       "<style scoped>\n",
       "    .dataframe tbody tr th:only-of-type {\n",
       "        vertical-align: middle;\n",
       "    }\n",
       "\n",
       "    .dataframe tbody tr th {\n",
       "        vertical-align: top;\n",
       "    }\n",
       "\n",
       "    .dataframe thead th {\n",
       "        text-align: right;\n",
       "    }\n",
       "</style>\n",
       "<table border=\"1\" class=\"dataframe\">\n",
       "  <thead>\n",
       "    <tr style=\"text-align: right;\">\n",
       "      <th></th>\n",
       "      <th>UniqueApplicantID</th>\n",
       "      <th>Age</th>\n",
       "      <th>YearsatEmployer</th>\n",
       "      <th>YearsatAddress</th>\n",
       "      <th>Income</th>\n",
       "      <th>CreditCardDebt</th>\n",
       "      <th>AutomobileDebt</th>\n",
       "      <th>Default</th>\n",
       "      <th>Prediction</th>\n",
       "    </tr>\n",
       "  </thead>\n",
       "  <tbody>\n",
       "    <tr>\n",
       "      <th>0</th>\n",
       "      <td>201</td>\n",
       "      <td>25.92</td>\n",
       "      <td>0.35</td>\n",
       "      <td>0.24</td>\n",
       "      <td>12180.60</td>\n",
       "      <td>-2057.28</td>\n",
       "      <td>-3696.31</td>\n",
       "      <td>1</td>\n",
       "      <td>1</td>\n",
       "    </tr>\n",
       "    <tr>\n",
       "      <th>1</th>\n",
       "      <td>202</td>\n",
       "      <td>27.80</td>\n",
       "      <td>4.47</td>\n",
       "      <td>0.37</td>\n",
       "      <td>38536.24</td>\n",
       "      <td>-6970.27</td>\n",
       "      <td>-3018.06</td>\n",
       "      <td>1</td>\n",
       "      <td>1</td>\n",
       "    </tr>\n",
       "    <tr>\n",
       "      <th>2</th>\n",
       "      <td>203</td>\n",
       "      <td>37.33</td>\n",
       "      <td>9.30</td>\n",
       "      <td>0.02</td>\n",
       "      <td>30601.95</td>\n",
       "      <td>-2891.77</td>\n",
       "      <td>-1673.64</td>\n",
       "      <td>0</td>\n",
       "      <td>0</td>\n",
       "    </tr>\n",
       "    <tr>\n",
       "      <th>3</th>\n",
       "      <td>204</td>\n",
       "      <td>28.00</td>\n",
       "      <td>8.43</td>\n",
       "      <td>1.06</td>\n",
       "      <td>15587.51</td>\n",
       "      <td>-38.11</td>\n",
       "      <td>-1757.87</td>\n",
       "      <td>0</td>\n",
       "      <td>0</td>\n",
       "    </tr>\n",
       "    <tr>\n",
       "      <th>4</th>\n",
       "      <td>205</td>\n",
       "      <td>39.24</td>\n",
       "      <td>5.40</td>\n",
       "      <td>0.74</td>\n",
       "      <td>27598.76</td>\n",
       "      <td>-775.59</td>\n",
       "      <td>-4374.05</td>\n",
       "      <td>0</td>\n",
       "      <td>0</td>\n",
       "    </tr>\n",
       "    <tr>\n",
       "      <th>...</th>\n",
       "      <td>...</td>\n",
       "      <td>...</td>\n",
       "      <td>...</td>\n",
       "      <td>...</td>\n",
       "      <td>...</td>\n",
       "      <td>...</td>\n",
       "      <td>...</td>\n",
       "      <td>...</td>\n",
       "      <td>...</td>\n",
       "    </tr>\n",
       "    <tr>\n",
       "      <th>195</th>\n",
       "      <td>396</td>\n",
       "      <td>49.66</td>\n",
       "      <td>16.02</td>\n",
       "      <td>0.24</td>\n",
       "      <td>70526.44</td>\n",
       "      <td>-3099.77</td>\n",
       "      <td>-13605.37</td>\n",
       "      <td>0</td>\n",
       "      <td>0</td>\n",
       "    </tr>\n",
       "    <tr>\n",
       "      <th>196</th>\n",
       "      <td>397</td>\n",
       "      <td>23.78</td>\n",
       "      <td>2.97</td>\n",
       "      <td>0.70</td>\n",
       "      <td>17317.67</td>\n",
       "      <td>-122.44</td>\n",
       "      <td>104.16</td>\n",
       "      <td>0</td>\n",
       "      <td>0</td>\n",
       "    </tr>\n",
       "    <tr>\n",
       "      <th>197</th>\n",
       "      <td>398</td>\n",
       "      <td>32.84</td>\n",
       "      <td>3.97</td>\n",
       "      <td>0.75</td>\n",
       "      <td>29402.89</td>\n",
       "      <td>-441.77</td>\n",
       "      <td>-3908.37</td>\n",
       "      <td>0</td>\n",
       "      <td>0</td>\n",
       "    </tr>\n",
       "    <tr>\n",
       "      <th>198</th>\n",
       "      <td>399</td>\n",
       "      <td>43.89</td>\n",
       "      <td>13.97</td>\n",
       "      <td>0.08</td>\n",
       "      <td>43729.53</td>\n",
       "      <td>-243.76</td>\n",
       "      <td>-2534.89</td>\n",
       "      <td>0</td>\n",
       "      <td>0</td>\n",
       "    </tr>\n",
       "    <tr>\n",
       "      <th>199</th>\n",
       "      <td>400</td>\n",
       "      <td>41.33</td>\n",
       "      <td>6.56</td>\n",
       "      <td>1.41</td>\n",
       "      <td>53666.25</td>\n",
       "      <td>-1227.51</td>\n",
       "      <td>-10750.94</td>\n",
       "      <td>0</td>\n",
       "      <td>0</td>\n",
       "    </tr>\n",
       "  </tbody>\n",
       "</table>\n",
       "<p>200 rows × 9 columns</p>\n",
       "</div>"
      ],
      "text/plain": [
       "     UniqueApplicantID    Age  YearsatEmployer  YearsatAddress   Income  CreditCardDebt  AutomobileDebt  Default  Prediction\n",
       "0                   201 25.92             0.35            0.24 12180.60        -2057.28        -3696.31        1           1\n",
       "1                   202 27.80             4.47            0.37 38536.24        -6970.27        -3018.06        1           1\n",
       "2                   203 37.33             9.30            0.02 30601.95        -2891.77        -1673.64        0           0\n",
       "3                   204 28.00             8.43            1.06 15587.51          -38.11        -1757.87        0           0\n",
       "4                   205 39.24             5.40            0.74 27598.76         -775.59        -4374.05        0           0\n",
       "..                  ...   ...              ...             ...      ...             ...             ...      ...         ...\n",
       "195                 396 49.66            16.02            0.24 70526.44        -3099.77       -13605.37        0           0\n",
       "196                 397 23.78             2.97            0.70 17317.67         -122.44          104.16        0           0\n",
       "197                 398 32.84             3.97            0.75 29402.89         -441.77        -3908.37        0           0\n",
       "198                 399 43.89            13.97            0.08 43729.53         -243.76        -2534.89        0           0\n",
       "199                 400 41.33             6.56            1.41 53666.25        -1227.51       -10750.94        0           0\n",
       "\n",
       "[200 rows x 9 columns]"
      ]
     },
     "execution_count": 58,
     "metadata": {},
     "output_type": "execute_result"
    }
   ],
   "source": [
    "table2 = pd.concat([actual_test,test_pred_df], axis=1)\n",
    "table2"
   ]
  },
  {
   "cell_type": "code",
   "execution_count": 59,
   "metadata": {},
   "outputs": [
    {
     "data": {
      "text/plain": [
       "Counter({1: 50, 0: 150})"
      ]
     },
     "execution_count": 59,
     "metadata": {},
     "output_type": "execute_result"
    }
   ],
   "source": [
    "Counter(table2.Default)"
   ]
  },
  {
   "cell_type": "code",
   "execution_count": 60,
   "metadata": {},
   "outputs": [
    {
     "data": {
      "text/plain": [
       "Counter({1: 37, 0: 163})"
      ]
     },
     "execution_count": 60,
     "metadata": {},
     "output_type": "execute_result"
    }
   ],
   "source": [
    "Counter(table2.Prediction)"
   ]
  },
  {
   "cell_type": "code",
   "execution_count": 61,
   "metadata": {},
   "outputs": [],
   "source": [
    "no_default = table2[table2[\"Prediction\"] == 0]"
   ]
  },
  {
   "cell_type": "code",
   "execution_count": 62,
   "metadata": {},
   "outputs": [
    {
     "data": {
      "text/plain": [
       "-7300.799018404908"
      ]
     },
     "execution_count": 62,
     "metadata": {},
     "output_type": "execute_result"
    }
   ],
   "source": [
    "debt = no_default.CreditCardDebt.sum() + no_default.AutomobileDebt.sum()\n",
    "debt / 163"
   ]
  },
  {
   "cell_type": "markdown",
   "metadata": {},
   "source": [
    "#### Python code done by Dennis Lam"
   ]
  },
  {
   "cell_type": "code",
   "execution_count": null,
   "metadata": {},
   "outputs": [],
   "source": []
  }
 ],
 "metadata": {
  "kernelspec": {
   "display_name": "Python 3 (ipykernel)",
   "language": "python",
   "name": "python3"
  },
  "language_info": {
   "codemirror_mode": {
    "name": "ipython",
    "version": 3
   },
   "file_extension": ".py",
   "mimetype": "text/x-python",
   "name": "python",
   "nbconvert_exporter": "python",
   "pygments_lexer": "ipython3",
   "version": "3.9.7"
  }
 },
 "nbformat": 4,
 "nbformat_minor": 4
}
